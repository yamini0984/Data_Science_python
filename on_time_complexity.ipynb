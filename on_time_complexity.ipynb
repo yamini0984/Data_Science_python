{
  "nbformat": 4,
  "nbformat_minor": 0,
  "metadata": {
    "colab": {
      "provenance": [],
      "authorship_tag": "ABX9TyOOsEmknOMblLkbvTerGQmu",
      "include_colab_link": true
    },
    "kernelspec": {
      "name": "python3",
      "display_name": "Python 3"
    },
    "language_info": {
      "name": "python"
    }
  },
  "cells": [
    {
      "cell_type": "markdown",
      "metadata": {
        "id": "view-in-github",
        "colab_type": "text"
      },
      "source": [
        "<a href=\"https://colab.research.google.com/github/yamini0984/Data_Science_python/blob/main/on_time_complexity.ipynb\" target=\"_parent\"><img src=\"https://colab.research.google.com/assets/colab-badge.svg\" alt=\"Open In Colab\"/></a>"
      ]
    },
    {
      "cell_type": "markdown",
      "source": [
        "efficiency in writing program\n",
        "\n",
        "Based on Time and space\n",
        "\n",
        "A program take time to execute\n",
        "eg. google search gives information about pages and times within few seconds\n",
        "\n",
        "so need to write efficiency algorithms, pagerank algorithm for google\n",
        "\n",
        "companies brings lite app versions for efficiency\n",
        "\n",
        "A program takes space to execute\n",
        "\n",
        "\n"
      ],
      "metadata": {
        "id": "-JETeoQzvu0O"
      }
    },
    {
      "cell_type": "markdown",
      "source": [
        "techniques to measure time efficiency\n",
        "\n",
        "1. Measuring time to execute\n",
        "2. counting operations involved\n",
        "3. abstract notion of order of growth"
      ],
      "metadata": {
        "id": "-lzrc-UJx8dv"
      }
    },
    {
      "cell_type": "code",
      "execution_count": 3,
      "metadata": {
        "colab": {
          "base_uri": "https://localhost:8080/"
        },
        "id": "CCoulRGZvo3x",
        "outputId": "b4492a77-dffe-4e7d-c069-b3da98ae913b"
      },
      "outputs": [
        {
          "output_type": "stream",
          "name": "stdout",
          "text": [
            "enter the number345\n",
            "345\n"
          ]
        }
      ],
      "source": [
        "number = int(input('enter the number'))\n",
        "\n",
        "digits = '0123456789'\n",
        "result = ''\n",
        "while number != 0:\n",
        "  result = digits[number % 10] + result\n",
        "  number = number//10\n",
        "\n",
        "print(result)"
      ]
    },
    {
      "cell_type": "code",
      "source": [
        "L = [1,2,3,4]\n",
        "\n",
        "sum = 0\n",
        "for i in L:\n",
        "  sum = sum + i\n",
        "\n",
        "product = 1\n",
        "for i in L:\n",
        "  product = product*i\n",
        "\n",
        "print(sum,product)"
      ],
      "metadata": {
        "colab": {
          "base_uri": "https://localhost:8080/"
        },
        "id": "AJmqmeUJvzRf",
        "outputId": "4d7e8c2c-9fee-42b8-901e-21d78f15fdec"
      },
      "execution_count": 4,
      "outputs": [
        {
          "output_type": "stream",
          "name": "stdout",
          "text": [
            "10 24\n"
          ]
        }
      ]
    },
    {
      "cell_type": "code",
      "source": [
        "A = [1,2,3,4]\n",
        "B = [5,6,7,8]\n",
        "for i in A:\n",
        "  for j in B:\n",
        "    print(i,j)"
      ],
      "metadata": {
        "id": "QteAjbbov352"
      },
      "execution_count": null,
      "outputs": []
    },
    {
      "cell_type": "code",
      "source": [
        "A = [1,2,3,4]\n",
        "B = [5,6,7,8]\n",
        "\n",
        "for i in A:\n",
        "  for j in B:\n",
        "    for k in range(1000000):\n",
        "      print(i,j)"
      ],
      "metadata": {
        "id": "Vj6IVPJDv3-4"
      },
      "execution_count": null,
      "outputs": []
    },
    {
      "cell_type": "code",
      "source": [
        "L = [1,2,3,4,5]\n",
        "\n",
        "for i in range(0,len(L)//2):\n",
        "  other = len(L) - i -1\n",
        "  temp = L[i]\n",
        "  L[i] = L[other]\n",
        "  L[other] = temp\n",
        "\n",
        "print(L)"
      ],
      "metadata": {
        "id": "1Z1TlajVv4Dt"
      },
      "execution_count": null,
      "outputs": []
    },
    {
      "cell_type": "code",
      "source": [
        "n = 10\n",
        "k = 0;\n",
        "for i in range(n//2,n):\n",
        "  for j in range(2,n,pow(2,j)):\n",
        "        k = k + n / 2;\n",
        "\n",
        "print(k)"
      ],
      "metadata": {
        "id": "yjACOJInv4HX"
      },
      "execution_count": null,
      "outputs": []
    },
    {
      "cell_type": "code",
      "source": [
        "a = 10\n",
        "b = 3\n",
        "\n",
        "if b <= 0:\n",
        "  print(-1)\n",
        "div = a//b\n",
        "\n",
        "print(a-div-b)"
      ],
      "metadata": {
        "id": "PzkpljWEv4LA"
      },
      "execution_count": null,
      "outputs": []
    },
    {
      "cell_type": "code",
      "source": [
        "n = 345\n",
        "\n",
        "sum = 0\n",
        "while n>0:\n",
        "  sum = sum + n%10\n",
        "  n = n // 10\n",
        "\n",
        "print(sum)"
      ],
      "metadata": {
        "id": "viuWf8Mtv4Oo"
      },
      "execution_count": null,
      "outputs": []
    },
    {
      "cell_type": "code",
      "source": [
        "def fib(n):\n",
        "  if n == 1 or n == 0:\n",
        "    return 1\n",
        "  else:\n",
        "    return fib(n-1) + fib(n-2)"
      ],
      "metadata": {
        "id": "TWNdV5JCv4Sc"
      },
      "execution_count": null,
      "outputs": []
    },
    {
      "cell_type": "markdown",
      "source": [
        "# Subset Algo"
      ],
      "metadata": {
        "id": "g6RbdK_gxyVM"
      }
    },
    {
      "cell_type": "code",
      "source": [
        "     {3T(n-1) if n>0\n",
        "T(n) = {1, otherwise"
      ],
      "metadata": {
        "id": "ozxCdT3nxuq9"
      },
      "execution_count": null,
      "outputs": []
    },
    {
      "cell_type": "code",
      "source": [
        "    {2T(n-1)-1 if n>0\n",
        "T(n) = {1, otherwise"
      ],
      "metadata": {
        "id": "rDUiPO70xuuz"
      },
      "execution_count": null,
      "outputs": []
    },
    {
      "cell_type": "code",
      "source": [],
      "metadata": {
        "id": "uWOFtPinxuyj"
      },
      "execution_count": null,
      "outputs": []
    },
    {
      "cell_type": "code",
      "source": [],
      "metadata": {
        "id": "qbIc8YUoxu2F"
      },
      "execution_count": null,
      "outputs": []
    }
  ]
}