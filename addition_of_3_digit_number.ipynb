{
  "nbformat": 4,
  "nbformat_minor": 0,
  "metadata": {
    "colab": {
      "provenance": [],
      "authorship_tag": "ABX9TyOJNjgpJcbVLxiAAJyturko",
      "include_colab_link": true
    },
    "kernelspec": {
      "name": "python3",
      "display_name": "Python 3"
    },
    "language_info": {
      "name": "python"
    }
  },
  "cells": [
    {
      "cell_type": "markdown",
      "metadata": {
        "id": "view-in-github",
        "colab_type": "text"
      },
      "source": [
        "<a href=\"https://colab.research.google.com/github/yamini0984/Data_Science_python/blob/main/addition_of_3_digit_number.ipynb\" target=\"_parent\"><img src=\"https://colab.research.google.com/assets/colab-badge.svg\" alt=\"Open In Colab\"/></a>"
      ]
    },
    {
      "cell_type": "markdown",
      "source": [
        "Program find sum of 3 digit number enter by user"
      ],
      "metadata": {
        "id": "N0XsxsQc4mEm"
      }
    },
    {
      "cell_type": "code",
      "execution_count": null,
      "metadata": {
        "colab": {
          "base_uri": "https://localhost:8080/"
        },
        "id": "wa-IfLva4kkb",
        "outputId": "595bd810-8fbf-4939-8a79-a74f33591a6c"
      },
      "outputs": [
        {
          "name": "stdout",
          "output_type": "stream",
          "text": [
            "Please enter 3 digit number 123\n"
          ]
        }
      ],
      "source": [
        "number = int(input('Please enter 3 digit number '))"
      ]
    },
    {
      "cell_type": "code",
      "source": [
        "number"
      ],
      "metadata": {
        "colab": {
          "base_uri": "https://localhost:8080/"
        },
        "id": "UsypUz8N4zDq",
        "outputId": "cc40b925-48fa-43b8-c616-106ee3f2cfe3"
      },
      "execution_count": null,
      "outputs": [
        {
          "output_type": "execute_result",
          "data": {
            "text/plain": [
              "123"
            ]
          },
          "metadata": {},
          "execution_count": 14
        }
      ]
    },
    {
      "cell_type": "code",
      "source": [
        "#123%10\n",
        "a = number%10"
      ],
      "metadata": {
        "id": "zk9scTb65O-a"
      },
      "execution_count": null,
      "outputs": []
    },
    {
      "cell_type": "code",
      "source": [
        "a"
      ],
      "metadata": {
        "colab": {
          "base_uri": "https://localhost:8080/"
        },
        "id": "d66DShYz5ZA_",
        "outputId": "4f3270f8-e353-4d07-a7fe-d7e4452d6fef"
      },
      "execution_count": null,
      "outputs": [
        {
          "output_type": "execute_result",
          "data": {
            "text/plain": [
              "3"
            ]
          },
          "metadata": {},
          "execution_count": 16
        }
      ]
    },
    {
      "cell_type": "code",
      "source": [
        "number = number//10"
      ],
      "metadata": {
        "id": "fppcWn-u5aWS"
      },
      "execution_count": null,
      "outputs": []
    },
    {
      "cell_type": "code",
      "source": [
        "number"
      ],
      "metadata": {
        "colab": {
          "base_uri": "https://localhost:8080/"
        },
        "id": "IL9duI6C5jjB",
        "outputId": "5853b428-dca7-4db2-99ee-6de680dc1e1a"
      },
      "execution_count": null,
      "outputs": [
        {
          "output_type": "execute_result",
          "data": {
            "text/plain": [
              "12"
            ]
          },
          "metadata": {},
          "execution_count": 18
        }
      ]
    },
    {
      "cell_type": "code",
      "source": [
        "# 12%10\n",
        "b = number%10"
      ],
      "metadata": {
        "id": "Y-xQuaE45k5H"
      },
      "execution_count": null,
      "outputs": []
    },
    {
      "cell_type": "code",
      "source": [
        "b"
      ],
      "metadata": {
        "colab": {
          "base_uri": "https://localhost:8080/"
        },
        "id": "000WcOfy5u8q",
        "outputId": "24d073d0-ddab-4478-c249-2cc58fa0cb79"
      },
      "execution_count": null,
      "outputs": [
        {
          "output_type": "execute_result",
          "data": {
            "text/plain": [
              "2"
            ]
          },
          "metadata": {},
          "execution_count": 20
        }
      ]
    },
    {
      "cell_type": "code",
      "source": [
        "number = number//10\n"
      ],
      "metadata": {
        "id": "ZryS2Nrk5wME"
      },
      "execution_count": null,
      "outputs": []
    },
    {
      "cell_type": "code",
      "source": [
        "number"
      ],
      "metadata": {
        "colab": {
          "base_uri": "https://localhost:8080/"
        },
        "id": "Xc0bsAzm51Fc",
        "outputId": "93224e50-4f39-4d90-f9f5-0f5bfd4c84e9"
      },
      "execution_count": null,
      "outputs": [
        {
          "output_type": "execute_result",
          "data": {
            "text/plain": [
              "1"
            ]
          },
          "metadata": {},
          "execution_count": 22
        }
      ]
    },
    {
      "cell_type": "code",
      "source": [
        "# 1%10\n",
        "c = number%10\n",
        "c"
      ],
      "metadata": {
        "colab": {
          "base_uri": "https://localhost:8080/"
        },
        "id": "5bLCcukG58Hf",
        "outputId": "382d3fad-1dcd-408a-e434-a9ae8333c3ef"
      },
      "execution_count": null,
      "outputs": [
        {
          "output_type": "execute_result",
          "data": {
            "text/plain": [
              "1"
            ]
          },
          "metadata": {},
          "execution_count": 23
        }
      ]
    },
    {
      "cell_type": "code",
      "source": [
        "print(a+b+c)"
      ],
      "metadata": {
        "colab": {
          "base_uri": "https://localhost:8080/"
        },
        "id": "GkLmMqZN6bNp",
        "outputId": "cdc24f66-afc0-45a4-baa4-f9847b6472ca"
      },
      "execution_count": null,
      "outputs": [
        {
          "output_type": "stream",
          "name": "stdout",
          "text": [
            "6\n"
          ]
        }
      ]
    },
    {
      "cell_type": "markdown",
      "source": [
        "if- else in python example\n",
        "\n",
        "login program and indentation"
      ],
      "metadata": {
        "id": "PWfStDeq7S22"
      }
    },
    {
      "cell_type": "code",
      "source": [
        "email = input('Enter email')\n",
        "password = input('enter password')"
      ],
      "metadata": {
        "colab": {
          "base_uri": "https://localhost:8080/"
        },
        "id": "2Otn_kDB66WY",
        "outputId": "457966c3-d113-4630-91ac-90cfaca10ace"
      },
      "execution_count": null,
      "outputs": [
        {
          "name": "stdout",
          "output_type": "stream",
          "text": [
            "Enter emailnitish.campusx@gmail.com\n",
            "enter password12345\n"
          ]
        }
      ]
    },
    {
      "cell_type": "code",
      "source": [
        "if email == 'emailnitish.campusx@gmail.com' and password == '12345':\n",
        "  print('Welcome')\n",
        "elif email == 'emailnitish.campusx@gmail.com' and password != '12345':\n",
        " print('Incorrect password')\n",
        " password = input('enter password again')\n",
        " if password =='12345':\n",
        "    print('Welcome, Finally!')\n",
        "else:\n",
        "    print('Not correct')\n"
      ],
      "metadata": {
        "colab": {
          "base_uri": "https://localhost:8080/"
        },
        "id": "fOaM1Vvg7bq7",
        "outputId": "509ac69e-f293-4a31-cf85-92fe33c3e1cf"
      },
      "execution_count": null,
      "outputs": [
        {
          "output_type": "stream",
          "name": "stdout",
          "text": [
            "Not correct\n"
          ]
        }
      ]
    },
    {
      "cell_type": "markdown",
      "source": [
        "Minimum number among the numbers"
      ],
      "metadata": {
        "id": "-o1L8-m9CoP5"
      }
    },
    {
      "cell_type": "code",
      "source": [
        "a = int(input('enter number '))\n",
        "b = int(input('enter number '))\n",
        "c = int(input('enter number '))"
      ],
      "metadata": {
        "colab": {
          "base_uri": "https://localhost:8080/"
        },
        "id": "W5DdpIRQCnnC",
        "outputId": "8f75467d-4600-433f-c4d3-d91039b1af01"
      },
      "execution_count": null,
      "outputs": [
        {
          "name": "stdout",
          "output_type": "stream",
          "text": [
            "enter number 12\n",
            "enter number 49\n",
            "enter number 35\n"
          ]
        }
      ]
    },
    {
      "cell_type": "code",
      "source": [
        "if a<b and a<c:\n",
        "  print('Smallest is ',a)\n",
        "elif b<c:\n",
        "  print('Smallest is ',b)\n",
        "else:\n",
        "  print('Smallest is ',c)\n"
      ],
      "metadata": {
        "colab": {
          "base_uri": "https://localhost:8080/"
        },
        "id": "gB7egsgcDFes",
        "outputId": "efb37ef4-fc6d-4483-ae82-1954a684afc0"
      },
      "execution_count": null,
      "outputs": [
        {
          "output_type": "stream",
          "name": "stdout",
          "text": [
            "Smallest is  12\n"
          ]
        }
      ]
    },
    {
      "cell_type": "markdown",
      "source": [
        "Menu driven caluculation"
      ],
      "metadata": {
        "id": "aAE3XhnIEIwS"
      }
    },
    {
      "cell_type": "code",
      "source": [
        "fnum = int(input('Please enter first number '))\n",
        "snum = int(input('Please enter sencond number '))"
      ],
      "metadata": {
        "colab": {
          "base_uri": "https://localhost:8080/"
        },
        "id": "20f9lGH8DFv8",
        "outputId": "1ee4933e-3acc-43d9-d0e2-0966bcf62a05"
      },
      "execution_count": null,
      "outputs": [
        {
          "name": "stdout",
          "output_type": "stream",
          "text": [
            "Please enter first number 12\n",
            "Please enter sencond number 23\n"
          ]
        }
      ]
    },
    {
      "cell_type": "code",
      "source": [
        "op = input('Enter the operation ')\n",
        "\n",
        "if op == '+':\n",
        "  print(fnum + snum)\n",
        "elif op == '-':\n",
        "  print(fnum - sum)\n",
        "elif op == '*':\n",
        "  print(fnum * snum)\n",
        "else:\n",
        "  print('fnum / snum')"
      ],
      "metadata": {
        "colab": {
          "base_uri": "https://localhost:8080/"
        },
        "id": "beP-rcDgELVA",
        "outputId": "95cad5cf-0ca8-4a4c-8e4a-5cd6a0c4df07"
      },
      "execution_count": null,
      "outputs": [
        {
          "output_type": "stream",
          "name": "stdout",
          "text": [
            "Enter the operation *\n",
            "276\n"
          ]
        }
      ]
    },
    {
      "cell_type": "code",
      "source": [],
      "metadata": {
        "id": "mhS83n2RF2BZ"
      },
      "execution_count": null,
      "outputs": []
    }
  ]
}