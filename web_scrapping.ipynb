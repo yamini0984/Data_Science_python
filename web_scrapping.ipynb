{
 "cells": [
  {
   "cell_type": "code",
   "execution_count": null,
   "id": "f58784c2",
   "metadata": {},
   "outputs": [],
   "source": [
    "#!pip install requests"
   ]
  },
  {
   "cell_type": "code",
   "execution_count": 2,
   "id": "35c594d6",
   "metadata": {},
   "outputs": [],
   "source": [
    "import pandas as pd"
   ]
  },
  {
   "cell_type": "code",
   "execution_count": 7,
   "id": "13b46dd5",
   "metadata": {},
   "outputs": [
    {
     "data": {
      "text/plain": [
       "['BooleanDtype',\n",
       " 'Categorical',\n",
       " 'CategoricalDtype',\n",
       " 'CategoricalIndex',\n",
       " 'DataFrame',\n",
       " 'DateOffset',\n",
       " 'DatetimeIndex',\n",
       " 'DatetimeTZDtype',\n",
       " 'ExcelFile',\n",
       " 'ExcelWriter',\n",
       " 'Flags',\n",
       " 'Float32Dtype',\n",
       " 'Float64Dtype',\n",
       " 'Float64Index',\n",
       " 'Grouper',\n",
       " 'HDFStore',\n",
       " 'Index',\n",
       " 'IndexSlice',\n",
       " 'Int16Dtype',\n",
       " 'Int32Dtype',\n",
       " 'Int64Dtype',\n",
       " 'Int64Index',\n",
       " 'Int8Dtype',\n",
       " 'Interval',\n",
       " 'IntervalDtype',\n",
       " 'IntervalIndex',\n",
       " 'MultiIndex',\n",
       " 'NA',\n",
       " 'NaT',\n",
       " 'NamedAgg',\n",
       " 'Period',\n",
       " 'PeriodDtype',\n",
       " 'PeriodIndex',\n",
       " 'RangeIndex',\n",
       " 'Series',\n",
       " 'SparseDtype',\n",
       " 'StringDtype',\n",
       " 'Timedelta',\n",
       " 'TimedeltaIndex',\n",
       " 'Timestamp',\n",
       " 'UInt16Dtype',\n",
       " 'UInt32Dtype',\n",
       " 'UInt64Dtype',\n",
       " 'UInt64Index',\n",
       " 'UInt8Dtype',\n",
       " '__all__',\n",
       " '__builtins__',\n",
       " '__cached__',\n",
       " '__deprecated_num_index_names',\n",
       " '__dir__',\n",
       " '__doc__',\n",
       " '__docformat__',\n",
       " '__file__',\n",
       " '__getattr__',\n",
       " '__git_version__',\n",
       " '__loader__',\n",
       " '__name__',\n",
       " '__package__',\n",
       " '__path__',\n",
       " '__spec__',\n",
       " '__version__',\n",
       " '_config',\n",
       " '_is_numpy_dev',\n",
       " '_libs',\n",
       " '_testing',\n",
       " '_typing',\n",
       " '_version',\n",
       " 'api',\n",
       " 'array',\n",
       " 'arrays',\n",
       " 'bdate_range',\n",
       " 'compat',\n",
       " 'concat',\n",
       " 'core',\n",
       " 'crosstab',\n",
       " 'cut',\n",
       " 'date_range',\n",
       " 'describe_option',\n",
       " 'errors',\n",
       " 'eval',\n",
       " 'factorize',\n",
       " 'get_dummies',\n",
       " 'get_option',\n",
       " 'infer_freq',\n",
       " 'interval_range',\n",
       " 'io',\n",
       " 'isna',\n",
       " 'isnull',\n",
       " 'json_normalize',\n",
       " 'lreshape',\n",
       " 'melt',\n",
       " 'merge',\n",
       " 'merge_asof',\n",
       " 'merge_ordered',\n",
       " 'notna',\n",
       " 'notnull',\n",
       " 'offsets',\n",
       " 'option_context',\n",
       " 'options',\n",
       " 'pandas',\n",
       " 'period_range',\n",
       " 'pivot',\n",
       " 'pivot_table',\n",
       " 'plotting',\n",
       " 'qcut',\n",
       " 'read_clipboard',\n",
       " 'read_csv',\n",
       " 'read_excel',\n",
       " 'read_feather',\n",
       " 'read_fwf',\n",
       " 'read_gbq',\n",
       " 'read_hdf',\n",
       " 'read_html',\n",
       " 'read_json',\n",
       " 'read_orc',\n",
       " 'read_parquet',\n",
       " 'read_pickle',\n",
       " 'read_sas',\n",
       " 'read_spss',\n",
       " 'read_sql',\n",
       " 'read_sql_query',\n",
       " 'read_sql_table',\n",
       " 'read_stata',\n",
       " 'read_table',\n",
       " 'read_xml',\n",
       " 'reset_option',\n",
       " 'set_eng_float_format',\n",
       " 'set_option',\n",
       " 'show_versions',\n",
       " 'test',\n",
       " 'testing',\n",
       " 'timedelta_range',\n",
       " 'to_datetime',\n",
       " 'to_numeric',\n",
       " 'to_pickle',\n",
       " 'to_timedelta',\n",
       " 'tseries',\n",
       " 'unique',\n",
       " 'util',\n",
       " 'value_counts',\n",
       " 'wide_to_long']"
      ]
     },
     "execution_count": 7,
     "metadata": {},
     "output_type": "execute_result"
    }
   ],
   "source": [
    "dir(pd)"
   ]
  },
  {
   "cell_type": "code",
   "execution_count": 41,
   "id": "af5d9df4",
   "metadata": {},
   "outputs": [
    {
     "data": {
      "text/plain": [
       "<_io.TextIOWrapper name='foo.txt' mode='r' encoding='cp1252'>"
      ]
     },
     "execution_count": 41,
     "metadata": {},
     "output_type": "execute_result"
    }
   ],
   "source": [
    "fo = open('foo.txt', 'r')\n",
    "fo"
   ]
  },
  {
   "cell_type": "code",
   "execution_count": 42,
   "id": "ef296917",
   "metadata": {},
   "outputs": [
    {
     "data": {
      "text/plain": [
       "'neha\\nthis is a test'"
      ]
     },
     "execution_count": 42,
     "metadata": {},
     "output_type": "execute_result"
    }
   ],
   "source": [
    "fo.read()"
   ]
  },
  {
   "cell_type": "code",
   "execution_count": 43,
   "id": "91b439d6",
   "metadata": {},
   "outputs": [
    {
     "data": {
      "text/plain": [
       "20"
      ]
     },
     "execution_count": 43,
     "metadata": {},
     "output_type": "execute_result"
    }
   ],
   "source": [
    "fo.tell()"
   ]
  },
  {
   "cell_type": "code",
   "execution_count": 45,
   "id": "b473ce14",
   "metadata": {},
   "outputs": [
    {
     "data": {
      "text/plain": [
       "5"
      ]
     },
     "execution_count": 45,
     "metadata": {},
     "output_type": "execute_result"
    }
   ],
   "source": [
    "fo.seek(5,0)"
   ]
  },
  {
   "cell_type": "code",
   "execution_count": 46,
   "id": "cdcde1fb",
   "metadata": {},
   "outputs": [
    {
     "data": {
      "text/plain": [
       "5"
      ]
     },
     "execution_count": 46,
     "metadata": {},
     "output_type": "execute_result"
    }
   ],
   "source": [
    "fo.tell()"
   ]
  },
  {
   "cell_type": "code",
   "execution_count": 58,
   "id": "b3cf25e3",
   "metadata": {},
   "outputs": [
    {
     "data": {
      "text/plain": [
       "0"
      ]
     },
     "execution_count": 58,
     "metadata": {},
     "output_type": "execute_result"
    }
   ],
   "source": [
    "fo = open(\"foo.txt\",\"w+\")\n",
    "fo.tell()\n",
    "fo.seek(0,0)\n",
    "fo.tell()"
   ]
  },
  {
   "cell_type": "code",
   "execution_count": 59,
   "id": "a83878b4",
   "metadata": {},
   "outputs": [
    {
     "data": {
      "text/plain": [
       "38"
      ]
     },
     "execution_count": 59,
     "metadata": {},
     "output_type": "execute_result"
    }
   ],
   "source": [
    "list= ['# This is 6th line', \"\\n\",'# This is 7th line']\n",
    "fo.writelines(list)\n",
    "fo.tell()\n"
   ]
  },
  {
   "cell_type": "code",
   "execution_count": 64,
   "id": "0847b016",
   "metadata": {},
   "outputs": [],
   "source": [
    "fo.close()"
   ]
  },
  {
   "cell_type": "code",
   "execution_count": 65,
   "id": "d845f0a8",
   "metadata": {},
   "outputs": [
    {
     "data": {
      "text/plain": [
       "True"
      ]
     },
     "execution_count": 65,
     "metadata": {},
     "output_type": "execute_result"
    }
   ],
   "source": [
    "fo.closed"
   ]
  },
  {
   "cell_type": "code",
   "execution_count": 60,
   "id": "6bd93540",
   "metadata": {},
   "outputs": [],
   "source": [
    "import os\n"
   ]
  },
  {
   "cell_type": "code",
   "execution_count": 61,
   "id": "f01d8a2a",
   "metadata": {},
   "outputs": [
    {
     "data": {
      "text/plain": [
       "'C:\\\\Users\\\\Neha\\\\Documents\\\\ExcelR_batch_material\\\\DS_course_material\\\\Python_for_DS\\\\Day6'"
      ]
     },
     "execution_count": 61,
     "metadata": {},
     "output_type": "execute_result"
    }
   ],
   "source": [
    "os.getcwd()"
   ]
  },
  {
   "cell_type": "code",
   "execution_count": 67,
   "id": "ada1ffe8",
   "metadata": {},
   "outputs": [],
   "source": [
    "os.rename('Salaries.xlsx', 't1.xlsx')"
   ]
  },
  {
   "cell_type": "code",
   "execution_count": 68,
   "id": "1ef12221",
   "metadata": {},
   "outputs": [],
   "source": [
    "d1 = pd.read_excel('t1.xlsx')"
   ]
  },
  {
   "cell_type": "code",
   "execution_count": 73,
   "id": "f30e78ea",
   "metadata": {},
   "outputs": [],
   "source": [
    "d1.to_csv('test.csv')"
   ]
  },
  {
   "cell_type": "code",
   "execution_count": 70,
   "id": "9c917f3b",
   "metadata": {},
   "outputs": [],
   "source": [
    "os.mkdir('test')"
   ]
  },
  {
   "cell_type": "code",
   "execution_count": 71,
   "id": "63133fa2",
   "metadata": {},
   "outputs": [],
   "source": [
    "os.chdir('test')"
   ]
  },
  {
   "cell_type": "code",
   "execution_count": 72,
   "id": "d8d4d641",
   "metadata": {},
   "outputs": [
    {
     "data": {
      "text/plain": [
       "'C:\\\\Users\\\\Neha\\\\Documents\\\\ExcelR_batch_material\\\\DS_course_material\\\\Python_for_DS\\\\Day6\\\\test'"
      ]
     },
     "execution_count": 72,
     "metadata": {},
     "output_type": "execute_result"
    }
   ],
   "source": [
    "os.getcwd()"
   ]
  },
  {
   "cell_type": "code",
   "execution_count": 1,
   "id": "d9299585",
   "metadata": {},
   "outputs": [],
   "source": [
    "import sklearn"
   ]
  },
  {
   "cell_type": "code",
   "execution_count": 2,
   "id": "55cbc498",
   "metadata": {},
   "outputs": [
    {
     "data": {
      "text/plain": [
       "['__SKLEARN_SETUP__',\n",
       " '__all__',\n",
       " '__builtins__',\n",
       " '__cached__',\n",
       " '__check_build',\n",
       " '__doc__',\n",
       " '__file__',\n",
       " '__loader__',\n",
       " '__name__',\n",
       " '__package__',\n",
       " '__path__',\n",
       " '__spec__',\n",
       " '__version__',\n",
       " '_config',\n",
       " '_distributor_init',\n",
       " 'base',\n",
       " 'clone',\n",
       " 'config_context',\n",
       " 'exceptions',\n",
       " 'externals',\n",
       " 'get_config',\n",
       " 'logger',\n",
       " 'logging',\n",
       " 'os',\n",
       " 'random',\n",
       " 'set_config',\n",
       " 'setup_module',\n",
       " 'show_versions',\n",
       " 'sys',\n",
       " 'utils']"
      ]
     },
     "execution_count": 2,
     "metadata": {},
     "output_type": "execute_result"
    }
   ],
   "source": [
    "dir(sklearn)"
   ]
  },
  {
   "cell_type": "code",
   "execution_count": 3,
   "id": "e26cf210",
   "metadata": {},
   "outputs": [
    {
     "data": {
      "text/plain": [
       "['__abs__',\n",
       " '__add__',\n",
       " '__and__',\n",
       " '__bool__',\n",
       " '__ceil__',\n",
       " '__class__',\n",
       " '__delattr__',\n",
       " '__dir__',\n",
       " '__divmod__',\n",
       " '__doc__',\n",
       " '__eq__',\n",
       " '__float__',\n",
       " '__floor__',\n",
       " '__floordiv__',\n",
       " '__format__',\n",
       " '__ge__',\n",
       " '__getattribute__',\n",
       " '__getnewargs__',\n",
       " '__gt__',\n",
       " '__hash__',\n",
       " '__index__',\n",
       " '__init__',\n",
       " '__init_subclass__',\n",
       " '__int__',\n",
       " '__invert__',\n",
       " '__le__',\n",
       " '__lshift__',\n",
       " '__lt__',\n",
       " '__mod__',\n",
       " '__mul__',\n",
       " '__ne__',\n",
       " '__neg__',\n",
       " '__new__',\n",
       " '__or__',\n",
       " '__pos__',\n",
       " '__pow__',\n",
       " '__radd__',\n",
       " '__rand__',\n",
       " '__rdivmod__',\n",
       " '__reduce__',\n",
       " '__reduce_ex__',\n",
       " '__repr__',\n",
       " '__rfloordiv__',\n",
       " '__rlshift__',\n",
       " '__rmod__',\n",
       " '__rmul__',\n",
       " '__ror__',\n",
       " '__round__',\n",
       " '__rpow__',\n",
       " '__rrshift__',\n",
       " '__rshift__',\n",
       " '__rsub__',\n",
       " '__rtruediv__',\n",
       " '__rxor__',\n",
       " '__setattr__',\n",
       " '__sizeof__',\n",
       " '__str__',\n",
       " '__sub__',\n",
       " '__subclasshook__',\n",
       " '__truediv__',\n",
       " '__trunc__',\n",
       " '__xor__',\n",
       " 'as_integer_ratio',\n",
       " 'bit_length',\n",
       " 'conjugate',\n",
       " 'denominator',\n",
       " 'from_bytes',\n",
       " 'imag',\n",
       " 'numerator',\n",
       " 'real',\n",
       " 'to_bytes']"
      ]
     },
     "execution_count": 3,
     "metadata": {},
     "output_type": "execute_result"
    }
   ],
   "source": [
    "a = 5\n",
    "dir(a)"
   ]
  },
  {
   "cell_type": "code",
   "execution_count": 5,
   "id": "ee760dbd",
   "metadata": {},
   "outputs": [
    {
     "data": {
      "text/plain": [
       "3"
      ]
     },
     "execution_count": 5,
     "metadata": {},
     "output_type": "execute_result"
    }
   ],
   "source": [
    "a.bit_length()"
   ]
  },
  {
   "cell_type": "code",
   "execution_count": 79,
   "id": "22985793",
   "metadata": {},
   "outputs": [
    {
     "name": "stdout",
     "output_type": "stream",
     "text": [
      "True\n"
     ]
    }
   ],
   "source": [
    "f = None\n",
    "for i in range (5):\n",
    "    with open(\"data.txt\", \"w\") as f:\n",
    "        if (i > 20):\n",
    "            break\n",
    "print(f.closed)\n"
   ]
  },
  {
   "cell_type": "code",
   "execution_count": 80,
   "id": "71752c0c",
   "metadata": {},
   "outputs": [],
   "source": [
    "f = open(\"data.txt\", \"w\")"
   ]
  },
  {
   "cell_type": "code",
   "execution_count": 86,
   "id": "a3561dbe",
   "metadata": {},
   "outputs": [
    {
     "name": "stdout",
     "output_type": "stream",
     "text": [
      "1 False\n",
      "neha True\n"
     ]
    }
   ],
   "source": [
    "with open('data.txt', 'w') as f:\n",
    "    print('1', f.closed)\n",
    "    pass\n",
    "\n",
    "print('neha', f.closed)"
   ]
  },
  {
   "cell_type": "code",
   "execution_count": 83,
   "id": "9e172798",
   "metadata": {},
   "outputs": [
    {
     "data": {
      "text/plain": [
       "True"
      ]
     },
     "execution_count": 83,
     "metadata": {},
     "output_type": "execute_result"
    }
   ],
   "source": [
    "f.closed"
   ]
  },
  {
   "cell_type": "code",
   "execution_count": 7,
   "id": "23219b77",
   "metadata": {},
   "outputs": [
    {
     "ename": "AssertionError",
     "evalue": "",
     "output_type": "error",
     "traceback": [
      "\u001b[1;31m---------------------------------------------------------------------------\u001b[0m",
      "\u001b[1;31mAssertionError\u001b[0m                            Traceback (most recent call last)",
      "\u001b[1;32m~\\AppData\\Local\\Temp\\ipykernel_7092\\2313489592.py\u001b[0m in \u001b[0;36m<module>\u001b[1;34m\u001b[0m\n\u001b[0;32m      1\u001b[0m \u001b[0ma\u001b[0m \u001b[1;33m=\u001b[0m \u001b[1;36m3\u001b[0m\u001b[1;33m\u001b[0m\u001b[1;33m\u001b[0m\u001b[0m\n\u001b[1;32m----> 2\u001b[1;33m \u001b[1;32massert\u001b[0m \u001b[0ma\u001b[0m\u001b[1;33m==\u001b[0m\u001b[1;36m2\u001b[0m\u001b[1;33m\u001b[0m\u001b[1;33m\u001b[0m\u001b[0m\n\u001b[0m",
      "\u001b[1;31mAssertionError\u001b[0m: "
     ]
    }
   ],
   "source": [
    "a = 3\n",
    "assert a==2"
   ]
  },
  {
   "cell_type": "code",
   "execution_count": 8,
   "id": "f37d7121",
   "metadata": {},
   "outputs": [
    {
     "ename": "AttributeError",
     "evalue": "'int' object has no attribute 'append'",
     "output_type": "error",
     "traceback": [
      "\u001b[1;31m---------------------------------------------------------------------------\u001b[0m",
      "\u001b[1;31mAttributeError\u001b[0m                            Traceback (most recent call last)",
      "\u001b[1;32m~\\AppData\\Local\\Temp\\ipykernel_7092\\2547706409.py\u001b[0m in \u001b[0;36m<module>\u001b[1;34m\u001b[0m\n\u001b[1;32m----> 1\u001b[1;33m \u001b[0ma\u001b[0m\u001b[1;33m.\u001b[0m\u001b[0mappend\u001b[0m\u001b[1;33m(\u001b[0m\u001b[1;33m)\u001b[0m\u001b[1;33m\u001b[0m\u001b[1;33m\u001b[0m\u001b[0m\n\u001b[0m",
      "\u001b[1;31mAttributeError\u001b[0m: 'int' object has no attribute 'append'"
     ]
    }
   ],
   "source": [
    "a.append()"
   ]
  },
  {
   "cell_type": "code",
   "execution_count": 87,
   "id": "bc960a3a",
   "metadata": {},
   "outputs": [
    {
     "name": "stdout",
     "output_type": "stream",
     "text": [
      "OOps..file doesnt exist\n"
     ]
    }
   ],
   "source": [
    "try:\n",
    "    f = open(\"somemissingfile.txt\",\"r\")\n",
    "    print(f.read())\n",
    "except IOError:\n",
    "    print(\"OOps..file doesnt exist\")\n",
    "\n",
    "\n"
   ]
  },
  {
   "cell_type": "code",
   "execution_count": 9,
   "id": "2e222ec4",
   "metadata": {},
   "outputs": [
    {
     "name": "stdout",
     "output_type": "stream",
     "text": [
      "[Errno 2] No such file or directory: 'somemissingfile.txt'\n"
     ]
    }
   ],
   "source": [
    "# printing actual exception message\n",
    "try:\n",
    "    f = open(\"somemissingfile.txt\",\"r\")\n",
    "    print(f.read())\n",
    "except Exception as e:\n",
    "    print(e)"
   ]
  },
  {
   "cell_type": "code",
   "execution_count": 11,
   "id": "e5a33697",
   "metadata": {},
   "outputs": [
    {
     "name": "stdout",
     "output_type": "stream",
     "text": [
      "didnt run\n"
     ]
    }
   ],
   "source": [
    "try:\n",
    "    f = open(\"somemissingfile.txt\",\"r\")\n",
    "    print(f.read())\n",
    "except:\n",
    "    print('didnt run')"
   ]
  },
  {
   "cell_type": "code",
   "execution_count": 14,
   "id": "3ec22759",
   "metadata": {},
   "outputs": [],
   "source": [
    "def ageEvenOrOdd(age):\n",
    "    if age<0 :\n",
    "        raise ValueError(\"Oops , age cant be Less than 0\")\n",
    "    elif age==0:\n",
    "        print(\"New Born\")\n",
    "    if age%2==0:\n",
    "        print(\"Age is Even\")\n",
    "    else:\n",
    "        print(\"Age is Odd\")\n"
   ]
  },
  {
   "cell_type": "code",
   "execution_count": 15,
   "id": "2d384477",
   "metadata": {},
   "outputs": [
    {
     "ename": "ValueError",
     "evalue": "Oops , age cant be Less than 0",
     "output_type": "error",
     "traceback": [
      "\u001b[1;31m---------------------------------------------------------------------------\u001b[0m",
      "\u001b[1;31mValueError\u001b[0m                                Traceback (most recent call last)",
      "\u001b[1;32m~\\AppData\\Local\\Temp\\ipykernel_7092\\1020902661.py\u001b[0m in \u001b[0;36m<module>\u001b[1;34m\u001b[0m\n\u001b[1;32m----> 1\u001b[1;33m \u001b[0mageEvenOrOdd\u001b[0m\u001b[1;33m(\u001b[0m\u001b[1;33m-\u001b[0m\u001b[1;36m12\u001b[0m\u001b[1;33m)\u001b[0m\u001b[1;33m\u001b[0m\u001b[1;33m\u001b[0m\u001b[0m\n\u001b[0m",
      "\u001b[1;32m~\\AppData\\Local\\Temp\\ipykernel_7092\\3403770217.py\u001b[0m in \u001b[0;36mageEvenOrOdd\u001b[1;34m(age)\u001b[0m\n\u001b[0;32m      1\u001b[0m \u001b[1;32mdef\u001b[0m \u001b[0mageEvenOrOdd\u001b[0m\u001b[1;33m(\u001b[0m\u001b[0mage\u001b[0m\u001b[1;33m)\u001b[0m\u001b[1;33m:\u001b[0m\u001b[1;33m\u001b[0m\u001b[1;33m\u001b[0m\u001b[0m\n\u001b[0;32m      2\u001b[0m     \u001b[1;32mif\u001b[0m \u001b[0mage\u001b[0m\u001b[1;33m<\u001b[0m\u001b[1;36m0\u001b[0m \u001b[1;33m:\u001b[0m\u001b[1;33m\u001b[0m\u001b[1;33m\u001b[0m\u001b[0m\n\u001b[1;32m----> 3\u001b[1;33m         \u001b[1;32mraise\u001b[0m \u001b[0mValueError\u001b[0m\u001b[1;33m(\u001b[0m\u001b[1;34m\"Oops , age cant be Less than 0\"\u001b[0m\u001b[1;33m)\u001b[0m\u001b[1;33m\u001b[0m\u001b[1;33m\u001b[0m\u001b[0m\n\u001b[0m\u001b[0;32m      4\u001b[0m     \u001b[1;32melif\u001b[0m \u001b[0mage\u001b[0m\u001b[1;33m==\u001b[0m\u001b[1;36m0\u001b[0m\u001b[1;33m:\u001b[0m\u001b[1;33m\u001b[0m\u001b[1;33m\u001b[0m\u001b[0m\n\u001b[0;32m      5\u001b[0m         \u001b[0mprint\u001b[0m\u001b[1;33m(\u001b[0m\u001b[1;34m\"New Born\"\u001b[0m\u001b[1;33m)\u001b[0m\u001b[1;33m\u001b[0m\u001b[1;33m\u001b[0m\u001b[0m\n",
      "\u001b[1;31mValueError\u001b[0m: Oops , age cant be Less than 0"
     ]
    }
   ],
   "source": [
    "ageEvenOrOdd(-12)"
   ]
  },
  {
   "cell_type": "code",
   "execution_count": 28,
   "id": "d572a68b",
   "metadata": {},
   "outputs": [
    {
     "name": "stdout",
     "output_type": "stream",
     "text": [
      "2\n",
      "1\n"
     ]
    }
   ],
   "source": [
    "def foo():\n",
    "    try:\n",
    "        return 1\n",
    "    finally:\n",
    "        print('2')\n",
    "\n",
    "k = foo()\n",
    "print(k)\n"
   ]
  },
  {
   "cell_type": "code",
   "execution_count": 29,
   "id": "6e2de814",
   "metadata": {},
   "outputs": [
    {
     "data": {
      "text/html": [
       "<div>\n",
       "<style scoped>\n",
       "    .dataframe tbody tr th:only-of-type {\n",
       "        vertical-align: middle;\n",
       "    }\n",
       "\n",
       "    .dataframe tbody tr th {\n",
       "        vertical-align: top;\n",
       "    }\n",
       "\n",
       "    .dataframe thead th {\n",
       "        text-align: right;\n",
       "    }\n",
       "</style>\n",
       "<table border=\"1\" class=\"dataframe\">\n",
       "  <thead>\n",
       "    <tr style=\"text-align: right;\">\n",
       "      <th></th>\n",
       "      <th>Unnamed: 0</th>\n",
       "      <th>rank</th>\n",
       "      <th>discipline</th>\n",
       "      <th>phd</th>\n",
       "      <th>service</th>\n",
       "      <th>sex</th>\n",
       "      <th>salary</th>\n",
       "    </tr>\n",
       "  </thead>\n",
       "  <tbody>\n",
       "    <tr>\n",
       "      <th>0</th>\n",
       "      <td>0</td>\n",
       "      <td>Prof</td>\n",
       "      <td>B</td>\n",
       "      <td>56</td>\n",
       "      <td>49</td>\n",
       "      <td>Male</td>\n",
       "      <td>186960</td>\n",
       "    </tr>\n",
       "    <tr>\n",
       "      <th>1</th>\n",
       "      <td>1</td>\n",
       "      <td>Prof</td>\n",
       "      <td>A</td>\n",
       "      <td>12</td>\n",
       "      <td>6</td>\n",
       "      <td>Male</td>\n",
       "      <td>93000</td>\n",
       "    </tr>\n",
       "    <tr>\n",
       "      <th>2</th>\n",
       "      <td>2</td>\n",
       "      <td>Prof</td>\n",
       "      <td>A</td>\n",
       "      <td>23</td>\n",
       "      <td>20</td>\n",
       "      <td>Male</td>\n",
       "      <td>110515</td>\n",
       "    </tr>\n",
       "    <tr>\n",
       "      <th>3</th>\n",
       "      <td>3</td>\n",
       "      <td>Prof</td>\n",
       "      <td>A</td>\n",
       "      <td>40</td>\n",
       "      <td>31</td>\n",
       "      <td>Male</td>\n",
       "      <td>131205</td>\n",
       "    </tr>\n",
       "    <tr>\n",
       "      <th>4</th>\n",
       "      <td>4</td>\n",
       "      <td>Prof</td>\n",
       "      <td>B</td>\n",
       "      <td>20</td>\n",
       "      <td>18</td>\n",
       "      <td>Male</td>\n",
       "      <td>104800</td>\n",
       "    </tr>\n",
       "    <tr>\n",
       "      <th>...</th>\n",
       "      <td>...</td>\n",
       "      <td>...</td>\n",
       "      <td>...</td>\n",
       "      <td>...</td>\n",
       "      <td>...</td>\n",
       "      <td>...</td>\n",
       "      <td>...</td>\n",
       "    </tr>\n",
       "    <tr>\n",
       "      <th>73</th>\n",
       "      <td>73</td>\n",
       "      <td>Prof</td>\n",
       "      <td>B</td>\n",
       "      <td>18</td>\n",
       "      <td>10</td>\n",
       "      <td>Female</td>\n",
       "      <td>105450</td>\n",
       "    </tr>\n",
       "    <tr>\n",
       "      <th>74</th>\n",
       "      <td>74</td>\n",
       "      <td>AssocProf</td>\n",
       "      <td>B</td>\n",
       "      <td>19</td>\n",
       "      <td>6</td>\n",
       "      <td>Female</td>\n",
       "      <td>104542</td>\n",
       "    </tr>\n",
       "    <tr>\n",
       "      <th>75</th>\n",
       "      <td>75</td>\n",
       "      <td>Prof</td>\n",
       "      <td>B</td>\n",
       "      <td>17</td>\n",
       "      <td>17</td>\n",
       "      <td>Female</td>\n",
       "      <td>124312</td>\n",
       "    </tr>\n",
       "    <tr>\n",
       "      <th>76</th>\n",
       "      <td>76</td>\n",
       "      <td>Prof</td>\n",
       "      <td>A</td>\n",
       "      <td>28</td>\n",
       "      <td>14</td>\n",
       "      <td>Female</td>\n",
       "      <td>109954</td>\n",
       "    </tr>\n",
       "    <tr>\n",
       "      <th>77</th>\n",
       "      <td>77</td>\n",
       "      <td>Prof</td>\n",
       "      <td>A</td>\n",
       "      <td>23</td>\n",
       "      <td>15</td>\n",
       "      <td>Female</td>\n",
       "      <td>109646</td>\n",
       "    </tr>\n",
       "  </tbody>\n",
       "</table>\n",
       "<p>78 rows × 7 columns</p>\n",
       "</div>"
      ],
      "text/plain": [
       "    Unnamed: 0       rank discipline  phd  service     sex  salary\n",
       "0            0       Prof          B   56       49    Male  186960\n",
       "1            1       Prof          A   12        6    Male   93000\n",
       "2            2       Prof          A   23       20    Male  110515\n",
       "3            3       Prof          A   40       31    Male  131205\n",
       "4            4       Prof          B   20       18    Male  104800\n",
       "..         ...        ...        ...  ...      ...     ...     ...\n",
       "73          73       Prof          B   18       10  Female  105450\n",
       "74          74  AssocProf          B   19        6  Female  104542\n",
       "75          75       Prof          B   17       17  Female  124312\n",
       "76          76       Prof          A   28       14  Female  109954\n",
       "77          77       Prof          A   23       15  Female  109646\n",
       "\n",
       "[78 rows x 7 columns]"
      ]
     },
     "execution_count": 29,
     "metadata": {},
     "output_type": "execute_result"
    }
   ],
   "source": [
    "import pandas as pd\n",
    "pd.read_csv('test.csv')"
   ]
  },
  {
   "cell_type": "code",
   "execution_count": 31,
   "id": "3138f8bf",
   "metadata": {},
   "outputs": [
    {
     "data": {
      "text/plain": [
       "'C:\\\\Users\\\\Neha\\\\Documents\\\\ExcelR_batch_material\\\\DS_course_material\\\\Python_for_DS\\\\Day6'"
      ]
     },
     "execution_count": 31,
     "metadata": {},
     "output_type": "execute_result"
    }
   ],
   "source": [
    "import os\n",
    "os.getcwd()"
   ]
  },
  {
   "cell_type": "code",
   "execution_count": 32,
   "id": "2bb636d5",
   "metadata": {},
   "outputs": [
    {
     "data": {
      "text/html": [
       "<div>\n",
       "<style scoped>\n",
       "    .dataframe tbody tr th:only-of-type {\n",
       "        vertical-align: middle;\n",
       "    }\n",
       "\n",
       "    .dataframe tbody tr th {\n",
       "        vertical-align: top;\n",
       "    }\n",
       "\n",
       "    .dataframe thead th {\n",
       "        text-align: right;\n",
       "    }\n",
       "</style>\n",
       "<table border=\"1\" class=\"dataframe\">\n",
       "  <thead>\n",
       "    <tr style=\"text-align: right;\">\n",
       "      <th></th>\n",
       "      <th>rank</th>\n",
       "      <th>discipline</th>\n",
       "      <th>phd</th>\n",
       "      <th>service</th>\n",
       "      <th>sex</th>\n",
       "      <th>salary</th>\n",
       "    </tr>\n",
       "  </thead>\n",
       "  <tbody>\n",
       "    <tr>\n",
       "      <th>0</th>\n",
       "      <td>Prof</td>\n",
       "      <td>B</td>\n",
       "      <td>56</td>\n",
       "      <td>49</td>\n",
       "      <td>Male</td>\n",
       "      <td>186960</td>\n",
       "    </tr>\n",
       "    <tr>\n",
       "      <th>1</th>\n",
       "      <td>Prof</td>\n",
       "      <td>A</td>\n",
       "      <td>12</td>\n",
       "      <td>6</td>\n",
       "      <td>Male</td>\n",
       "      <td>93000</td>\n",
       "    </tr>\n",
       "    <tr>\n",
       "      <th>2</th>\n",
       "      <td>Prof</td>\n",
       "      <td>A</td>\n",
       "      <td>23</td>\n",
       "      <td>20</td>\n",
       "      <td>Male</td>\n",
       "      <td>110515</td>\n",
       "    </tr>\n",
       "    <tr>\n",
       "      <th>3</th>\n",
       "      <td>Prof</td>\n",
       "      <td>A</td>\n",
       "      <td>40</td>\n",
       "      <td>31</td>\n",
       "      <td>Male</td>\n",
       "      <td>131205</td>\n",
       "    </tr>\n",
       "    <tr>\n",
       "      <th>4</th>\n",
       "      <td>Prof</td>\n",
       "      <td>B</td>\n",
       "      <td>20</td>\n",
       "      <td>18</td>\n",
       "      <td>Male</td>\n",
       "      <td>104800</td>\n",
       "    </tr>\n",
       "    <tr>\n",
       "      <th>...</th>\n",
       "      <td>...</td>\n",
       "      <td>...</td>\n",
       "      <td>...</td>\n",
       "      <td>...</td>\n",
       "      <td>...</td>\n",
       "      <td>...</td>\n",
       "    </tr>\n",
       "    <tr>\n",
       "      <th>73</th>\n",
       "      <td>Prof</td>\n",
       "      <td>B</td>\n",
       "      <td>18</td>\n",
       "      <td>10</td>\n",
       "      <td>Female</td>\n",
       "      <td>105450</td>\n",
       "    </tr>\n",
       "    <tr>\n",
       "      <th>74</th>\n",
       "      <td>AssocProf</td>\n",
       "      <td>B</td>\n",
       "      <td>19</td>\n",
       "      <td>6</td>\n",
       "      <td>Female</td>\n",
       "      <td>104542</td>\n",
       "    </tr>\n",
       "    <tr>\n",
       "      <th>75</th>\n",
       "      <td>Prof</td>\n",
       "      <td>B</td>\n",
       "      <td>17</td>\n",
       "      <td>17</td>\n",
       "      <td>Female</td>\n",
       "      <td>124312</td>\n",
       "    </tr>\n",
       "    <tr>\n",
       "      <th>76</th>\n",
       "      <td>Prof</td>\n",
       "      <td>A</td>\n",
       "      <td>28</td>\n",
       "      <td>14</td>\n",
       "      <td>Female</td>\n",
       "      <td>109954</td>\n",
       "    </tr>\n",
       "    <tr>\n",
       "      <th>77</th>\n",
       "      <td>Prof</td>\n",
       "      <td>A</td>\n",
       "      <td>23</td>\n",
       "      <td>15</td>\n",
       "      <td>Female</td>\n",
       "      <td>109646</td>\n",
       "    </tr>\n",
       "  </tbody>\n",
       "</table>\n",
       "<p>78 rows × 6 columns</p>\n",
       "</div>"
      ],
      "text/plain": [
       "         rank discipline  phd  service     sex  salary\n",
       "0        Prof          B   56       49    Male  186960\n",
       "1        Prof          A   12        6    Male   93000\n",
       "2        Prof          A   23       20    Male  110515\n",
       "3        Prof          A   40       31    Male  131205\n",
       "4        Prof          B   20       18    Male  104800\n",
       "..        ...        ...  ...      ...     ...     ...\n",
       "73       Prof          B   18       10  Female  105450\n",
       "74  AssocProf          B   19        6  Female  104542\n",
       "75       Prof          B   17       17  Female  124312\n",
       "76       Prof          A   28       14  Female  109954\n",
       "77       Prof          A   23       15  Female  109646\n",
       "\n",
       "[78 rows x 6 columns]"
      ]
     },
     "execution_count": 32,
     "metadata": {},
     "output_type": "execute_result"
    }
   ],
   "source": [
    "pd.read_excel('t1 - Copy.xlsx')"
   ]
  },
  {
   "cell_type": "code",
   "execution_count": 33,
   "id": "da136bc2",
   "metadata": {},
   "outputs": [
    {
     "name": "stdout",
     "output_type": "stream",
     "text": [
      "\t\r\n",
      "\r\n",
      "<!DOCTYPE html>\r\n",
      "<!--[if lt IE 7]><html class=\"lt-ie9 lt-ie8 lt-ie7\" lang=\"en\" dir=\"ltr\"><![endif]-->\r\n",
      "<!--[if IE 7]><html class=\"lt-ie9 lt-ie8\" lang=\"en\" dir=\"ltr\"><![endif]-->\r\n",
      "<!--[if IE 8]><html class=\"lt-ie9\" lang=\"en\" dir=\"ltr\"><![endif]-->\r\n",
      "<!--[if gt IE 8]><!--><html lang=\"en\" dir=\"ltr\" prefix=\"content: http://purl.org/rss/1.0/modules/content/ dc: http://purl.org/dc/terms/ foaf: http://xmlns.com/foaf/0.1/ og: http://ogp.me/ns# rdfs: http://www.w3.org/2000/01/rdf-schema# sioc: http://rdfs.org/sioc/ns# sioct: http://rdfs.org/sioc/types# skos: http://www.w3.org/2004/02/skos/core# xsd: http://www.w3.org/2001/XMLSchema#\"><!--<![endif]-->\r\n",
      "<head>\r\n",
      "<meta charset=\"utf-8\" />\n",
      "<link rel=\"shortcut icon\" href=\"https://www.india.gov.in/sites/upload_files/npi/files/favicon_0.ico\" type=\"image/vnd.microsoft.icon\" />\n",
      "<title>National Portal of India</title>\r\n",
      "\r\n",
      "<meta name=\"title\" content=\"National Portal of India\" />\r\n",
      "<meta name=\"lang\" content=\"English\" />\r\n",
      "<meta name=\"MobileOptimized\" content=\"width\" />\r\n",
      "<meta name=\"HandheldFriendly\" content=\"true\" />\r\n",
      "\r\n",
      "<meta name=\"keywords\" content=\"National Portal of India, India Portal, NPI, Government Information, Government Services, one stop source of government information, single-window access to government information,  Government of India, GoI\" />\r\n",
      "<meta name=\"description\" content=\"National Portal of India provides a single-window access to information and services that are electronically delivered from all Government Departments, Institutions and Organizations. It has been a popular source of information to a wide range of stakeholders - from citizens, to government, business and Indian Diasporas. It is a gateway to access Indian Government websites at Centre, State and District levels.\" />\r\n",
      "\r\n",
      "<meta name=\"viewport\" content=\"width=device-width, initial-scale=1\" />\r\n",
      "\r\n",
      "<style>\n",
      "@import url(\"https://www.india.gov.in/modules/system/system.base.css?rlw2wx\");\n",
      "@import url(\"https://www.india.gov.in/modules/system/system.menus.css?rlw2wx\");\n",
      "@import url(\"https://www.india.gov.in/modules/system/system.messages.css?rlw2wx\");\n",
      "</style>\n",
      "<style>\n",
      "@import url(\"https://www.india.gov.in/sites/all/modules/contributed/views_slideshow/views_slideshow.css?rlw2wx\");\n",
      "</style>\n",
      "<style>\n",
      "@import url(\"https://www.india.gov.in/sites/all/modules/contributed/calendar/css/calendar_multiday.css?rlw2wx\");\n",
      "@import url(\"https://www.india.gov.in/sites/all/modules/contributed/date/date_api/date.css?rlw2wx\");\n",
      "@import url(\"https://www.india.gov.in/sites/all/modules/contributed/date/date_popup/themes/datepicker.1.7.css?rlw2wx\");\n",
      "@import url(\"https://www.india.gov.in/sites/all/modules/contributed/date/date_repeat_field/date_repeat_field.css?rlw2wx\");\n",
      "@import url(\"https://www.india.gov.in/modules/field/theme/field.css?rlw2wx\");\n",
      "@import url(\"https://www.india.gov.in/sites/all/modules/contributed/logintoboggan/logintoboggan.css?rlw2wx\");\n",
      "@import url(\"https://www.india.gov.in/modules/node/node.css?rlw2wx\");\n",
      "@import url(\"https://www.india.gov.in/modules/search/search.css?rlw2wx\");\n",
      "@import url(\"https://www.india.gov.in/modules/user/user.css?rlw2wx\");\n",
      "@import url(\"https://www.india.gov.in/sites/all/modules/contributed/views/css/views.css?rlw2wx\");\n",
      "</style>\n",
      "<style>\n",
      "@import url(\"https://www.india.gov.in/sites/all/modules/contributed/ctools/css/ctools.css?rlw2wx\");\n",
      "@import url(\"https://www.india.gov.in/sites/all/modules/contributed/panels/css/panels.css?rlw2wx\");\n",
      "@import url(\"https://www.india.gov.in/sites/all/modules/contributed/panels/plugins/layouts/threecol_25_50_25/threecol_25_50_25.css?rlw2wx\");\n",
      "@import url(\"https://www.india.gov.in/sites/all/modules/contributed/quicktabs/css/quicktabs.css?rlw2wx\");\n",
      "@import url(\"https://www.india.gov.in/sites/all/modules/contributed/panels/plugins/layouts/onecol/onecol.css?rlw2wx\");\n",
      "@import url(\"https://www.india.gov.in/sites/all/modules/contributed/flexslider/assets/css/flexslider_img.css?rlw2wx\");\n",
      "@import url(\"https://www.india.gov.in/sites/all/libraries/flexslider/flexslider.css?rlw2wx\");\n",
      "</style>\n",
      "<style media=\"screen\">\n",
      "@import url(\"https://www.india.gov.in/sites/all/themes/adaptivetheme/at_core/css/at.layout.css?rlw2wx\");\n",
      "@import url(\"https://www.india.gov.in/sites/all/themes/adaptivetheme/npi_adaptive/css/font-awesome.min.css?rlw2wx\");\n",
      "@import url(\"https://www.india.gov.in/sites/all/themes/adaptivetheme/npi_adaptive/css/global.custom.responsive.css?rlw2wx\");\n",
      "@import url(\"https://www.india.gov.in/sites/all/themes/adaptivetheme/npi_adaptive/css/global.base.css?rlw2wx\");\n",
      "@import url(\"https://www.india.gov.in/sites/all/themes/adaptivetheme/npi_adaptive/css/global.styles.css?rlw2wx\");\n",
      "</style>\n",
      "<style media=\"print\">\n",
      "@import url(\"https://www.india.gov.in/sites/all/themes/adaptivetheme/npi_adaptive/css/print.css?rlw2wx\");\n",
      "</style>\n",
      "<style media=\"screen\">\n",
      "@import url(\"https://www.india.gov.in/sites/upload_files/npi/files/adaptivetheme/npi_adaptive_files/npi_adaptive.default.layout.css?rlw2wx\");\n",
      "</style>\n",
      "<link href=\"https://www.india.gov.in/sites/all/themes/adaptivetheme/npi_adaptive/css/override.css\" rel=\"alternate stylesheet\" type=\"text/css\" media=\"screen\" title=\"change\" />\r\n",
      "<script src=\"https://www.india.gov.in/sites/all/modules/contributed/jquery_update/replace/jquery/3.1/jquery.min.js?v=3.1.1\"></script>\n",
      "<script src=\"https://www.india.gov.in/misc/jquery-extend-3.4.0.js?v=3.1.1\"></script>\n",
      "<script src=\"https://www.india.gov.in/misc/jquery-html-prefilter-3.5.0-backport.js?v=3.1.1\"></script>\n",
      "<script src=\"https://www.india.gov.in/misc/jquery.once.js?v=1.2\"></script>\n",
      "<script src=\"https://www.india.gov.in/misc/drupal.js?rlw2wx\"></script>\n",
      "<script src=\"https://www.india.gov.in/sites/all/modules/contributed/jquery_update/replace/ui/external/jquery.cookie.js?v=67fb34f6a866c40d0570\"></script>\n",
      "<script src=\"https://www.india.gov.in/sites/all/modules/contributed/jquery_update/replace/jquery.form/4/jquery.form.min.js?v=4.2.1\"></script>\n",
      "<script src=\"https://www.india.gov.in/sites/all/modules/contributed/views_slideshow/js/views_slideshow.js?v=1.0\"></script>\n",
      "<script src=\"https://www.india.gov.in/misc/ajax.js?v=7.91\"></script>\n",
      "<script src=\"https://www.india.gov.in/sites/all/modules/contributed/jquery_update/js/jquery_update.js?v=0.0.1\"></script>\n",
      "<script src=\"https://www.india.gov.in/sites/all/modules/contributed/admin_menu/admin_devel/admin_devel.js?rlw2wx\"></script>\n",
      "<script src=\"https://www.india.gov.in/sites/all/modules/customs/hb_documents/hb_documents.js?rlw2wx\"></script>\n",
      "<script src=\"https://www.india.gov.in/sites/all/modules/customs/hb_schemes/hb_schemes.js?rlw2wx\"></script>\n",
      "<script src=\"https://www.india.gov.in/sites/all/modules/customs/webform_email_reply/script.js?rlw2wx\"></script>\n",
      "<script src=\"https://www.india.gov.in/misc/progress.js?rlw2wx\"></script>\n",
      "<script src=\"https://www.india.gov.in/sites/all/modules/contributed/views/js/base.js?rlw2wx\"></script>\n",
      "<script src=\"https://www.india.gov.in/sites/all/modules/contributed/quicktabs/js/quicktabs.js?rlw2wx\"></script>\n",
      "<script src=\"https://www.india.gov.in/sites/all/modules/contributed/views/js/ajax_view.js?rlw2wx\"></script>\n",
      "<script src=\"https://www.india.gov.in/sites/all/libraries/flexslider/jquery.flexslider-min.js?rlw2wx\"></script>\n",
      "<script src=\"https://www.india.gov.in/sites/all/modules/contributed/flexslider_views_slideshow/js/flexslider_views_slideshow.js?rlw2wx\"></script>\n",
      "<script src=\"https://www.india.gov.in/sites/all/themes/adaptivetheme/npi_adaptive/scripts/jquery.min.js?rlw2wx\"></script>\n",
      "<script src=\"https://www.india.gov.in/sites/all/themes/adaptivetheme/npi_adaptive/scripts/custom.js?rlw2wx\"></script>\n",
      "<script>jQuery.extend(Drupal.settings, {\"basePath\":\"\\/\",\"pathPrefix\":\"\",\"setHasJsCookie\":0,\"ajaxPageState\":{\"theme\":\"npi_adaptive\",\"theme_token\":\"qMlyR8fTgSGCEavMEZaB0R71Bx0V4O-Ym1U6lkdoh1o\",\"jquery_version\":\"3.1\",\"js\":{\"sites\\/all\\/modules\\/contributed\\/jquery_update\\/replace\\/jquery\\/3.1\\/jquery.min.js\":1,\"misc\\/jquery-extend-3.4.0.js\":1,\"misc\\/jquery-html-prefilter-3.5.0-backport.js\":1,\"misc\\/jquery.once.js\":1,\"misc\\/drupal.js\":1,\"sites\\/all\\/modules\\/contributed\\/jquery_update\\/replace\\/ui\\/external\\/jquery.cookie.js\":1,\"sites\\/all\\/modules\\/contributed\\/jquery_update\\/replace\\/jquery.form\\/4\\/jquery.form.min.js\":1,\"sites\\/all\\/modules\\/contributed\\/views_slideshow\\/js\\/views_slideshow.js\":1,\"misc\\/ajax.js\":1,\"sites\\/all\\/modules\\/contributed\\/jquery_update\\/js\\/jquery_update.js\":1,\"sites\\/all\\/modules\\/contributed\\/admin_menu\\/admin_devel\\/admin_devel.js\":1,\"sites\\/all\\/modules\\/customs\\/hb_documents\\/hb_documents.js\":1,\"sites\\/all\\/modules\\/customs\\/hb_schemes\\/hb_schemes.js\":1,\"sites\\/all\\/modules\\/customs\\/webform_email_reply\\/script.js\":1,\"misc\\/progress.js\":1,\"sites\\/all\\/modules\\/contributed\\/views\\/js\\/base.js\":1,\"sites\\/all\\/modules\\/contributed\\/quicktabs\\/js\\/quicktabs.js\":1,\"sites\\/all\\/modules\\/contributed\\/views\\/js\\/ajax_view.js\":1,\"sites\\/all\\/libraries\\/flexslider\\/jquery.flexslider-min.js\":1,\"sites\\/all\\/modules\\/contributed\\/flexslider_views_slideshow\\/js\\/flexslider_views_slideshow.js\":1,\"sites\\/all\\/themes\\/adaptivetheme\\/npi_adaptive\\/scripts\\/jquery.min.js\":1,\"sites\\/all\\/themes\\/adaptivetheme\\/npi_adaptive\\/scripts\\/custom.js\":1},\"css\":{\"modules\\/system\\/system.base.css\":1,\"modules\\/system\\/system.menus.css\":1,\"modules\\/system\\/system.messages.css\":1,\"sites\\/all\\/modules\\/contributed\\/views_slideshow\\/views_slideshow.css\":1,\"sites\\/all\\/modules\\/contributed\\/calendar\\/css\\/calendar_multiday.css\":1,\"sites\\/all\\/modules\\/contributed\\/date\\/date_api\\/date.css\":1,\"sites\\/all\\/modules\\/contributed\\/date\\/date_popup\\/themes\\/datepicker.1.7.css\":1,\"sites\\/all\\/modules\\/contributed\\/date\\/date_repeat_field\\/date_repeat_field.css\":1,\"modules\\/field\\/theme\\/field.css\":1,\"sites\\/all\\/modules\\/contributed\\/logintoboggan\\/logintoboggan.css\":1,\"modules\\/node\\/node.css\":1,\"modules\\/search\\/search.css\":1,\"modules\\/user\\/user.css\":1,\"sites\\/all\\/modules\\/contributed\\/views\\/css\\/views.css\":1,\"sites\\/all\\/modules\\/contributed\\/ctools\\/css\\/ctools.css\":1,\"sites\\/all\\/modules\\/contributed\\/panels\\/css\\/panels.css\":1,\"sites\\/all\\/modules\\/contributed\\/panels\\/plugins\\/layouts\\/threecol_25_50_25\\/threecol_25_50_25.css\":1,\"sites\\/all\\/modules\\/contributed\\/quicktabs\\/css\\/quicktabs.css\":1,\"sites\\/all\\/modules\\/contributed\\/panels\\/plugins\\/layouts\\/onecol\\/onecol.css\":1,\"sites\\/all\\/modules\\/contributed\\/flexslider\\/assets\\/css\\/flexslider_img.css\":1,\"sites\\/all\\/libraries\\/flexslider\\/flexslider.css\":1,\"sites\\/all\\/themes\\/adaptivetheme\\/at_core\\/css\\/at.layout.css\":1,\"sites\\/all\\/themes\\/adaptivetheme\\/npi_adaptive\\/css\\/font-awesome.min.css\":1,\"sites\\/all\\/themes\\/adaptivetheme\\/npi_adaptive\\/css\\/global.custom.responsive.css\":1,\"sites\\/all\\/themes\\/adaptivetheme\\/npi_adaptive\\/css\\/global.base.css\":1,\"sites\\/all\\/themes\\/adaptivetheme\\/npi_adaptive\\/css\\/global.styles.css\":1,\"sites\\/all\\/themes\\/adaptivetheme\\/npi_adaptive\\/css\\/print.css\":1,\"public:\\/\\/adaptivetheme\\/npi_adaptive_files\\/npi_adaptive.default.layout.css\":1}},\"encrypt_submissions\":{\"baseUrl\":\"https:\\/\\/www.india.gov.in\"},\"better_exposed_filters\":{\"views\":{\"news_feeds\":{\"displays\":{\"block\":{\"filters\":[]}}},\"metadata\":{\"displays\":{\"block_1\":{\"filters\":[]}}},\"featured\":{\"displays\":{\"block\":{\"filters\":[]}}},\"spotlight\":{\"displays\":{\"block\":{\"filters\":[]}}},\"most_search\":{\"displays\":{\"block\":{\"filters\":[]}}},\"home_main_slider\":{\"displays\":{\"block\":{\"filters\":[]}}}}},\"ajax\":{\"quicktabs-tab-_none_-0\":{\"progress\":{\"message\":\"\",\"type\":\"throbber\"},\"event\":\"click\",\"url\":\"\\/quicktabs\\/ajax\\/_none_\\/0\\/view\\/news_feeds\\/block\\/1\\/home\\/\"}},\"urlIsAjaxTrusted\":{\"\\/quicktabs\\/ajax\\/_none_\\/0\\/view\\/news_feeds\\/block\\/1\\/home\\/\":true,\"\\/views\\/ajax\":true,\"\\/search\\/node\":true},\"quicktabs\":{\"qt__none_\":{\"name\":\"_none_\",\"tabs\":[{\"vid\":\"news_feeds\",\"display\":\"block\",\"args\":\"\",\"view_path\":\"home\",\"view_dom_id\":1,\"ajax_args\":\"\",\"actual_args\":[]}],\"ajaxPageState\":{\"jquery_version\":\"3.1\"}}},\"views\":{\"ajax_path\":\"\\/views\\/ajax\",\"ajaxViews\":{\"views_dom_id:b2167e6a43f50a0f17dd2f1b4351645c\":{\"view_name\":\"metadata\",\"view_display_id\":\"block_1\",\"view_args\":\"166659\",\"view_path\":\"home\",\"view_base_path\":\"admin\\/metadata-online\",\"view_dom_id\":\"b2167e6a43f50a0f17dd2f1b4351645c\",\"pager_element\":0},\"views_dom_id:96743aa91547cc12d2208cad55c1b5f9\":{\"view_name\":\"metadata\",\"view_display_id\":\"block_1\",\"view_args\":\"166856\",\"view_path\":\"home\",\"view_base_path\":\"admin\\/metadata-online\",\"view_dom_id\":\"96743aa91547cc12d2208cad55c1b5f9\",\"pager_element\":0},\"views_dom_id:b1ccb4f9470e1995a6051e8bca1d152d\":{\"view_name\":\"spotlight\",\"view_display_id\":\"block\",\"view_args\":\"\",\"view_path\":\"home\",\"view_base_path\":\"spotlight\",\"view_dom_id\":\"b1ccb4f9470e1995a6051e8bca1d152d\",\"pager_element\":0}}},\"viewsSlideshow\":{\"home_main_slider-block\":{\"methods\":{\"goToSlide\":[\"viewsSlideshowPager\",\"viewsSlideshowSlideCounter\",\"viewsSlideshowCycle\"],\"nextSlide\":[\"viewsSlideshowPager\",\"viewsSlideshowSlideCounter\",\"flexsliderViewsSlideshow\",\"viewsSlideshowCycle\"],\"pause\":[\"viewsSlideshowControls\",\"flexsliderViewsSlideshow\",\"viewsSlideshowCycle\"],\"play\":[\"viewsSlideshowControls\",\"flexsliderViewsSlideshow\",\"viewsSlideshowCycle\"],\"previousSlide\":[\"viewsSlideshowPager\",\"viewsSlideshowSlideCounter\",\"flexsliderViewsSlideshow\",\"viewsSlideshowCycle\"],\"transitionBegin\":[\"viewsSlideshowPager\",\"viewsSlideshowSlideCounter\"],\"transitionEnd\":[]},\"paused\":0}},\"flexslider_views_slideshow\":{\"#flexslider_views_slideshow_main_home_main_slider-block\":{\"num_divs\":2,\"id_prefix\":\"#flexslider_views_slideshow_main_\",\"vss_id\":\"home_main_slider-block\",\"namespace\":\"flex-\",\"selector\":\".slides \\u003E li\",\"easing\":\"linear\",\"direction\":\"horizontal\",\"reverse\":false,\"smoothHeight\":false,\"startAt\":0,\"animationSpeed\":600,\"initDelay\":0,\"useCSS\":false,\"touch\":true,\"video\":false,\"keyboard\":true,\"multipleKeyboard\":false,\"mousewheel\":0,\"controlsContainer\":\".flex-control-nav-container\",\"sync\":\"\",\"asNavFor\":\"\",\"itemWidth\":0,\"itemMargin\":0,\"minItems\":0,\"maxItems\":0,\"move\":0,\"animation\":\"slide\",\"slideshow\":true,\"slideshowSpeed\":7000,\"directionNav\":true,\"controlNav\":true,\"prevText\":\"\",\"nextText\":\"\",\"pausePlay\":true,\"pauseText\":\"\",\"playText\":\"\",\"randomize\":true,\"thumbCaptions\":false,\"thumbCaptionsBoth\":false,\"animationLoop\":true,\"pauseOnAction\":true,\"pauseOnHover\":false,\"manualControls\":\"\"}},\"adaptivetheme\":{\"npi_adaptive\":{\"layout_settings\":{\"bigscreen\":\"three-col-grail\",\"tablet_landscape\":\"three-col-grail\",\"tablet_portrait\":\"one-col-vert\",\"smalltouch_landscape\":\"one-col-vert\",\"smalltouch_portrait\":\"one-col-stack\"},\"media_query_settings\":{\"bigscreen\":\"only screen and (min-width:1025px)\",\"tablet_landscape\":\"only screen and (min-width:769px) and (max-width:1024px)\",\"tablet_portrait\":\"only screen and (min-width:581px) and (max-width:768px)\",\"smalltouch_landscape\":\"only screen and (min-width:321px) and (max-width:580px)\",\"smalltouch_portrait\":\"only screen and (max-width:320px)\"}}}});</script>\n",
      "<!--[if lt IE 9]>\n",
      "<script src=\"https://www.india.gov.in/sites/all/themes/adaptivetheme/at_core/scripts/html5.js?rlw2wx\"></script>\n",
      "<![endif]-->\n",
      "\r\n",
      "<script type=\"text/javascript\">  \r\n",
      "\tif(_getCookie(\"fontSize\") != null){\r\n",
      "\t\tfontSize = _getCookie(\"fontSize\");\r\n",
      "\t}else{\r\n",
      "\t\tfontSize = 100;\r\n",
      "\t}\r\n",
      "\tvar base_url =\"https://www.india.gov.in\";\r\n",
      "\t</script> \r\n",
      "\r\n",
      " \r\n",
      "</head>\r\n",
      "<body class=\"html front not-logged-in no-sidebars page-home home i18n-en site-name-hidden atr-7.x-3.x atv-7.x-3.2 page-panels\">\r\n",
      "    <!-- !Leaderboard Region -->\r\n",
      "\r\n",
      "\r\n",
      "\r\n",
      "<link href=\"//maxcdn.bootstrapcdn.com/font-awesome/4.2.0/css/font-awesome.min.css\" rel=\"stylesheet\">\r\n",
      "\r\n",
      "\r\n",
      "<header id=\"header\" class=\"clearfix app-main-header\" role=\"banner\">\r\n",
      "\t<section class=\"top_head\">\r\n",
      "\t\t<div class=\"wrapper\">\r\n",
      "\t\t\t<div class=\"region region-header\"><div class=\"region-inner clearfix\"><div id=\"block-block-4\" class=\"block block-block no-title\" ><div class=\"block-inner clearfix\">  \r\n",
      "  \r\n",
      "  <div class=\"block-content content\">       \n",
      "<div class=\"tophead_left\">\n",
      "<span class=\"social_icons\">\n",
      "<a href=\"https://twitter.com/indiagovin\" target=\"_blank\" title=\"Visit Our Twitter Page (External Website that opens in a new window)\"><img src=\"/sites/all/themes/adaptivetheme/npi_adaptive/images/twitter.png\" alt=\"Twitter Icon\"></a>\n",
      "\n",
      "</span>\n",
      "</div>\n",
      "<div class=\"tophead_right\">\n",
      "<a href=\"#main-content\" class=\"loginlinks skip-link\">Skip to main content</a>\n",
      "<a href=\"https://www.india.gov.in/user/login\" class=\"loginlinks\">Sign In</a>\n",
      "<a href=\"https://www.india.gov.in/user/register\" class=\"loginlinks\">Register</a>\n",
      "\t\t\t\n",
      "<span class=\"sizechanger\">\n",
      "<a id=\"text_resize_decrease\" class=\"changer\" href=\"javascript:;\" onclick=\"set_font_size('decrease')\" title=\"Decrease font size\" role=\"link\">-A</a>\n",
      "<a id=\"text_resize_reset\" class=\"changer\" onclick=\"set_font_size('')\" href=\"javascript:;\" title=\"Reset font size\" role=\"link\">A</a>\n",
      "<a id=\"text_resize_increase\" class=\"changer\" onclick=\"set_font_size('increase')\" href=\"javascript:;\" title=\"Increase font size\" role=\"link\">+A</a>\n",
      "</span>\n",
      "<span class=\"colorchanger\">\n",
      "<a href=\"javascript:void(0);\" onclick=\"chooseStyle('none', 60);\" role=\"link\" aria-label=\"\"  title=\"Normal Contrast\">A</a>\n",
      "<a href=\"javascript:void(0);\" class=\"blackbg\"  onclick=\"chooseStyle('change', 60);\" role=\"link\"  aria-label=\"\"  title=\"High Contrast\">A</a>\n",
      "</span>\n",
      "<a href=\"https://www.xn--i1bj3fqcyde.xn--11b7cb3a6a.xn--h2brj9c/\" class=\"alink\" id=\"switch-lang\" title=\"Change Language हिन्दी\" aria-label=\"Change Language हिन्दी\" rel=\"हिन्दी\">हिन्दी</a>   \n",
      "</div></div>\r\n",
      "  </div></div></div></div>\t\t</div>\r\n",
      "\t</section>\r\n",
      "\t<section class=\"header_middle\">\r\n",
      "\t\t<div class=\"wrapper\">\r\n",
      "<h1 style=\"display:none;\"><img src=\"https://www.india.gov.in/sites/upload_files/npi/files/newsletter/logo_share.png\" alt=\"NPI Logo\"></h1>\r\n",
      "        \t\t\t  <div id=\"logo\">\r\n",
      "\t\t\t\t <a href=\"https://www.india.gov.in/\" aria-label=\"Go to home\" title=\"Go to home\"><img alt=\"India Gov Logo\" src=\"https://www.india.gov.in/sites/upload_files/npi/files/logo_1.png\" typeof=\"foaf:Image\" class=\"site-logo\"></a>\r\n",
      "\t\t\t  </div>\r\n",
      "\t\t\t              <a class=\"mobileNav\" aria-label=\"Mobile Menu\" title=\"Mobile Menu\" href=\"javascript:;\"><span></span><span></span><span></span></a>\r\n",
      "\t\t\t<div id=\"menu-bar\" class=\"nav clearfix\"><div id=\"block-panels-mini-main-menu\" class=\"block block-panels-mini no-title menu-wrapper menu-bar-wrapper clearfix\" >  \r\n",
      "  \r\n",
      "  <div class=\"one-column at-panel panel-display clearfix\" id=\"mini-panel-main_menu\">\n",
      "  <div class=\"region region-one-main\">\n",
      "    <div class=\"region-inner clearfix\">\n",
      "      <div class=\"panel-pane pane-custom pane-8 no-title block\">\r\n",
      "  <div class=\"block-inner clearfix\">\r\n",
      "    \r\n",
      "            \r\n",
      "    \r\n",
      "    <div class=\"block-content\">\r\n",
      "          <nav>\n",
      "<ul id=\"nav\">\n",
      "  <li class=\"topics   \"><a href=\"/topics\" class=\"topicsLink\"><img src=\"/sites/all/themes/adaptivetheme/npi_adaptive/images/nav1.png\" alt=\"Topics\"><span>Topics</span></a>\n",
      "    <ul>\n",
      "      <li class=\"  \"><span class=\"fa fa-pagelines\"></span><a href=\"/topics/agriculture\">Agriculture</a></li>\n",
      "      <li><span class=\"fa fa-paint-brush\"></span><a href=\"/topics/art-culture\">Art &amp; Culture</a></li>\n",
      "      <li><span class=\"fa fa-pencil-square-o\"></span><a href=\"/topics/commerce\">Commerce</a></li>\n",
      "      <li><span class=\"fa fa-laptop\"></span><a href=\"/topics/communications-it\">Communications & IT</a></li>\n",
      "      <li class=\" \"><span class=\"fa fa-space-shuttle\"></span><a href=\"/topics/defence\">Defence</a></li>\n",
      "      <li><span class=\"fa fa-graduation-cap\"></span><a href=\"/topics/education\">Education</a></li>\n",
      "      <li><span class=\"fa fa-tree\"></span><a href=\"/topics/environment-forest\">Environment &amp; Forest</a></li>\n",
      "      <li class=\" \"><span class=\"fa fa-bar-chart\"></span><a href=\"/topics/finance-taxes\">Finance &amp; Taxes</a></li>\n",
      "      <li><span class=\"fa fa-cutlery\"></span><a href=\"/topics/food-public-distribution\">Food &amp; Public Distribution</a></li>\n",
      "      <li class=\" \"><span class=\"fa fa-globe\"></span><a href=\"/topics/foreign-affairs\">Foreign Affairs</a></li>\n",
      "      <li class=\" \"><span class=\"fa fa-university\"></span><a href=\"/topics/governance-administration\">Governance &amp; Administration</a></li>\n",
      "      <li><span class=\"fa fa-plus\"></span><a href=\"/topics/health-family-welfare\">Health &amp; Family Welfare</a></li>\n",
      "      <li><span class=\"fa fa-cogs\"></span><a href=\"/topics/home-affairs-enforcement\">Home Affairs &amp; Enforcement</a></li>\n",
      "      <li><span class=\"fa fa-home\"></span><a href=\"/topics/housing\">Housing</a></li>\n",
      "      <li class=\" \"><span class=\"fa fa-building\"></span><a href=\"/topics/industries\">Industries</a></li>\n",
      "      <li class=\"  \"><span class=\"fa fa-building-o\"></span><a href=\"/topics/infrastructure\">Infrastructure</a></li>\n",
      "      <li class=\" \"><span class=\"fa fa-video-camera\"></span><a href=\"/topics/information-broadcasting\">Information &amp; Broadcasting</a></li>\n",
      "      <li><span class=\"fa fa-male\"></span><a href=\"/topics/labour-employment\">Labour &amp; Employment</a></li>\n",
      "      <li><span class=\"fa fa-gavel\"></span><a href=\"/topics/law-justice\">Law &amp; Justice</a></li>\n",
      "      <li class=\" \"><span class=\"fa fa-plug\"></span><a href=\"/topics/power-energy\">Power &amp; Energy</a></li>\n",
      "      <li><span class=\"fa fa-bicycle\"></span><a href=\"/topics/rural\">Rural</a></li>\n",
      "      <li><span class=\"fa fa-wifi\"></span><a href=\"/topics/science-technology\">Science &amp; Technology</a></li>\n",
      "      <li><span class=\"fa fa-wheelchair\"></span><a href=\"/topics/social-development\">Social Development</a></li>\n",
      "      <li><span class=\"fa fa-bus\"></span><a href=\"/topics/transport\">Transport</a></li>\n",
      "      <li><span class=\"fa fa-plane\"></span><a href=\"/topics/travel-tourism\">Travel &amp; Tourism</a></li>\n",
      "      <li><span class=\"fa fa-futbol-o\"></span><a href=\"/topics/youth-sports\">Youth &amp; Sports</a></li>\n",
      "    </ul>\n",
      "  </li>\n",
      "  <li class=\"how\"><a href=\"https://services.india.gov.in/\"  target=\"_BLANK\" title=\"External Website that opens in a new window\" class=\"howDiID\"><img src=\"/sites/all/themes/adaptivetheme/npi_adaptive/images/nav2.png\" alt=\"Services\"><span>Services</span></a>\n",
      "  </li>\n",
      "  <li class=\"government\"><a href=\"/my-government\" class=\"myGovt\"><img src=\"/sites/all/themes/adaptivetheme/npi_adaptive/images/nav3.png\" alt=\"My Government\"><span>My Government</span></a>\n",
      "    <ul>\n",
      "      <li><span class=\"fa fa-pencil-square\"></span><a href=\"/my-government/constitution-india\">Constitution of India</a></li>\n",
      "      <li><span class=\"fa fa-floppy-o\"></span><a href=\"/my-government/government-directory\">Government Directory</a></li>\n",
      "      <li><span class=\"fa fa-university\"></span><a href=\"/my-government/indian-parliament\">Indian Parliament</a></li>\n",
      "      <li><span class=\"fa fa-book\"></span><a href=\"/my-government/publications\">Publications</a></li>\n",
      "      <li><span class=\"fa fa-users\"></span><a href=\"/my-government/whos-who\">Who's Who</a></li>\n",
      "      <li><span class=\"fa fa-gavel\"></span><a href=\"https://indiacode.nic.in/\"   target=\"_BLANK\" title=\"External Website that opens in a new window\">Acts</a></li>\n",
      "      <li><span class=\"fa fa-file-excel-o\"></span><a href=\"/my-government/schemes\">Schemes</a></li>\n",
      "      <li><span class=\"fa fa-file-word-o\"></span><a href=\"/my-government/documents\">Documents</a></li>\n",
      "      <!--<li><span class=\"fa fa-file-o\"></span><a href=\"/my-government/forms\">Forms</a></li>\n",
      "      <li><span class=\"fa fa-microphone\"></span><a href=\"/my-government/people-speak\">PeopleSpeak</a></li>-->\n",
      "    </ul>\n",
      "  </li>\n",
      "  <li class=\"people\"><a href=\"/people-groups\" class=\"peopleGroups\"><img src=\"/sites/all/themes/adaptivetheme/npi_adaptive/images/nav4.png\" alt=\"People Groups\"><span>People Groups</span></a>\n",
      "    <ul>\n",
      "      <li><span class=\"fa fa-users\"></span><a href=\"/people-groups/community\">Community</a></li>\n",
      "      <li><span class=\"fa fa-refresh\"></span><a href=\"/people-groups/life-cycle\">Life Cycle</a></li>\n",
      "    </ul>\n",
      "  </li>\n",
      "  <li class=\"egov\"><a href=\"/india-glance\" class=\"indGlance\"><img src=\"/sites/all/themes/adaptivetheme/npi_adaptive/images/nav5.png\" alt=\"India at a Glance\"><span>India at a Glance</span></a> \n",
      "  <ul>\n",
      "      <li class=\"  \"><span class=\"fa fa-flag\"></span><a href=\"/india-glance/profile\" role=\"link\">Profile</a></li>\n",
      "      <li class=\" \"><span class=\"fa fa-globe\"></span><a href=\"/india-glance/states-india\" role=\"link\">States of India</a></li>\n",
      "      <li class=\" \"><span class=\"fa fa-trophy\"></span><a target=\"_blank\" href=\"https://knowindia.gov.in/my-india-my-pride/\" role=\"link\">My India My Pride</a></li>\n",
      "      <li class=\" \"><span class=\"fa fa-inr\"></span><a href=\"/india-glance/national-symbols\" role=\"link\">National Symbols</a></li>\n",
      "      <li class=\" \"><span class=\"fa fa-music\"></span><a href=\"/india-glance/culture-heritage\" role=\"link\">Culture &amp; Heritage</a></li>\n",
      "\t  <li class=\" \"><span class=\"fa fa-list\"></span><a href=\"/india-glance/districts-india\" role=\"link\">Districts of India</a></li>\n",
      "      <li class=\" \"><span class=\"fa fa-female\"></span><a href=\"/india-glance/people-and-lifestyle\" role=\"link\">People and Lifestyle</a></li>\n",
      "      <li class=\" \"><span class=\"fa fa-binoculars\"></span><a href=\"/india-glance/places-visit\" role=\"link\">Places to Visit</a></li>\n",
      "      <li class=\" \"><span class=\"fa fa-map-marker\"></span><a href=\"/india-glance/natural-wonders\" role=\"link\">Natural Wonders</a></li>\n",
      "      <li class=\"   \"><span class=\"fa fa-building-o\"></span><a href=\"/india-glance/where-stay\" role=\"link\">Where to stay</a></li>\n",
      "      <li class=\"   \"><span class=\"fa fa-car\"></span><a href=\"/topics/travel-tourism/modes-travel\" role=\"link\">Modes of Travel</a></li>\n",
      "      <li class=\" \"><span class=\"fa fa-user\"></span><a href=\"/india-glance/travel-agents\" role=\"link\">Travel Agents</a></li>\n",
      "    </ul>   \n",
      "  </li>  \n",
      "</ul>\n",
      "</nav>\n",
      "    </div>\r\n",
      "\r\n",
      "    \r\n",
      "    \r\n",
      "  </div>\r\n",
      "</div>\r\n",
      "    </div>\n",
      "  </div>\n",
      "</div>\n",
      "\r\n",
      "  </div></div>\t\t</div>\r\n",
      "\t</section>\r\n",
      "    <section class=\"header_botton\">\r\n",
      "\t\t<div class=\"wrapper\">\r\n",
      "\t\t\t<div class=\"search_section\">\r\n",
      "\t\t\t\t<div class=\"searchform\">\r\n",
      "\t\t\t\t\t<div class=\"searchrow\"> \r\n",
      "                    \t<div class=\"search_form\">\r\n",
      "\t\t\t\t\t\t\t<div class=\"region region-goi-search\"><div class=\"region-inner clearfix\"><div id=\"block-block-16\" class=\"block block-block no-title\" ><div class=\"block-inner clearfix\">  \r\n",
      "  \r\n",
      "  <div class=\"block-content content\"><form action=\"https://www.india.gov.in/gsearch\" id=\"searchForm\"  autocomplete=\"off\">\n",
      "   <label for=\"search_key\">Search</label>\n",
      "      <input type=\"text\" value=\"\" maxlength=\"128\" name=\"s\" id=\"search_key\" size=\"15\" placeholder=\"Search - Keyword, Phrase\" class=\"form-text searchText ui-autocomplete-input\"   autocomplete=\"off\" />                \n",
      "<input type=\"submit\" name=\"op\" value=\"Search\" id=\"edit-submit1\" class=\"form-submit\" />\n",
      "<div id=\"auto_suggesion\"></div>\n",
      "    </form>\n",
      "</div>\r\n",
      "  </div></div></div></div>                        </div>\r\n",
      "\t\t\t\t\t\t <a href=\"javascript:void(0)\" id=\"advsearchbtn\">Advanced Search</a>\r\n",
      "\t\t\t\t\t\t<div id=\"light\" class=\"white_box\" style=\"width: 380px;\">\t\r\n",
      "\t\t\t\t\t\t\t<div class=\"search-form\">\r\n",
      "\t\t\t\t\t\t\t\t                                <form action=\"/advance-search/results\" method=\"get\" id=\"views-exposed-form-advance-metadata-search-page-1\" accept-charset=\"UTF-8\" autocomplete=\"off\"><div><div class=\"views-exposed-form\">\r\n",
      "  <div class=\"views-exposed-widgets clearfix\">\r\n",
      "          <div id=\"edit-title-wrapper\" class=\"views-exposed-widget views-widget-filter-title\">\r\n",
      "                  <label for=\"edit-title\">\r\n",
      "            Title        </label>\r\n",
      "                        <div class=\"views-widget\">\r\n",
      "          <div class=\"form-item form-type-textfield form-item-title\">\r\n",
      " <input placeholder=\"Search Keyword\" type=\"text\" id=\"edit-title\" name=\"title\" value=\"\" size=\"30\" maxlength=\"128\" class=\"form-text\">\r\n",
      "</div>\r\n",
      "        </div>\r\n",
      "              </div>\r\n",
      "          <div id=\"edit-term-node-tid-depth-wrapper\" class=\"views-exposed-widget views-widget-filter-term_node_tid_depth\">\r\n",
      "                  <label for=\"edit-term-node-tid-depth\">\r\n",
      "             Section         </label>\r\n",
      "                        <div class=\"views-widget\">\r\n",
      "          <div class=\"form-item form-type-select form-item-term-node-tid-depth\">\r\n",
      " <select id=\"edit-term-node-tid-depth\" name=\"term_node_tid_depth\" class=\"form-select\"><option value=\"All\" selected=\"selected\">- Any -</option><option value=\"166659\"> Topics</option><option value=\"166665\">- Agriculture</option><option value=\"166691\">-- Agricultural Licence</option><option value=\"166692\">-- Agricultural Machinery</option><option value=\"166693\">-- Agricultural Produces</option><option value=\"166694\">-- Research & Extension</option><option value=\"166695\">-- Storage</option><option value=\"166696\">-- Marketing & Prices</option><option value=\"166697\">-- Animal Husbandry</option><option value=\"166698\">-- Certification & Gradation</option><option value=\"166699\">-- Crops</option><option value=\"166700\">-- Dairy</option><option value=\"166701\">-- Fertilizers & Pesticides</option><option value=\"166702\">-- Fisheries</option><option value=\"166703\">-- Floriculture</option><option value=\"166704\">-- Horticulture</option><option value=\"166705\">-- Irrigation</option><option value=\"166706\">-- Loans & Credit</option><option value=\"166707\">-- Organic Farming</option><option value=\"166708\">-- Plant Protection</option><option value=\"166709\">-- Seeds</option><option value=\"166710\">-- Sericulture</option><option value=\"166711\">-- Soil and Water Conservation</option><option value=\"166712\">-- Weather</option><option value=\"166666\">- Art & Culture</option><option value=\"166713\">-- Archaeology</option><option value=\"166714\">-- Dance</option><option value=\"166715\">-- Fairs & Festivals</option><option value=\"166716\">-- Handicrafts</option><option value=\"166717\">-- Heritage</option><option value=\"166718\">-- Literature</option><option value=\"166719\">-- Monuments</option><option value=\"166720\">-- Music</option><option value=\"166721\">-- Painting</option><option value=\"166722\">-- Theatre</option><option value=\"166667\">- Commerce</option><option value=\"166723\">-- Export</option><option value=\"166724\">-- Import</option><option value=\"166725\">-- SEZs</option><option value=\"166726\">-- Trade Promotion</option><option value=\"166668\">- Communications & IT</option><option value=\"166727\">-- Electronics & IT</option><option value=\"166728\">-- Post</option><option value=\"166729\">-- Telecom</option><option value=\"166669\">- Defence</option><option value=\"166730\">-- Air Force</option><option value=\"166731\">-- Army</option><option value=\"166732\">-- Navy</option><option value=\"166733\">-- Paramilitary Forces</option><option value=\"166670\">- Education</option><option value=\"166734\">-- Elementary Education</option><option value=\"166735\">-- Secondary & Higher Secondary Education</option><option value=\"166736\">-- Higher Education</option><option value=\"166737\">-- Adult Education</option><option value=\"166671\">- Environment & Forest</option><option value=\"166738\">-- Environment</option><option value=\"166739\">-- Forest</option><option value=\"166740\">-- Natural Resources</option><option value=\"166741\">-- Wildlife</option><option value=\"166672\">- Finance & Taxes</option><option value=\"166742\">-- Insurance</option><option value=\"166743\">-- Pension</option><option value=\"166744\">-- Banking</option><option value=\"166745\">-- Economy</option><option value=\"166746\">-- Trade</option><option value=\"166747\">-- Taxes</option><option value=\"166673\">- Food & Public Distribution</option><option value=\"166748\">-- Commodities</option><option value=\"166749\">-- Consumer Affairs</option><option value=\"166750\">-- Consumer Cooperatives</option><option value=\"166751\">-- Public Distribution</option><option value=\"166674\">- Foreign Affairs</option><option value=\"166752\">-- Embassy & Consulates</option><option value=\"166753\">-- India & World</option><option value=\"166754\">-- India and Its Neighbours</option><option value=\"166755\">-- NRIs</option><option value=\"166756\">-- Passport & Visa</option><option value=\"166675\">- Governance & Administration</option><option value=\"166757\">-- Constitution</option><option value=\"166758\">-- Parliament</option><option value=\"166759\">-- State Legislature</option><option value=\"166760\">-- Union/State Government</option><option value=\"166761\">-- District Administration</option><option value=\"166762\">-- Local Administration</option><option value=\"166763\">-- RTI & Grievances</option><option value=\"166676\">- Health & Family Welfare</option><option value=\"166764\">-- Family Welfare</option><option value=\"166765\">-- Health</option><option value=\"166677\">- Housing</option><option value=\"166769\">-- EWS Housing</option><option value=\"166770\">-- Rural Housing</option><option value=\"166771\">-- Urban Housing</option><option value=\"166678\">- Home Affairs & Enforcement</option><option value=\"166766\">-- Enforcement Organizations</option><option value=\"166767\">-- Internal Security</option><option value=\"166679\">- Industries</option><option value=\"166772\">-- Micro, Small & Medium Enterprises</option><option value=\"166773\">-- Mining</option><option value=\"166774\">-- Chemicals and Petrochemicals</option><option value=\"166775\">-- Corporate Governance</option><option value=\"166776\">-- Cottage</option><option value=\"166777\">-- Defence Products</option><option value=\"166778\">-- Fertilizers</option><option value=\"166779\">-- Food Processing</option><option value=\"166780\">-- Heavy Industries</option><option value=\"166781\">-- Manufacturing</option><option value=\"166782\">-- Oil and Natural Gas</option><option value=\"166783\">-- Pharmaceuticals</option><option value=\"166784\">-- Retail</option><option value=\"166785\">-- Textiles</option><option value=\"166786\">-- Tourism</option><option value=\"166680\">- Infrastructure</option><option value=\"166790\">-- Power</option><option value=\"166791\">-- Bridges</option><option value=\"166792\">-- Dams</option><option value=\"166793\">-- Roads</option><option value=\"166794\">-- Urban</option><option value=\"166681\">- Information & Broadcasting</option><option value=\"166787\">-- Broadcasting</option><option value=\"166788\">-- Film</option><option value=\"166789\">-- Print Media</option><option value=\"166682\">- Labour & Employment</option><option value=\"166803\">-- Employment</option><option value=\"166804\">-- Organized Sector Workers</option><option value=\"166805\">-- Unorganized Sector Workers</option><option value=\"166683\">- Law & Justice</option><option value=\"166795\">-- Judiciary</option><option value=\"166796\">-- Alternative Dispute Redressal (ADR)</option><option value=\"166797\">-- Enactment of Laws</option><option value=\"166798\">-- Institutions</option><option value=\"166799\">-- Law Commission of India</option><option value=\"166800\">-- Legal Aid</option><option value=\"166801\">-- Legal Profession</option><option value=\"166802\">-- Personal Law</option><option value=\"166684\">- Power & Energy</option><option value=\"166806\">-- Coal</option><option value=\"166807\">-- Conservation of Energy</option><option value=\"166808\">-- Petroleum & Natural Gas</option><option value=\"166809\">-- Power</option><option value=\"166810\">-- Renewable Energy</option><option value=\"166685\">- Rural</option><option value=\"166811\">-- Rural Employment</option><option value=\"166812\">-- Development</option><option value=\"166813\">-- Panchayati Raj</option><option value=\"166686\">- Science & Technology</option><option value=\"166814\">-- Scientific Education</option><option value=\"166815\">-- Research & Development</option><option value=\"166687\">- Social Development</option><option value=\"166816\">-- Other Backward Classes</option><option value=\"166817\">-- Scheduled Castes</option><option value=\"166818\">-- Children</option><option value=\"166819\">-- Disabled</option><option value=\"166820\">-- Minority Community</option><option value=\"166821\">-- Senior Citizen</option><option value=\"166822\">-- Tribal</option><option value=\"166823\">-- Women</option><option value=\"166688\">- Transport</option><option value=\"166828\">-- Aviation</option><option value=\"166829\">-- Metro</option><option value=\"166830\">-- Railways</option><option value=\"166831\">-- Surface Transport</option><option value=\"166832\">-- Water Ways</option><option value=\"166689\">- Travel & Tourism</option><option value=\"166824\">-- Places</option><option value=\"166826\">-- Modes of Travel</option><option value=\"166827\">-- Approved Agents</option><option value=\"166690\">- Youth & Sports</option><option value=\"166833\">-- Sports Infrastructure</option><option value=\"166834\">-- Games</option><option value=\"166835\">-- Youth Affairs</option><option value=\"166661\"> My Government</option><option value=\"166848\">- Constitution of India</option><option value=\"166858\">-- Constitution of India (Full Text)</option><option value=\"166849\">- Government Directory</option><option value=\"303137\">-- Districts</option><option value=\"166890\">-- Union Government</option><option value=\"166891\">-- States & UTs</option><option value=\"166893\">-- Judiciary</option><option value=\"166850\">- Indian Parliament</option><option value=\"166861\">-- President of India</option><option value=\"166862\">-- Rajya Sabha</option><option value=\"166863\">-- Lok Sabha</option><option value=\"166851\">- Publications</option><option value=\"166889\">-- Books</option><option value=\"166852\">- Who's Who</option><option value=\"166864\">-- President</option><option value=\"166865\">-- Vice-President</option><option value=\"166866\">-- Prime Minister</option><option value=\"166867\">-- Council of Ministers</option><option value=\"166868\">-- Governors</option><option value=\"166869\">-- Lt. Governors & Administrators</option><option value=\"166870\">-- Chief Ministers</option><option value=\"166871\">-- Judges of Supreme Court</option><option value=\"166872\">-- Chiefs of Armed Forces</option><option value=\"166873\">-- Members of Parliament</option><option value=\"166874\">-- MLAs/MLCs</option><option value=\"166853\">- Acts</option><option value=\"166854\">- Schemes</option><option value=\"166855\">- Documents</option><option value=\"166875\">-- Annual Report</option><option value=\"166876\">-- Budget</option><option value=\"303144\">-- Demand for Grant</option><option value=\"166877\">-- Census Report</option><option value=\"166878\">-- Citizens Charter</option><option value=\"166879\">-- E-Books</option><option value=\"166880\">-- Gazetteer Notification</option><option value=\"166881\">-- Guidelines</option><option value=\"166882\">-- Others</option><option value=\"166883\">-- Plan Document</option><option value=\"166884\">-- Policy</option><option value=\"166885\">-- Reports</option><option value=\"166662\"> People Groups</option><option value=\"166894\">- Community</option><option value=\"166899\">-- Businesspersons</option><option value=\"166900\">-- Indians Travelling Abroad</option><option value=\"166901\">-- Minority Community</option><option value=\"166902\">-- Rural Indian</option><option value=\"166903\">-- Scheduled Tribes/Schedule Caste</option><option value=\"166904\">-- Self-Employed</option><option value=\"166905\">-- Social Workers</option><option value=\"166906\">-- Sportsperson</option><option value=\"166907\">-- Student</option><option value=\"166908\">-- Tourists</option><option value=\"166909\">-- Women</option><option value=\"166910\">-- Defence & Paramilitary Personnel</option><option value=\"166911\">-- Differently Abled</option><option value=\"166912\">-- Entrepreneur</option><option value=\"166913\">-- Environmentalists</option><option value=\"166914\">-- Government Employee</option><option value=\"166915\">-- Importers and Exporters</option><option value=\"166916\">-- Job Seekers</option><option value=\"166917\">-- Non-Resident Indians</option><option value=\"166895\">- Life Cycle</option><option value=\"166896\">-- Kids</option><option value=\"166897\">-- Senior Citizens</option><option value=\"166898\">-- Youth</option><option value=\"166664\"> India at a Glance</option><option value=\"166927\">- Profile</option><option value=\"166929\">- States of India</option><option value=\"166930\">- My India My Pride</option><option value=\"166931\">- National Symbols</option><option value=\"166932\">- Culture & Heritage</option><option value=\"303138\">- Districts of India</option><option value=\"166933\">- People and Lifestyle</option><option value=\"166934\">- Places to Visit</option><option value=\"166935\">- Natural Wonders</option><option value=\"166936\">- Where to stay</option><option value=\"166937\">- Modes of Travel</option><option value=\"166939\">- Travel Agents</option></select>\r\n",
      "</div>\r\n",
      "        </div>\r\n",
      "              </div>\r\n",
      "              <div class=\"views-exposed-widget views-widget-sort-by\">\r\n",
      "        <div class=\"form-item form-type-select form-item-sort-by\">\r\n",
      "  <label for=\"edit-sort-by\">Sort by  </label>\r\n",
      " <select id=\"edit-sort-by\" name=\"sort_by\" class=\"form-select\"><option value=\"created\" selected=\"selected\">Recent</option><option value=\"changed\">Most Updated</option></select>\r\n",
      "</div>\r\n",
      "      </div>\r\n",
      "      <div class=\"views-exposed-widget views-widget-sort-order\">\r\n",
      "        <div class=\"form-item form-type-select form-item-sort-order\">\r\n",
      "  <label for=\"edit-sort-order\">Order </label>\r\n",
      " <select id=\"edit-sort-order\" name=\"sort_order\" class=\"form-select\"><option value=\"ASC\">Asc</option><option value=\"DESC\" selected=\"selected\">Desc</option></select>\r\n",
      "</div>\r\n",
      "      </div>\r\n",
      "                <div class=\"views-exposed-widget views-submit-button\">\r\n",
      "      <input type=\"submit\" id=\"edit-submit-advance-metadata-search\" value=\"Search\" class=\"form-submit\" name=\"Advance search Submit Botton\">    </div>\r\n",
      "      </div>\r\n",
      "</div>\r\n",
      "</div></form>\r\n",
      "\t                          \t\r\n",
      "\t\t\t\t\t\t\t</div>\r\n",
      "\t\t\t\t\t\t\t<!--add-adres-footer-->\r\n",
      "\t\r\n",
      "\t\t\t\t\t\t</div>\r\n",
      "                        \r\n",
      "\t\t\t\t\t</div> \t\r\n",
      "\t\t\t\t</div>\r\n",
      "\r\n",
      "\t\t\t</div>\r\n",
      "\t\t\t<div class=\"heraderbtm_col2\">\r\n",
      "\t\t\t\t<div class=\"region region-leaderboard\"><div class=\"region-inner clearfix\"><section id=\"block-views-most-search-block\" class=\"block block-views\" ><div class=\"block-inner clearfix\">  \r\n",
      "      <h2 class=\"block-title\">Most Searched</h2>\r\n",
      "  \r\n",
      "  <div class=\"block-content content\"><div class=\"view view-most-search view-id-most_search view-display-id-block view-dom-id-000b159be12c1c1d2d36b9e828ff68e0\">\n",
      "        \n",
      "  \n",
      "  \n",
      "      <div class=\"view-content\">\n",
      "      <div class=\"item-list\">    <ul>          <li class=\"views-row views-row-1 views-row-odd views-row-first\">  \n",
      "          <a href=\"/gsearch?s=Birth%20Certificate\">Birth Certificate</a>  </li>\n",
      "          <li class=\"views-row views-row-2 views-row-even\">  \n",
      "          <a href=\"/gsearch?s=Driving%20Licence\">Driving Licence</a>  </li>\n",
      "          <li class=\"views-row views-row-3 views-row-odd views-row-last\">  \n",
      "          <a href=\"/gsearch?s=Pan%20card\">Pan card</a>  </li>\n",
      "      </ul></div>    </div>\n",
      "  \n",
      "  \n",
      "  \n",
      "  \n",
      "  \n",
      "  \n",
      "</div></div>\r\n",
      "  </div></section></div></div>\t\t\t</div>\r\n",
      "\t\t <!-- !Header Region -->\r\n",
      "\t\t</div>\r\n",
      "\t</section> \r\n",
      "</header>\r\n",
      "\r\n",
      "\t<section class=\"sliderportion\">\r\n",
      "\t\t<div class=\"\">\r\n",
      "\t\t\t<article class=\"homeslider\">\r\n",
      "\t\t\t\t<div class=\"region region-highlighted\"><div class=\"region-inner clearfix\"><div id=\"block-views-home-main-slider-block\" class=\"block block-views no-title\" ><div class=\"block-inner clearfix\">  \r\n",
      "  \r\n",
      "  <div class=\"block-content content\"><div class=\"view view-home-main-slider view-id-home_main_slider view-display-id-block jquery-slider-wrapper jquery-slider-option-navigation-selector-control-timer view-dom-id-fae3ad58a65c9f799574616d07318916\">\n",
      "        \n",
      "  \n",
      "  \n",
      "      <div class=\"view-content\">\n",
      "      \n",
      "  <div class=\"skin-default\">\n",
      "    \n",
      "    <div id=\"flexslider_views_slideshow_main_home_main_slider-block\" class=\"flexslider_views_slideshow_main views_slideshow_main\"><div class=\"flex-nav-container\">\n",
      "  <div class=\"flexslider\">\n",
      "    <ul id=\"flexslider_views_slideshow_home_main_slider-block\" class=\"flexslider-views-slideshow-main-frame slides\">\n",
      "        <li class=\"flexslider-views-slideshow-main-frame-row flexslider_views_slideshow_slide views-row-1 views-row-odd\">\n",
      "      \n",
      "  <div class=\"views-field views-field-php\">        <span class=\"field-content\"><img src=\"https://cbpssubscriber.mygov.in/assets/uploads/flYHd7E7b2W2XRtP\" id=\"_9dlO5d9OlWeVIZCG\" onclick=\"javascript:window.open('https://cbpssubscriber.mygov.in/aff/9dlO5d9OlWeVIZCG')\" style=\"cursor:pointer\" onload=\"javascript:(function(){if(typeof _done == 'undefined' || !_done){this.setAttribute('src', this.getAttribute('src')+'?'+Math.floor((Math.random() * 100) + 1)); _done=true;}}).call(this)\" alt=\"CBPS Banner\"></span>  </div>  </li>\n",
      "  <li class=\"flexslider-views-slideshow-main-frame-row flexslider_views_slideshow_slide views-row-2 views_slideshow_cycle_hidden views-row-even\">\n",
      "      \n",
      "  <div class=\"views-field views-field-php\">        <span class=\"field-content\"><a href=\"https://www.india.gov.in/spotlight/universal-service-obligation-fund-usof \" target=\"_BLANK\" class=\"ext-link\" title=\"Universal Service Obligation Fund (USOF)\"><img  alt=\"Universal Service Obligation Fund (USOF)\" src=\"https://www.india.gov.in/sites/upload_files/npi/files/usof-spotlight.jpg\"></a></span>  </div>  </li>\n",
      "    </ul>\n",
      "  </div>\n",
      "</div></div>\n",
      "      </div>\n",
      "    </div>\n",
      "  \n",
      "  \n",
      "  \n",
      "  \n",
      "  \n",
      "  \n",
      "</div></div>\r\n",
      "  </div></div></div></div>\t\t\t</article>\r\n",
      "\t\t</div>\r\n",
      "\t</section>\r\n",
      "    <div id=\"main\" class=\"columns clearfix\">\r\n",
      "      <main id=\"content-column\" class=\"content-column\" role=\"main\">\r\n",
      "        <div class=\"content-inner\">\r\n",
      "\r\n",
      "          <!-- !Breadcrumbs -->\r\n",
      "\t\t\t\r\n",
      "\t\t\t<!-- !Messages and Help -->\r\n",
      "\t\t\t\t\t\t\r\n",
      "\t\t\t<!-- !Secondary Content Region -->\r\n",
      "\t\t\t\r\n",
      "          <div id=\"main-content\">\r\n",
      "\r\n",
      "            \r\n",
      "            <!-- !Main Content Header -->\r\n",
      "            \t\t\t\r\n",
      "\t\t\t\r\n",
      "            <!-- !Main Content -->\r\n",
      "                          <div id=\"content\" class=\"region\">\r\n",
      "                <div id=\"block-system-main\" class=\"block block-system no-title\" >          <div class=\"one-column at-panel panel-display clearfix\" id=\"home\">   <div class=\"region region-one-main\">     <div class=\"region-inner clearfix\">       <div class=\"panel-pane pane-panels-mini pane-home-main-content wrapper no-title block\">    <div class=\"block-inner clearfix\">                                <div class=\"block-content\">        <div class=\"panel-display panel-3col clearfix\" id=\"mini-panel-home_main_content\">   <div class=\"panel-panel panel-col-first\">     <div class=\"inside\"><div class=\"panel-pane pane-custom pane-1 home_heading no-title block\">    <div class=\"block-inner clearfix\">                                <div class=\"block-content\">        <h2>News Highlights</h2>    </div>                  </div>  </div>  <div class=\"panel-separator\"></div><div class=\"panel-pane pane-block pane-quicktabs-none no-title block\">    <div class=\"block-inner clearfix\">                                <div class=\"block-content\">        <div  id=\"quicktabs-_none_\" class=\"quicktabs-wrapper quicktabs-style-nostyle\"><div class=\"item-list item-list-q\"><ul class=\"quicktabs-tabs quicktabs-style-nostyle\"><li class=\"active even first last\"><a href=\"/home?qt-_none_=0#qt-_none_\" id=\"quicktabs-tab-_none_-0\" class=\"active\">News &amp; Press Releases</a></li></ul></div><div id=\"quicktabs-container-_none_\" class=\"quicktabs_main quicktabs-style-nostyle\"><div  id=\"quicktabs-tabpage-_none_-0\" class=\"quicktabs-tabpage \"><div class=\"view view-news-feeds view-id-news_feeds view-display-id-block view-dom-id-0bfceb179589db207a710e25d0d88ac9\">                      <div class=\"view-content\">       <div class=\"item-list\">    <ul>          <li class=\"views-row views-row-1 views-row-odd views-row-first\">             <a href=\"https://pib.gov.in/PressReleaseIframePage.aspx?PRID=1880873 \" target=\"_blank\" title=\"External site that opens in a new window \" class=\"ext-link-ajax\">PM expresses gratitude and thanks global leaders for extending...</a>   </li>           <li class=\"views-row views-row-2 views-row-even\">             <a href=\"https://pib.gov.in/PressReleaseIframePage.aspx?PRID=1880863 \" target=\"_blank\" title=\"External site that opens in a new window \" class=\"ext-link-ajax\">The 1st Sherpa Meeting of India’s G20 Presidency begins today...</a>   </li>           <li class=\"views-row views-row-3 views-row-odd\">             <a href=\"https://pib.gov.in/PressReleaseIframePage.aspx?PRID=1880836 \" target=\"_blank\" title=\"External site that opens in a new window \" class=\"ext-link-ajax\"> President of India Witnesses Operational Demonstration By...</a>   </li>           <li class=\"views-row views-row-4 views-row-even\">             <a href=\"https://pib.gov.in/PressReleaseIframePage.aspx?PRID=1880828 \" target=\"_blank\" title=\"External site that opens in a new window \" class=\"ext-link-ajax\">Ministry of Culture organizes “Daakroom”, the letter writing...</a>   </li>           <li class=\"views-row views-row-5 views-row-odd\">             <a href=\"https://pib.gov.in/PressReleaseIframePage.aspx?PRID=1880819 \" target=\"_blank\" title=\"External site that opens in a new window \" class=\"ext-link-ajax\">Stage III of revised Graded Response Action Plan (GRAP) invoked...</a>   </li>           <li class=\"views-row views-row-6 views-row-even\">             <a href=\"https://pib.gov.in/PressReleaseIframePage.aspx?PRID=1880815 \" target=\"_blank\" title=\"External site that opens in a new window \" class=\"ext-link-ajax\">189th Meeting of Employees’ State Insurance Corporation (ESIC)...</a>   </li>           <li class=\"views-row views-row-7 views-row-odd views-row-last\">             <a href=\"https://pib.gov.in/PressReleaseIframePage.aspx?PRID=1880813 \" target=\"_blank\" title=\"External site that opens in a new window \" class=\"ext-link-ajax\">Shri Atul Bhatt, CMD, RINL ,flags off the Vizag Steel Run-a 5K...</a>   </li>       </ul></div>    </div>                   <div class=\"view-footer\">       <div class=\"more-link\"><a title=\"More news\" href=\"/news_lists?a703479779\">more news..</a></div>    </div>       </div></div></div></div>    </div>                  </div>  </div>  </div>   </div>    <div class=\"panel-panel panel-col\">     <div class=\"inside\"><div class=\"panel-pane pane-custom pane-2 home_heading no-title block\">    <div class=\"block-inner clearfix\">                                <div class=\"block-content\">        <h2>Most Requested Information & Forms</h2>    </div>                  </div>  </div>  <div class=\"panel-separator\"></div><div class=\"panel-pane pane-panels-mini pane-most-view-for-home mostpopular_block accordian no-title block\">    <div class=\"block-inner clearfix\">                                <div class=\"block-content\">        <div class=\"panel-display panel-1col clearfix\" id=\"mini-panel-most_view_for_home\">   <div class=\"panel-panel panel-col\">     <div><section class=\"panel-pane pane-views pane-metadata home-tab block\">    <div class=\"block-inner clearfix\">                      <h2 class=\"pane-title block-title\">Information</h2>                      <div class=\"block-content\">        <div class=\"view view-metadata view-id-metadata view-display-id-block_1 accordion-container view-dom-id-b2167e6a43f50a0f17dd2f1b4351645c\">                      <div class=\"view-content\">       <div class=\"accordion_body collapsing-section\">    <ul>          <li class=\"views-row views-row-1 views-row-odd views-row-first\">     <div>        <span><a href=\"/national-leprosy-eradication-programme-0\">National Leprosy Eradication Programme</a></span>  </div></li>           <li class=\"views-row views-row-2 views-row-even\">     <div>        <span><a href=\"/official-website-central-translation-bureau\">Official website of Central Translation Bureau</a></span>  </div></li>           <li class=\"views-row views-row-3 views-row-odd\">     <div>        <span><a href=\"/official-website-information-technology-department-delhi\">Website of Information Technology Department of Delhi</a></span>  </div></li>           <li class=\"views-row views-row-4 views-row-even\">     <div>        <span><a href=\"/website-building-materials-and-technology-promotion-council\"> Website on Building Materials and Technology Promotion...</a></span>  </div></li>           <li class=\"views-row views-row-5 views-row-odd\">     <div>        <span><a href=\"/official-website-bharat-cooking-coal-limited\">Website of Bharat Coking Coal Limited</a></span>  </div></li>           <li class=\"views-row views-row-6 views-row-even\">     <div>        <span><a href=\"/official-website-andhra-pradesh-state-consumer-disputes-redressal-commission\">Website of Andhra Pradesh State Consumer Disputes Redressal...</a></span>  </div></li>           <li class=\"views-row views-row-7 views-row-odd views-row-last\">     <div>        <span><a href=\"/official-website-meteorological-centre-raipur\">Website of Meteorological Centre of Raipur</a></span>  </div></li>       </ul></div>    </div>                   </div>    </div>                  </div>  </section>  </div>   </div> </div>     </div>                  </div>  </div>  </div>   </div>    <div class=\"panel-panel panel-col-last\">     <div class=\"inside\"><div class=\"panel-pane pane-custom pane-3 home_heading no-title block\">    <div class=\"block-inner clearfix\">                                <div class=\"block-content\">        <h2>Activities & Initiatives</h2>    </div>                  </div>  </div>  <div class=\"panel-separator\"></div><div class=\"panel-pane pane-views pane-featured no-title block\">    <div class=\"block-inner clearfix\">                                <div class=\"block-content\">        <div class=\"view view-featured view-id-featured view-display-id-block view-dom-id-b299742d8220808fb9031da2b0098dd9\">                      <div class=\"view-content\">         <div class=\"views-row views-row-1 views-row-odd views-row-first initiatives-block\">          <div class=\"views-field views-field-field-image\">        <div class=\"field-content\"><a href=\"https://amritmahotsav.nic.in\" class=\"ext-link\"><img typeof=\"foaf:Image\" class=\"image-style-none\" src=\"https://www.india.gov.in/sites/upload_files/npi/files/india75.jpg\" width=\"199\" height=\"87\" alt=\"Azadi Ka Amrit Mahotsav\" title=\"Azadi Ka Amrit Mahotsav\" /></a></div>  </div>     <div>        <p>initiative of the Government of India to celebrate and commemorate 75 years of independence of progressive India</p>  </div>  </div>   <div class=\"views-row views-row-2 views-row-even views-row-last initiatives-block\">          <div class=\"views-field views-field-field-image\">        <div class=\"field-content\"><a href=\"https://www.g20.org\" class=\"ext-link\"><img typeof=\"foaf:Image\" class=\"image-style-none\" src=\"https://www.india.gov.in/sites/upload_files/npi/files/g-20-logo.jpg\" width=\"199\" height=\"87\" alt=\"G-20\" title=\"G-20\" /></a></div>  </div>     <div>        <p>One Earth One Family One Future</p>  </div>  </div>     </div>                   </div>    </div>                  </div>  </div>  </div>   </div> </div>     </div>                  </div>  </div>  <div class=\"panel-separator\"></div><div class=\"panel-pane pane-panels-mini pane-home-spotlight-section bottom-blue-row no-title block\">    <div class=\"block-inner clearfix\">                                <div class=\"block-content\">        <div class=\"three-3x33 at-panel panel-display clearfix\" id=\"mini-panel-home_spotlight_section\">     <div class=\"region region-three-33-first\">     <div class=\"region-inner clearfix\">       <div class=\"panel-pane pane-custom pane-4 bottom-sms no-title block\">    <div class=\"block-inner clearfix\">                                <div class=\"block-content\">        <div class=\"bottom-sms clearfix\">  <div class=\"sms-heading\"><h3>Be involved</h3><span class=\"title-sub\">collaborate, share and influence government policy</span></div>  <div class=\"icon-holder clearfix\">     <div class=\"sms-content data-do\"><a href=\"https://www.mygov.in/task/slogan-writing-competition-g20-summit\" target=\"_blank\" role=\"link\"><span>Slogan Writing Competition on G20 Summit</span></a></div>     <div class=\"sms-content data-discuss\"><a href=\"https://www.mygov.in/group-issue/inviting-ideas-mann-ki-baat-prime-minister-narendra-modi-25th-december-2022\" target=\"_blank\" role=\"link\"><span>Inviting ideas for Mann Ki Baat by Prime Minister Narendra Modi on 25th December ..</span></a></div>     <div class=\"sms-content data-poll\"><a href=\"https://www.mygov.in/mygov-survey/my-thoughts-–-our-toilets\" target=\"_blank\" role=\"link\"><span>My Thoughts – Our Toilets</span></a></div>     <div class=\"sms-content data-talk\"><a href=\"https://www.mygov.in/talk/tune-mann-ki-baat-prime-minister-narendra-modi-27th-novemeber-2022\" target=\"_blank\" role=\"link\"><span>Tune in to Mann Ki Baat by Prime Minister Narendra Modi on 27th Novemeber 2022</span></a></div> </div> <span class=\"subscribe-now\">          <a href=\"https://www.india.gov.in/mygov/events\" role=\"link\">     View Details</a></span>  </div>    </div>                  </div>  </div>      </div>   </div>   <div class=\"region region-three-33-second\">     <div class=\"region-inner clearfix\">       <div class=\"panel-pane pane-views pane-spotlight no-title block\">    <div class=\"block-inner clearfix\">                                <div class=\"block-content\">        <div class=\"view view-spotlight view-id-spotlight view-display-id-block bottom-sms view-dom-id-b1ccb4f9470e1995a6051e8bca1d152d\">             <div class=\"view-header\">       <div class=\"sms-heading\"> <h3>Spotlight</h3> </div>     </div>                <div class=\"view-content\">       <div class=\"item-list\">    <ul>          <li class=\"views-row views-row-1 views-row-odd views-row-first\">     <div class=\"views-field views-field-nid\">        <span class=\"field-content\"><a href=\"/spotlight/universal-service-obligation-fund-usof\"><span>Universal Service Obligation Fund (USOF)</span></a></span>  </div></li>           <li class=\"views-row views-row-2 views-row-even views-row-last\">     <div class=\"views-field views-field-nid\">        <span class=\"field-content\"><a href=\"/spotlight/vidyanjali\"><span>Vidyanjali</span></a></span>  </div></li>       </ul></div>    </div>                   <div class=\"view-footer\">       <span class=\"subscribe-now\"><a href=\"/spotlight\" title=\"Click here to see all Spotlight\">View all</a></span>    </div>       </div>    </div>                  </div>  </div>  <div class=\"panel-separator\"></div><div class=\"panel-pane pane-custom pane-5 no-title block\">    <div class=\"block-inner clearfix\">                                <div class=\"block-content\">        <div class=\"view view-spotlight view-id-spotlight view-display-id-block bottom-sms margn-top\"> \t<div class=\"view-header\"> \t  <div class=\"sms-heading\"> \t\t<h3>Transparency</h3> \t  </div> \t</div> \t<div class=\"view-content\"> \t  <div class=\"views-row views-row-1 views-row-odd views-row-first sms-content\"> \t\t<div class=\"views-field views-field-title\"> <span class=\"field-content\"> \t\t<a href=\"https://rti.gov.in/\" target=\"blank\" title=\"Right to Information Site Link\" class=\"ext-link\">Right to Information</a> | <a href=\"https://data.gov.in/\" target=\"blank\" title=\"Open Data Site Link\" class=\"ext-link\">Open Data</a> | <a href=\"https://pgportal.gov.in/cpgoffice/\" target=\"blank\" title=\"Public Grievance Site Link\" class=\"ext-link\">Public Grievance</a> \t\t</span></div> \t  </div> \t</div> </div>    </div>                  </div>  </div>      </div>   </div>   <div class=\"region region-three-33-third\">     <div class=\"region-inner clearfix\">       <div class=\"panel-pane pane-custom pane-6 no-title block\">    <div class=\"block-inner clearfix\">                                <div class=\"block-content\">        <div class=\"bottom-sms contact-block\">     <div class=\"sms-heading\">       <h3><a class=\"feedback\" href=\"/feedback\">Feedback</a></h3>       <h3><a class=\"contactus\" href=\"/contact-us\">Contact us</a></h3>       <h3><span class=\"sharepage\" >Share this page</span></h3>       <div class=\"home-social-share\">         <div class=\"facebook-share\"><a title=\"External site that opens in a new window \" href=\"https://www.facebook.com/sharer.php?u=https%3A%2F%2Findia.gov.in%2Fhome\" target=\"_blank\" class=\"ext-link\">Facebook</a></div>         <div class=\"twitter-share\"><a  title=\"External site that opens in a new window \" href=\"https://twitter.com/share?url=https%3A%2F%2Findia.gov.in%26text%3DPlease+check+this+link\" target=\"_blank\" class=\"ext-link\">Twitter</a></div>       </div>     </div> </div>    </div>                  </div>  </div>      </div>   </div>   </div>     </div>                  </div>  </div>  <div class=\"panel-separator\"></div><div class=\"panel-pane pane-custom pane-7 wrapper no-title block\">    <div class=\"block-inner clearfix\">                                <div class=\"block-content\">        <script type=\"text/javascript\"> \t \t$(document).ready(function(){\t\t \t\tvar n_time;\t\t \t\trefreshCalendar(); \t\tsetInterval( refreshCalendar, 900000); \t\tfunction refreshCalendar(){ \t\t\tvar d = new Date(); \t\t\tn_time = d.getTime(); \t\t\t\t\t \t\t\t$(\".calendar a\").attr(\"href\", $(\".calendar a\").attr(\"href\")+\"?a=\"+n_time); \t\t} \t}); </script>    <div class=\"homebtm_quicklinks \"><ul> <li><a href=\"https://goidirectory.gov.in/\" target=\"_blank\" title=\"Integrated Government Online Directory (iGOD) (External Website that opens in a new window)\"  role=\"link\"><img alt=\"Integrated Government Online Directory\" src=\"/sites/all/themes/adaptivetheme/npi_adaptive/images/quicklinks5.png\"><div class=\"quilcklinks_outer\"><h2>Integrated Government Online Directory (iGOD)</h2><p>A one-point source to access all Indian Government Websites at all levels and from all sectors. </p></div></a></li>   <li><a title=\"Mobile Seva Appstore (External Website that opens in a new window)\" target=\"_blank\" href=\"https://apps.mgov.gov.in/\" role=\"link\"><img alt=\"Mobile App Directory\" src=\"/sites/all/themes/adaptivetheme/npi_adaptive/images/quicklinks2.png\"><div class=\"quilcklinks_outer\"><h2>Mobile App Directory</h2><p>Mobile Seva Appstore: National Mobile Governance Initiative by Dept. of Electronics & IT</p></div></a></li>  <li  class=\"calendar\"><a href=\"/calendar\"  role=\"link\"><img alt=\"Calendar\" src=\"/sites/all/themes/adaptivetheme/npi_adaptive/images/quicklinks3.png\"><div class=\"quilcklinks_outer\"><h2>Calendar</h2><p>View holidays as per the circular issued by the Ministry of Personnel, Public Grievances and Pensions.</p></div></a></li>  <li><a href=\"https://www.mygov.in/\" target=\"_blank\"  role=\"link\" title=\"MyGov (External Website that opens in a new window)\"><img alt=\"MyGov\" src=\"/sites/upload_files/npi/files/newsletter/quicklinks6.png\"><div class=\"quilcklinks_outer\"><h2>MyGov</h2><p>Be an active partner in nation-building. Participate in Groups, Tasks, Discussions, Polls, Blogs and Talks.</p></div></a></li>  <li><a href=\"https://webcast.gov.in/\"  role=\"link\" title=\"Webcast Services (External Website that opens in a new window)\" target=\"_blank\"><img alt=\"Webcast Services\" src=\"/sites/all/themes/adaptivetheme/npi_adaptive/images/webcast-icon.png\"><div class=\"quilcklinks_outer\"><h2>Webcast Services</h2><p>View live and on demand Webcast of important Goverment events, activities and Live TV Channels</p></div></a></li>  </ul></div>     </div>                  </div>  </div>      </div>   </div> </div>     </div>              </div>\r\n",
      "            \r\n",
      "            <!-- !Feed Icons -->\r\n",
      "            \r\n",
      "            \r\n",
      "          </div><!-- /end #main-content -->\r\n",
      "\r\n",
      "          <!-- !Content Aside Region-->\r\n",
      "          \r\n",
      "        </div><!-- /end .content-inner -->\r\n",
      "      </main><!-- /end #content-column -->\r\n",
      "\r\n",
      "      <!-- !Sidebar Regions -->\r\n",
      "            \r\n",
      "    </div><!-- /end #columns -->\r\n",
      "\r\n",
      "    <!-- !Tertiary Content Region -->\r\n",
      "    \r\n",
      "<!-- !Footer -->\r\n",
      "  <footer id=\"footer\" class=\"clearfix app-main-footer\" role=\"contentinfo\">\r\n",
      "\t\t\t\t\t\t\r\n",
      "\t<section id=\"footertop\">\r\n",
      "\t\t<div class=\"wrapper\">\r\n",
      "          <a class=\"mobilebtmNav\" href=\"javascript:;\" aria-label=\"Mobile Menu\" title=\"Mobile Menu\"><div id=\"menutext\">Menu</div><div class=\"spanoutetr\"><span></span><span></span><span></span></div></a>\r\n",
      "\t\t\t<div class=\"region region-footer\"><div class=\"region-inner clearfix\"><div id=\"block-block-6\" class=\"block block-block no-title\" ><div class=\"block-inner clearfix\">  \r\n",
      "  \r\n",
      "  <div class=\"block-content content\">\n",
      "<ul>\n",
      "<li><a title=\"NPI Overview \" href=\"/about-portal\" role=\"link\">About us</a></li>\n",
      "<li><a title=\"Write to NPI\" href=\"/contact-us\" role=\"link\">Contact us</a></li>\n",
      "<li><a title=\"Suggestion for NPI\" href=\"/feedback\" role=\"link\">Feedback</a></li>\n",
      "<li><a title=\"Visitor Summary for NPI\" href=\"/visitor-summary\" role=\"link\">Visitor Summary</a></li>\n",
      "<li><a title=\"Using NPI\" href=\"/help\" role=\"link\">Help</a></li>\n",
      "<li><a href=\"/link-us\" role=\"link\" title=\"Link to Us\">Link to Us</a></li>\n",
      "<li><a title=\"Monthly Newsletter\" href=\"/newsletters\" role=\"link\">Newsletter</a></li>\n",
      "<li><a title=\"Recommend NPI\" href=\"/tell-friend\" role=\"link\">Tell a Friend</a></li>\n",
      "<li><a title=\"Policies &amp; Disclaimer\" href=\"/website-policy\" role=\"link\">Website Policy</a></li>\n",
      "<li><a href=\"/sitemap\" role=\"link\" title=\"Sitemap\">Sitemap</a></li>\n",
      "</ul>\n",
      "\n",
      "\n",
      "</div>\r\n",
      "  </div></div></div></div>\t\t</div>\r\n",
      "\t</section>\r\n",
      "\t\t<section id=\"fotter-bottom\">\r\n",
      "\t<div class=\"wrapper\">\r\n",
      "\t\t<div class=\"region region-content-aside\"><div class=\"region-inner clearfix\"><div id=\"block-block-7\" class=\"block block-block no-title\" ><div class=\"block-inner clearfix\">  \r\n",
      "  \r\n",
      "  <div class=\"block-content content\"><div class=\"footer_col3\">\n",
      "\t\t\t\t<a  title=\"Data Portal India (External site that opens in a new window)\" target=\"_blank\" href=\"https://data.gov.in/\"><img src=\"https://www.india.gov.in/sites/all/themes/adaptivetheme/npi_adaptive/images/img-ftr-open-data-portal.png\" alt=\"Data Portal India\"></a>\n",
      "\t\t\t\t<a  title=\"Press Information Bureau Government of India (External site that opens in a new window)\" target=\"_blank\" href=\"https://pib.gov.in/\"><img src=\"https://www.india.gov.in/sites/all/themes/adaptivetheme/npi_adaptive/images/pib.png\" alt=\"Press Information Bureau Government of India\"></a>\n",
      "\t</div>\n",
      "\t\t\t<div class=\"footerLinks\">\n",
      "\t\t\t \n",
      "\n",
      "<ul>\n",
      "  <li class=\"first\"><a href=\"/topics\" role=\"link\"><span>Information Related To</span></a>\n",
      "    <ul>\n",
      "      <li><a href=\"/topics/agriculture\" role=\"link\">Agriculture</a></li>\n",
      "      <li><a href=\"/topics/art-culture\" role=\"link\">Art &amp; Culture</a></li>\n",
      "      <li><a href=\"/topics/commerce\" role=\"link\">Commerce</a></li>\n",
      "      <li><a href=\"/topics/communications-it\" role=\"link\">Communication</a></li>\n",
      "      <li><a href=\"/topics/defence\" role=\"link\">Defence</a></li>\n",
      "      <li><a href=\"/topics/education\" role=\"link\">Education</a></li>\n",
      "      <li><a href=\"/topics/environment-forest\" role=\"link\">Environment &amp; Forest</a></li>\n",
      "      <li><a href=\"/topics/finance-taxes\" role=\"link\">Finance &amp; Taxes</a></li>\n",
      "      <li><a href=\"/topics/food-public-distribution\" role=\"link\">Food &amp; Public Distribution</a></li>\n",
      "      <li><a href=\"/topics/foreign-affairs\" role=\"link\">Foreign Affairs</a></li>\n",
      "      <li><a href=\"/topics/governance-administration\" role=\"link\">Governance &amp; Administration</a></li>\n",
      "      <li><a href=\"/topics/health-family-welfare\" role=\"link\">Health &amp; Family Welfare</a></li>\n",
      "      <li><a href=\"/topics/housing\" role=\"link\">Housing</a></li>\n",
      "      <li><a href=\"/topics/home-affairs-enforcement\" role=\"link\">Home Affairs &amp; Enforcement</a></li>\n",
      "      <li><a href=\"/topics/industries\" role=\"link\">Industries</a></li>\n",
      "      <li><a href=\"/topics/infrastructure\" role=\"link\">Infrastructure</a></li>\n",
      "      <li><a href=\"/topics/information-broadcasting\" role=\"link\">Information &amp; Broadcasting</a></li>\n",
      "      <li><a href=\"/topics/labour-employment\" role=\"link\">Labour &amp; Employment</a></li>\n",
      "      <li><a href=\"/topics/law-justice\" role=\"link\">Law &amp; Justice</a></li>\n",
      "      <li><a href=\"/topics/power-energy\" role=\"link\">Power &amp; Energy</a></li>\n",
      "      <li><a href=\"/topics/rural\" role=\"link\">Rural</a></li>\n",
      "      <li><a href=\"/topics/science-technology\" role=\"link\">Science &amp; Technology</a></li>\n",
      "      <li><a href=\"/topics/social-development\" role=\"link\">Social Development</a></li>\n",
      "      <li><a href=\"/topics/transport\" role=\"link\">Transport</a></li>\n",
      "      <li><a href=\"/topics/travel-tourism\" role=\"link\">Travel &amp; Tourism</a></li>\n",
      "      <li><a href=\"/topics/youth-sports\" role=\"link\">Youth &amp; Sports</a></li>\n",
      "    </ul>\n",
      "  </li>\n",
      "  <li><a href=\"/my-government\" role=\"link\"><span>About the Government</span></a>\n",
      "    <ul>\n",
      "      <li><a href=\"/my-government/constitution-india\" role=\"link\">Constitution of India</a></li>\n",
      "      <li><a href=\"/my-government/government-directory\" role=\"link\">Government Directory</a></li>\n",
      "      <li><a href=\"/my-government/indian-parliament\" role=\"link\">Indian Parliament</a></li>\n",
      "      <li><a href=\"/my-government/publications\" role=\"link\">Publications</a></li>\n",
      "      <li><a href=\"/my-government/whos-who\" role=\"link\">Who's Who</a></li>\n",
      "      <li><a href=\"/my-government/whos-who/president\" role=\"link\">President of India</a></li>\n",
      "      <li><a href=\"/my-government/whos-who/vice-president\" role=\"link\">Vice-President of India</a></li>\n",
      "      <li><a href=\"/my-government/whos-who/prime-minister\" role=\"link\">Prime Minister of India</a></li>\n",
      "      <li><a href=\"/my-government/whos-who/council-ministers\" role=\"link\">Cabinet Ministers</a></li>\n",
      "      <li><a href=\"/my-government/whos-who/chiefs-armed-forces\" role=\"link\">Chiefs of Armed Forces</a></li>\n",
      "      <li><a href=\"/my-government/whos-who/members-parliament\" role=\"link\">Members of Parliament</a></li>\n",
      "    </ul>\n",
      "    </li>\n",
      "</ul>\n",
      "\n",
      "\n",
      "\n",
      "\n",
      "\t\t\t</div>\n",
      "</div>\r\n",
      "  </div></div><div id=\"block-block-9\" class=\"block block-block no-title\" ><div class=\"block-inner clearfix\">  \r\n",
      "  \r\n",
      "  <div class=\"block-content content\"><div class=\"lastupdated\">\n",
      "<div class=\"footer_stqc\">\n",
      "<a class=\"nic_logo\" href=\"https://www.nic.in/\" target=\"_blank\"><img src=\"https://www.india.gov.in/sites/all/themes/adaptivetheme/npi_adaptive/images/nic.png\" alt=\"nic\"/></a>\n",
      "<p>This Portal is a <a href=\"https://www.meity.gov.in/content/mission-mode-projects\" target=\"_blank\" title=\"External site that opens in a new window\" >Mission Mode Project</a> under the <a href=\"https://www.meity.gov.in/divisions/national-e-governance-plan\" target=\"_blank\" title=\"External site that opens in a new window\" >National E-Governance Plan</a>, and is owned, designed and developed by <a href=\"https://www.nic.in/\" target=\"_blank\" title=\"External site that opens in a new window\" >National Informatics Centre (NIC)</a>, <a href=\"https://www.meity.gov.in/\" target=\"_blank\" title=\"External site that opens in a new window\" >Ministry of Electronics & Information Technology</a>, Government of India. The content linked through NPI is owned and maintained by the respective Ministries/Departments.</p>\n",
      "<a class=\"logo_stqc\" href=\"https://www.india.gov.in/sites/upload_files/npi/files/stqc_certificate_npi.pdf\" target=\"_blank\" title=\"Certified Quality Website - CQW\"><img src=\"https://www.india.gov.in/sites/upload_files/npi/files/newsletter/cqw_logo.png\" alt=\"Certified Quality Website - CQW\"/></a>\n",
      "</div>\n",
      "<div class=\"last-review\"> Last reviewed and updated on  05 Dec, 2022<span style=\"color:#131313;\"> \n",
      "\n",
      " NPI 1\n",
      "\n",
      "</span></div>\n",
      "</div>\n",
      "\n",
      "<!-- Global site tag (gtag.js) - Google Analytics -->\n",
      "<script async src=\"https://www.googletagmanager.com/gtag/js?id=UA-42583533-1\"></script>\n",
      "<script>\n",
      "  window.dataLayer = window.dataLayer || [];\n",
      "  function gtag(){dataLayer.push(arguments);}\n",
      "  gtag('js', new Date());\n",
      "\n",
      "  gtag('config', 'UA-42583533-1', { cookie_flags: 'secure' });\n",
      "</script>\n",
      "</div>\r\n",
      "  </div></div></div></div>\t\t</div>\r\n",
      "\t</section>\r\n",
      "\t\r\n",
      "  </footer>\r\n",
      "\r\n",
      "\r\n",
      "   \r\n",
      "\r\n",
      "  </body>\r\n",
      "</html>\r\n",
      "\n"
     ]
    }
   ],
   "source": [
    "import requests \n",
    "r = requests.get('https://www.india.gov.in/') \n",
    "print(r.text) \n"
   ]
  },
  {
   "cell_type": "code",
   "execution_count": 94,
   "id": "a882bf8c",
   "metadata": {},
   "outputs": [
    {
     "name": "stdout",
     "output_type": "stream",
     "text": [
      "# This is 6th line\n",
      "# This is 7th line\n",
      "Yeah!! Its a bug free code\n",
      "This will execute no matter what\n"
     ]
    }
   ],
   "source": [
    "try:\n",
    "    f = open(\"foo.txt\",\"r\")\n",
    "    print(f.read())\n",
    "    f.close()\n",
    "\n",
    "except IOError:\n",
    "    print(\"OOps..file doesnt exist\")\n",
    "except:\n",
    "    print(\"Wrong input\")\n",
    "else:\n",
    "    print(\"Yeah!! Its a bug free code\")\n",
    "\n",
    "    \n",
    "print(\"This will execute no matter what\")\n"
   ]
  },
  {
   "cell_type": "code",
   "execution_count": 6,
   "id": "465b3c8f",
   "metadata": {},
   "outputs": [
    {
     "data": {
      "text/plain": [
       "0"
      ]
     },
     "execution_count": 6,
     "metadata": {},
     "output_type": "execute_result"
    }
   ],
   "source": [
    "fo.tell()"
   ]
  },
  {
   "cell_type": "code",
   "execution_count": 34,
   "id": "929cdf58",
   "metadata": {},
   "outputs": [
    {
     "name": "stdout",
     "output_type": "stream",
     "text": [
      "<html lang=\"en\" op=\"news\"><head><meta name=\"referrer\" content=\"origin\"><meta name=\"viewport\" content=\"width=device-width, initial-scale=1.0\"><link rel=\"stylesheet\" type=\"text/css\" href=\"news.css?QiromlAK3ct3kGoDRoLX\">\n",
      "        <link rel=\"shortcut icon\" href=\"favicon.ico\">\n",
      "          <link rel=\"alternate\" type=\"application/rss+xml\" title=\"RSS\" href=\"rss\">\n",
      "        <title>Hacker News</title></head><body><center><table id=\"hnmain\" border=\"0\" cellpadding=\"0\" cellspacing=\"0\" width=\"85%\" bgcolor=\"#f6f6ef\">\n",
      "        <tr><td bgcolor=\"#ff6600\"><table border=\"0\" cellpadding=\"0\" cellspacing=\"0\" width=\"100%\" style=\"padding:2px\"><tr><td style=\"width:18px;padding-right:4px\"><a href=\"https://news.ycombinator.com\"><img src=\"y18.gif\" width=\"18\" height=\"18\" style=\"border:1px white solid;\"></a></td>\n",
      "                  <td style=\"line-height:12pt; height:10px;\"><span class=\"pagetop\"><b class=\"hnname\"><a href=\"news\">Hacker News</a></b>\n",
      "                            <a href=\"newest\">new</a> | <a href=\"front\">past</a> | <a href=\"newcomments\">comments</a> | <a href=\"ask\">ask</a> | <a href=\"show\">show</a> | <a href=\"jobs\">jobs</a> | <a href=\"submit\">submit</a>            </span></td><td style=\"text-align:right;padding-right:4px;\"><span class=\"pagetop\">\n",
      "                              <a href=\"login?goto=news\">login</a>\n",
      "                          </span></td>\n",
      "              </tr></table></td></tr>\n",
      "<tr id=\"pagespace\" title=\"\" style=\"height:10px\"></tr><tr><td><table border=\"0\" cellpadding=\"0\" cellspacing=\"0\">\n",
      "            <tr class='athing' id='33919823'>\n",
      "      <td align=\"right\" valign=\"top\" class=\"title\"><span class=\"rank\">1.</span></td>      <td valign=\"top\" class=\"votelinks\"><center><a id='up_33919823'href='vote?id=33919823&amp;how=up&amp;goto=news'><div class='votearrow' title='upvote'></div></a></center></td><td class=\"title\"><span class=\"titleline\"><a href=\"https://scholar.archive.org/\">Internet Archive Scholar</a><span class=\"sitebit comhead\"> (<a href=\"from?site=archive.org\"><span class=\"sitestr\">archive.org</span></a>)</span></span></td></tr><tr><td colspan=\"2\"></td><td class=\"subtext\"><span class=\"subline\">\n",
      "          <span class=\"score\" id=\"score_33919823\">185 points</span> by <a href=\"user?id=nabla9\" class=\"hnuser\">nabla9</a> <span class=\"age\" title=\"2022-12-09T10:35:25\"><a href=\"item?id=33919823\">4 hours ago</a></span> <span id=\"unv_33919823\"></span> | <a href=\"hide?id=33919823&amp;goto=news\">hide</a> | <a href=\"item?id=33919823\">26&nbsp;comments</a>        </span>\n",
      "              </td></tr>\n",
      "      <tr class=\"spacer\" style=\"height:5px\"></tr>\n",
      "                <tr class='athing' id='33920019'>\n",
      "      <td align=\"right\" valign=\"top\" class=\"title\"><span class=\"rank\">2.</span></td>      <td valign=\"top\" class=\"votelinks\"><center><a id='up_33920019'href='vote?id=33920019&amp;how=up&amp;goto=news'><div class='votearrow' title='upvote'></div></a></center></td><td class=\"title\"><span class=\"titleline\"><a href=\"https://github.com/getlago/lago/wiki/Stripe%27s-real-pricing:-a-primer\">Stripe’s real pricing: a primer</a><span class=\"sitebit comhead\"> (<a href=\"from?site=github.com/getlago\"><span class=\"sitestr\">github.com/getlago</span></a>)</span></span></td></tr><tr><td colspan=\"2\"></td><td class=\"subtext\"><span class=\"subline\">\n",
      "          <span class=\"score\" id=\"score_33920019\">142 points</span> by <a href=\"user?id=AnhTho_FR\" class=\"hnuser\">AnhTho_FR</a> <span class=\"age\" title=\"2022-12-09T11:01:49\"><a href=\"item?id=33920019\">3 hours ago</a></span> <span id=\"unv_33920019\"></span> | <a href=\"hide?id=33920019&amp;goto=news\">hide</a> | <a href=\"item?id=33920019\">59&nbsp;comments</a>        </span>\n",
      "              </td></tr>\n",
      "      <tr class=\"spacer\" style=\"height:5px\"></tr>\n",
      "                <tr class='athing' id='33919830'>\n",
      "      <td align=\"right\" valign=\"top\" class=\"title\"><span class=\"rank\">3.</span></td>      <td valign=\"top\" class=\"votelinks\"><center><a id='up_33919830'href='vote?id=33919830&amp;how=up&amp;goto=news'><div class='votearrow' title='upvote'></div></a></center></td><td class=\"title\"><span class=\"titleline\"><a href=\"https://nuitka.net/posts/all-in-with-nuitka.html\">All in with Nuitka</a><span class=\"sitebit comhead\"> (<a href=\"from?site=nuitka.net\"><span class=\"sitestr\">nuitka.net</span></a>)</span></span></td></tr><tr><td colspan=\"2\"></td><td class=\"subtext\"><span class=\"subline\">\n",
      "          <span class=\"score\" id=\"score_33919830\">132 points</span> by <a href=\"user?id=polyrand\" class=\"hnuser\">polyrand</a> <span class=\"age\" title=\"2022-12-09T10:36:03\"><a href=\"item?id=33919830\">4 hours ago</a></span> <span id=\"unv_33919830\"></span> | <a href=\"hide?id=33919830&amp;goto=news\">hide</a> | <a href=\"item?id=33919830\">50&nbsp;comments</a>        </span>\n",
      "              </td></tr>\n",
      "      <tr class=\"spacer\" style=\"height:5px\"></tr>\n",
      "                <tr class='athing' id='33921251'>\n",
      "      <td align=\"right\" valign=\"top\" class=\"title\"><span class=\"rank\">4.</span></td>      <td valign=\"top\" class=\"votelinks\"><center><a id='up_33921251'href='vote?id=33921251&amp;how=up&amp;goto=news'><div class='votearrow' title='upvote'></div></a></center></td><td class=\"title\"><span class=\"titleline\"><a href=\"https://www.neovimconf.live/\">Neovim Conf 2022</a><span class=\"sitebit comhead\"> (<a href=\"from?site=neovimconf.live\"><span class=\"sitestr\">neovimconf.live</span></a>)</span></span></td></tr><tr><td colspan=\"2\"></td><td class=\"subtext\"><span class=\"subline\">\n",
      "          <span class=\"score\" id=\"score_33921251\">22 points</span> by <a href=\"user?id=davidkunz\" class=\"hnuser\">davidkunz</a> <span class=\"age\" title=\"2022-12-09T13:57:35\"><a href=\"item?id=33921251\">54 minutes ago</a></span> <span id=\"unv_33921251\"></span> | <a href=\"hide?id=33921251&amp;goto=news\">hide</a> | <a href=\"item?id=33921251\">3&nbsp;comments</a>        </span>\n",
      "              </td></tr>\n",
      "      <tr class=\"spacer\" style=\"height:5px\"></tr>\n",
      "                <tr class='athing' id='33892392'>\n",
      "      <td align=\"right\" valign=\"top\" class=\"title\"><span class=\"rank\">5.</span></td>      <td valign=\"top\" class=\"votelinks\"><center><a id='up_33892392'href='vote?id=33892392&amp;how=up&amp;goto=news'><div class='votearrow' title='upvote'></div></a></center></td><td class=\"title\"><span class=\"titleline\"><a href=\"https://spectrum.ieee.org/point-contact-transistor\">Transistors are civilization’s invisible infrastructure</a><span class=\"sitebit comhead\"> (<a href=\"from?site=ieee.org\"><span class=\"sitestr\">ieee.org</span></a>)</span></span></td></tr><tr><td colspan=\"2\"></td><td class=\"subtext\"><span class=\"subline\">\n",
      "          <span class=\"score\" id=\"score_33892392\">49 points</span> by <a href=\"user?id=danboarder\" class=\"hnuser\">danboarder</a> <span class=\"age\" title=\"2022-12-07T09:33:02\"><a href=\"item?id=33892392\">3 hours ago</a></span> <span id=\"unv_33892392\"></span> | <a href=\"hide?id=33892392&amp;goto=news\">hide</a> | <a href=\"item?id=33892392\">8&nbsp;comments</a>        </span>\n",
      "              </td></tr>\n",
      "      <tr class=\"spacer\" style=\"height:5px\"></tr>\n",
      "                <tr class='athing' id='33920510'>\n",
      "      <td align=\"right\" valign=\"top\" class=\"title\"><span class=\"rank\">6.</span></td>      <td valign=\"top\" class=\"votelinks\"><center><a id='up_33920510'href='vote?id=33920510&amp;how=up&amp;goto=news'><div class='votearrow' title='upvote'></div></a></center></td><td class=\"title\"><span class=\"titleline\"><a href=\"https://www.metallicss.com\">Show HN: Versatile Metallic Finish for CSS</a><span class=\"sitebit comhead\"> (<a href=\"from?site=metallicss.com\"><span class=\"sitestr\">metallicss.com</span></a>)</span></span></td></tr><tr><td colspan=\"2\"></td><td class=\"subtext\"><span class=\"subline\">\n",
      "          <span class=\"score\" id=\"score_33920510\">31 points</span> by <a href=\"user?id=mikaelaast\" class=\"hnuser\">mikaelaast</a> <span class=\"age\" title=\"2022-12-09T12:28:53\"><a href=\"item?id=33920510\">2 hours ago</a></span> <span id=\"unv_33920510\"></span> | <a href=\"hide?id=33920510&amp;goto=news\">hide</a> | <a href=\"item?id=33920510\">21&nbsp;comments</a>        </span>\n",
      "              </td></tr>\n",
      "      <tr class=\"spacer\" style=\"height:5px\"></tr>\n",
      "                <tr class='athing' id='33920885'>\n",
      "      <td align=\"right\" valign=\"top\" class=\"title\"><span class=\"rank\">7.</span></td>      <td valign=\"top\" class=\"votelinks\"><center><a id='up_33920885'href='vote?id=33920885&amp;how=up&amp;goto=news'><div class='votearrow' title='upvote'></div></a></center></td><td class=\"title\"><span class=\"titleline\"><a href=\"https://github.com/cloudentity/oauth2c\">CLI for OAuth 2.0</a><span class=\"sitebit comhead\"> (<a href=\"from?site=github.com/cloudentity\"><span class=\"sitestr\">github.com/cloudentity</span></a>)</span></span></td></tr><tr><td colspan=\"2\"></td><td class=\"subtext\"><span class=\"subline\">\n",
      "          <span class=\"score\" id=\"score_33920885\">23 points</span> by <a href=\"user?id=mbilski\" class=\"hnuser\">mbilski</a> <span class=\"age\" title=\"2022-12-09T13:16:55\"><a href=\"item?id=33920885\">1 hour ago</a></span> <span id=\"unv_33920885\"></span> | <a href=\"hide?id=33920885&amp;goto=news\">hide</a> | <a href=\"item?id=33920885\">4&nbsp;comments</a>        </span>\n",
      "              </td></tr>\n",
      "      <tr class=\"spacer\" style=\"height:5px\"></tr>\n",
      "                <tr class='athing' id='33913201'>\n",
      "      <td align=\"right\" valign=\"top\" class=\"title\"><span class=\"rank\">8.</span></td>      <td valign=\"top\" class=\"votelinks\"><center><a id='up_33913201'href='vote?id=33913201&amp;how=up&amp;goto=news'><div class='votearrow' title='upvote'></div></a></center></td><td class=\"title\"><span class=\"titleline\"><a href=\"https://www.lrb.co.uk/the-paper/v44/n24/bee-wilson/like-a-bar-of-soap\">The Child Is the Teacher: A Life of Maria Montessori</a><span class=\"sitebit comhead\"> (<a href=\"from?site=lrb.co.uk\"><span class=\"sitestr\">lrb.co.uk</span></a>)</span></span></td></tr><tr><td colspan=\"2\"></td><td class=\"subtext\"><span class=\"subline\">\n",
      "          <span class=\"score\" id=\"score_33913201\">45 points</span> by <a href=\"user?id=crapvoter\" class=\"hnuser\">crapvoter</a> <span class=\"age\" title=\"2022-12-08T20:51:49\"><a href=\"item?id=33913201\">4 hours ago</a></span> <span id=\"unv_33913201\"></span> | <a href=\"hide?id=33913201&amp;goto=news\">hide</a> | <a href=\"item?id=33913201\">29&nbsp;comments</a>        </span>\n",
      "              </td></tr>\n",
      "      <tr class=\"spacer\" style=\"height:5px\"></tr>\n",
      "                <tr class='athing' id='33917962'>\n",
      "      <td align=\"right\" valign=\"top\" class=\"title\"><span class=\"rank\">9.</span></td>      <td valign=\"top\" class=\"votelinks\"><center><a id='up_33917962'href='vote?id=33917962&amp;how=up&amp;goto=news'><div class='votearrow' title='upvote'></div></a></center></td><td class=\"title\"><span class=\"titleline\"><a href=\"item?id=33917962\">Ask HN: Developer abused “sign in with GitHub” and users are being punished</a></span></td></tr><tr><td colspan=\"2\"></td><td class=\"subtext\"><span class=\"subline\">\n",
      "          <span class=\"score\" id=\"score_33917962\">574 points</span> by <a href=\"user?id=2Gkashmiri\" class=\"hnuser\">2Gkashmiri</a> <span class=\"age\" title=\"2022-12-09T05:45:24\"><a href=\"item?id=33917962\">9 hours ago</a></span> <span id=\"unv_33917962\"></span> | <a href=\"hide?id=33917962&amp;goto=news\">hide</a> | <a href=\"item?id=33917962\">312&nbsp;comments</a>        </span>\n",
      "              </td></tr>\n",
      "      <tr class=\"spacer\" style=\"height:5px\"></tr>\n",
      "                <tr class='athing' id='33909503'>\n",
      "      <td align=\"right\" valign=\"top\" class=\"title\"><span class=\"rank\">10.</span></td>      <td valign=\"top\" class=\"votelinks\"><center><a id='up_33909503'href='vote?id=33909503&amp;how=up&amp;goto=news'><div class='votearrow' title='upvote'></div></a></center></td><td class=\"title\"><span class=\"titleline\"><a href=\"https://medium.com/@georgwiese/hash-based-digital-signatures-almost-from-scratch-da57e54dd774\">Hash-based digital signatures (almost) from scratch</a><span class=\"sitebit comhead\"> (<a href=\"from?site=medium.com/georgwiese\"><span class=\"sitestr\">medium.com/georgwiese</span></a>)</span></span></td></tr><tr><td colspan=\"2\"></td><td class=\"subtext\"><span class=\"subline\">\n",
      "          <span class=\"score\" id=\"score_33909503\">17 points</span> by <a href=\"user?id=georgwiese\" class=\"hnuser\">georgwiese</a> <span class=\"age\" title=\"2022-12-08T16:11:31\"><a href=\"item?id=33909503\">2 hours ago</a></span> <span id=\"unv_33909503\"></span> | <a href=\"hide?id=33909503&amp;goto=news\">hide</a> | <a href=\"item?id=33909503\">discuss</a>        </span>\n",
      "              </td></tr>\n",
      "      <tr class=\"spacer\" style=\"height:5px\"></tr>\n",
      "                <tr class='athing' id='33921023'>\n",
      "      <td align=\"right\" valign=\"top\" class=\"title\"><span class=\"rank\">11.</span></td>      <td valign=\"top\" class=\"votelinks\"><center><a id='up_33921023'href='vote?id=33921023&amp;how=up&amp;goto=news'><div class='votearrow' title='upvote'></div></a></center></td><td class=\"title\"><span class=\"titleline\"><a href=\"https://stackdiary.com/css-media-queries/\">A Practical Guide to CSS Media Queries</a><span class=\"sitebit comhead\"> (<a href=\"from?site=stackdiary.com\"><span class=\"sitestr\">stackdiary.com</span></a>)</span></span></td></tr><tr><td colspan=\"2\"></td><td class=\"subtext\"><span class=\"subline\">\n",
      "          <span class=\"score\" id=\"score_33921023\">6 points</span> by <a href=\"user?id=marban\" class=\"hnuser\">marban</a> <span class=\"age\" title=\"2022-12-09T13:33:22\"><a href=\"item?id=33921023\">1 hour ago</a></span> <span id=\"unv_33921023\"></span> | <a href=\"hide?id=33921023&amp;goto=news\">hide</a> | <a href=\"item?id=33921023\">discuss</a>        </span>\n",
      "              </td></tr>\n",
      "      <tr class=\"spacer\" style=\"height:5px\"></tr>\n",
      "                <tr class='athing' id='33920330'>\n",
      "      <td align=\"right\" valign=\"top\" class=\"title\"><span class=\"rank\">12.</span></td>      <td><img src=\"s.gif\" height=\"1\" width=\"14\"></td>       <td class=\"title\"><span class=\"titleline\"><a href=\"item?id=33920330\">KaiPod Learning (YC S21) Is Hiring a Founding Engineer</a></span></td></tr><tr><td colspan=\"2\"></td><td class=\"subtext\">\n",
      "        <span class=\"age\" title=\"2022-12-09T12:00:20\"><a href=\"item?id=33920330\">2 hours ago</a></span> | <a href=\"hide?id=33920330&amp;goto=news\">hide</a>      </td></tr>\n",
      "      <tr class=\"spacer\" style=\"height:5px\"></tr>\n",
      "                <tr class='athing' id='33920210'>\n",
      "      <td align=\"right\" valign=\"top\" class=\"title\"><span class=\"rank\">13.</span></td>      <td valign=\"top\" class=\"votelinks\"><center><a id='up_33920210'href='vote?id=33920210&amp;how=up&amp;goto=news'><div class='votearrow' title='upvote'></div></a></center></td><td class=\"title\"><span class=\"titleline\"><a href=\"https://www.iranintl.com/en/202212077198\">Iranian Officials Asking Venezuela for Asylum in Case of Regime Change</a><span class=\"sitebit comhead\"> (<a href=\"from?site=iranintl.com\"><span class=\"sitestr\">iranintl.com</span></a>)</span></span></td></tr><tr><td colspan=\"2\"></td><td class=\"subtext\"><span class=\"subline\">\n",
      "          <span class=\"score\" id=\"score_33920210\">34 points</span> by <a href=\"user?id=michaeltimo\" class=\"hnuser\">michaeltimo</a> <span class=\"age\" title=\"2022-12-09T11:36:32\"><a href=\"item?id=33920210\">3 hours ago</a></span> <span id=\"unv_33920210\"></span> | <a href=\"hide?id=33920210&amp;goto=news\">hide</a> | <a href=\"item?id=33920210\">23&nbsp;comments</a>        </span>\n",
      "              </td></tr>\n",
      "      <tr class=\"spacer\" style=\"height:5px\"></tr>\n",
      "                <tr class='athing' id='33921576'>\n",
      "      <td align=\"right\" valign=\"top\" class=\"title\"><span class=\"rank\">14.</span></td>      <td valign=\"top\" class=\"votelinks\"><center><a id='up_33921576'href='vote?id=33921576&amp;how=up&amp;goto=news'><div class='votearrow' title='upvote'></div></a></center></td><td class=\"title\"><span class=\"titleline\"><a href=\"http://www.gridwatch.templar.co.uk/\" rel=\"nofollow\">GB National Grid Status</a><span class=\"sitebit comhead\"> (<a href=\"from?site=templar.co.uk\"><span class=\"sitestr\">templar.co.uk</span></a>)</span></span></td></tr><tr><td colspan=\"2\"></td><td class=\"subtext\"><span class=\"subline\">\n",
      "          <span class=\"score\" id=\"score_33921576\">4 points</span> by <a href=\"user?id=CTOSian\" class=\"hnuser\">CTOSian</a> <span class=\"age\" title=\"2022-12-09T14:34:01\"><a href=\"item?id=33921576\">17 minutes ago</a></span> <span id=\"unv_33921576\"></span> | <a href=\"hide?id=33921576&amp;goto=news\">hide</a> | <a href=\"item?id=33921576\">1&nbsp;comment</a>        </span>\n",
      "              </td></tr>\n",
      "      <tr class=\"spacer\" style=\"height:5px\"></tr>\n",
      "                <tr class='athing' id='33920086'>\n",
      "      <td align=\"right\" valign=\"top\" class=\"title\"><span class=\"rank\">15.</span></td>      <td valign=\"top\" class=\"votelinks\"><center><a id='up_33920086'href='vote?id=33920086&amp;how=up&amp;goto=news'><div class='votearrow' title='upvote'></div></a></center></td><td class=\"title\"><span class=\"titleline\"><a href=\"https://gitlab.freedesktop.org/pipewire/pipewire/-/releases/0.3.62\">PipeWire 0.3.62</a><span class=\"sitebit comhead\"> (<a href=\"from?site=freedesktop.org\"><span class=\"sitestr\">freedesktop.org</span></a>)</span></span></td></tr><tr><td colspan=\"2\"></td><td class=\"subtext\"><span class=\"subline\">\n",
      "          <span class=\"score\" id=\"score_33920086\">68 points</span> by <a href=\"user?id=jrepinc\" class=\"hnuser\">jrepinc</a> <span class=\"age\" title=\"2022-12-09T11:14:11\"><a href=\"item?id=33920086\">3 hours ago</a></span> <span id=\"unv_33920086\"></span> | <a href=\"hide?id=33920086&amp;goto=news\">hide</a> | <a href=\"item?id=33920086\">38&nbsp;comments</a>        </span>\n",
      "              </td></tr>\n",
      "      <tr class=\"spacer\" style=\"height:5px\"></tr>\n",
      "                <tr class='athing' id='33921223'>\n",
      "      <td align=\"right\" valign=\"top\" class=\"title\"><span class=\"rank\">16.</span></td>      <td valign=\"top\" class=\"votelinks\"><center><a id='up_33921223'href='vote?id=33921223&amp;how=up&amp;goto=news'><div class='votearrow' title='upvote'></div></a></center></td><td class=\"title\"><span class=\"titleline\"><a href=\"https://archive.vn/6EXTd\">Russia’s apparent resilience is being kept up by policy tricks and cash</a><span class=\"sitebit comhead\"> (<a href=\"from?site=archive.vn\"><span class=\"sitestr\">archive.vn</span></a>)</span></span></td></tr><tr><td colspan=\"2\"></td><td class=\"subtext\"><span class=\"subline\">\n",
      "          <span class=\"score\" id=\"score_33921223\">24 points</span> by <a href=\"user?id=BerislavLopac\" class=\"hnuser\">BerislavLopac</a> <span class=\"age\" title=\"2022-12-09T13:54:51\"><a href=\"item?id=33921223\">57 minutes ago</a></span> <span id=\"unv_33921223\"></span> | <a href=\"hide?id=33921223&amp;goto=news\">hide</a> | <a href=\"item?id=33921223\">9&nbsp;comments</a>        </span>\n",
      "              </td></tr>\n",
      "      <tr class=\"spacer\" style=\"height:5px\"></tr>\n",
      "                <tr class='athing' id='33888799'>\n",
      "      <td align=\"right\" valign=\"top\" class=\"title\"><span class=\"rank\">17.</span></td>      <td valign=\"top\" class=\"votelinks\"><center><a id='up_33888799'href='vote?id=33888799&amp;how=up&amp;goto=news'><div class='votearrow' title='upvote'></div></a></center></td><td class=\"title\"><span class=\"titleline\"><a href=\"https://www.atlasobscura.com/articles/cyanide-tooth-is-not-real\">The cyanide tooth is a cold war fairy-tale (2018)</a><span class=\"sitebit comhead\"> (<a href=\"from?site=atlasobscura.com\"><span class=\"sitestr\">atlasobscura.com</span></a>)</span></span></td></tr><tr><td colspan=\"2\"></td><td class=\"subtext\"><span class=\"subline\">\n",
      "          <span class=\"score\" id=\"score_33888799\">84 points</span> by <a href=\"user?id=paulpauper\" class=\"hnuser\">paulpauper</a> <span class=\"age\" title=\"2022-12-06T23:52:42\"><a href=\"item?id=33888799\">9 hours ago</a></span> <span id=\"unv_33888799\"></span> | <a href=\"hide?id=33888799&amp;goto=news\">hide</a> | <a href=\"item?id=33888799\">64&nbsp;comments</a>        </span>\n",
      "              </td></tr>\n",
      "      <tr class=\"spacer\" style=\"height:5px\"></tr>\n",
      "                <tr class='athing' id='33918879'>\n",
      "      <td align=\"right\" valign=\"top\" class=\"title\"><span class=\"rank\">18.</span></td>      <td valign=\"top\" class=\"votelinks\"><center><a id='up_33918879'href='vote?id=33918879&amp;how=up&amp;goto=news'><div class='votearrow' title='upvote'></div></a></center></td><td class=\"title\"><span class=\"titleline\"><a href=\"https://github.blog/2022-12-08-experiment-the-hidden-costs-of-waiting-on-slow-build-times/\">Experiment: The costs of slow build times</a><span class=\"sitebit comhead\"> (<a href=\"from?site=github.blog\"><span class=\"sitestr\">github.blog</span></a>)</span></span></td></tr><tr><td colspan=\"2\"></td><td class=\"subtext\"><span class=\"subline\">\n",
      "          <span class=\"score\" id=\"score_33918879\">121 points</span> by <a href=\"user?id=pimterry\" class=\"hnuser\">pimterry</a> <span class=\"age\" title=\"2022-12-09T08:09:31\"><a href=\"item?id=33918879\">6 hours ago</a></span> <span id=\"unv_33918879\"></span> | <a href=\"hide?id=33918879&amp;goto=news\">hide</a> | <a href=\"item?id=33918879\">126&nbsp;comments</a>        </span>\n",
      "              </td></tr>\n",
      "      <tr class=\"spacer\" style=\"height:5px\"></tr>\n",
      "                <tr class='athing' id='33918430'>\n",
      "      <td align=\"right\" valign=\"top\" class=\"title\"><span class=\"rank\">19.</span></td>      <td valign=\"top\" class=\"votelinks\"><center><a id='up_33918430'href='vote?id=33918430&amp;how=up&amp;goto=news'><div class='votearrow' title='upvote'></div></a></center></td><td class=\"title\"><span class=\"titleline\"><a href=\"https://arogozhnikov.github.io/2022/11/29/delimiter-comes-first.html\">Delimiter-first code</a><span class=\"sitebit comhead\"> (<a href=\"from?site=arogozhnikov.github.io\"><span class=\"sitestr\">arogozhnikov.github.io</span></a>)</span></span></td></tr><tr><td colspan=\"2\"></td><td class=\"subtext\"><span class=\"subline\">\n",
      "          <span class=\"score\" id=\"score_33918430\">68 points</span> by <a href=\"user?id=g0xA52A2A\" class=\"hnuser\">g0xA52A2A</a> <span class=\"age\" title=\"2022-12-09T06:59:12\"><a href=\"item?id=33918430\">7 hours ago</a></span> <span id=\"unv_33918430\"></span> | <a href=\"hide?id=33918430&amp;goto=news\">hide</a> | <a href=\"item?id=33918430\">30&nbsp;comments</a>        </span>\n",
      "              </td></tr>\n",
      "      <tr class=\"spacer\" style=\"height:5px\"></tr>\n",
      "                <tr class='athing' id='33918044'>\n",
      "      <td align=\"right\" valign=\"top\" class=\"title\"><span class=\"rank\">20.</span></td>      <td valign=\"top\" class=\"votelinks\"><center><a id='up_33918044'href='vote?id=33918044&amp;how=up&amp;goto=news'><div class='votearrow' title='upvote'></div></a></center></td><td class=\"title\"><span class=\"titleline\"><a href=\"https://navendu.me/posts/introduction-to-monitoring-microservices/\">Monitoring Microservices with Prometheus and Grafana</a><span class=\"sitebit comhead\"> (<a href=\"from?site=navendu.me\"><span class=\"sitestr\">navendu.me</span></a>)</span></span></td></tr><tr><td colspan=\"2\"></td><td class=\"subtext\"><span class=\"subline\">\n",
      "          <span class=\"score\" id=\"score_33918044\">122 points</span> by <a href=\"user?id=miles_chasey\" class=\"hnuser\">miles_chasey</a> <span class=\"age\" title=\"2022-12-09T05:56:58\"><a href=\"item?id=33918044\">8 hours ago</a></span> <span id=\"unv_33918044\"></span> | <a href=\"hide?id=33918044&amp;goto=news\">hide</a> | <a href=\"item?id=33918044\">28&nbsp;comments</a>        </span>\n",
      "              </td></tr>\n",
      "      <tr class=\"spacer\" style=\"height:5px\"></tr>\n",
      "                <tr class='athing' id='33893977'>\n",
      "      <td align=\"right\" valign=\"top\" class=\"title\"><span class=\"rank\">21.</span></td>      <td valign=\"top\" class=\"votelinks\"><center><a id='up_33893977'href='vote?id=33893977&amp;how=up&amp;goto=news'><div class='votearrow' title='upvote'></div></a></center></td><td class=\"title\"><span class=\"titleline\"><a href=\"https://blog.appsignal.com/2022/12/07/database-performance-optimization-and-scaling-in-rails.html\">Database Performance Optimization and Scaling in Rails</a><span class=\"sitebit comhead\"> (<a href=\"from?site=appsignal.com\"><span class=\"sitestr\">appsignal.com</span></a>)</span></span></td></tr><tr><td colspan=\"2\"></td><td class=\"subtext\"><span class=\"subline\">\n",
      "          <span class=\"score\" id=\"score_33893977\">52 points</span> by <a href=\"user?id=Liriel\" class=\"hnuser\">Liriel</a> <span class=\"age\" title=\"2022-12-07T13:16:27\"><a href=\"item?id=33893977\">6 hours ago</a></span> <span id=\"unv_33893977\"></span> | <a href=\"hide?id=33893977&amp;goto=news\">hide</a> | <a href=\"item?id=33893977\">10&nbsp;comments</a>        </span>\n",
      "              </td></tr>\n",
      "      <tr class=\"spacer\" style=\"height:5px\"></tr>\n",
      "                <tr class='athing' id='33913113'>\n",
      "      <td align=\"right\" valign=\"top\" class=\"title\"><span class=\"rank\">22.</span></td>      <td valign=\"top\" class=\"votelinks\"><center><a id='up_33913113'href='vote?id=33913113&amp;how=up&amp;goto=news'><div class='votearrow' title='upvote'></div></a></center></td><td class=\"title\"><span class=\"titleline\"><a href=\"https://lithub.com/part-bear-part-bird-part-monkey-part-lizard-on-the-deep-weirdness-of-beavers/\">The Deep Weirdness of Beavers</a><span class=\"sitebit comhead\"> (<a href=\"from?site=lithub.com\"><span class=\"sitestr\">lithub.com</span></a>)</span></span></td></tr><tr><td colspan=\"2\"></td><td class=\"subtext\"><span class=\"subline\">\n",
      "          <span class=\"score\" id=\"score_33913113\">43 points</span> by <a href=\"user?id=agronaut\" class=\"hnuser\">agronaut</a> <span class=\"age\" title=\"2022-12-08T20:45:30\"><a href=\"item?id=33913113\">7 hours ago</a></span> <span id=\"unv_33913113\"></span> | <a href=\"hide?id=33913113&amp;goto=news\">hide</a> | <a href=\"item?id=33913113\">15&nbsp;comments</a>        </span>\n",
      "              </td></tr>\n",
      "      <tr class=\"spacer\" style=\"height:5px\"></tr>\n",
      "                <tr class='athing' id='33895066'>\n",
      "      <td align=\"right\" valign=\"top\" class=\"title\"><span class=\"rank\">23.</span></td>      <td valign=\"top\" class=\"votelinks\"><center><a id='up_33895066'href='vote?id=33895066&amp;how=up&amp;goto=news'><div class='votearrow' title='upvote'></div></a></center></td><td class=\"title\"><span class=\"titleline\"><a href=\"https://edition.cnn.com/travel/article/what-its-like-to-live-in-monaco/index.html\">What it's like to live in Monaco</a><span class=\"sitebit comhead\"> (<a href=\"from?site=cnn.com\"><span class=\"sitestr\">cnn.com</span></a>)</span></span></td></tr><tr><td colspan=\"2\"></td><td class=\"subtext\"><span class=\"subline\">\n",
      "          <span class=\"score\" id=\"score_33895066\">168 points</span> by <a href=\"user?id=mooreds\" class=\"hnuser\">mooreds</a> <span class=\"age\" title=\"2022-12-07T15:01:35\"><a href=\"item?id=33895066\">12 hours ago</a></span> <span id=\"unv_33895066\"></span> | <a href=\"hide?id=33895066&amp;goto=news\">hide</a> | <a href=\"item?id=33895066\">174&nbsp;comments</a>        </span>\n",
      "              </td></tr>\n",
      "      <tr class=\"spacer\" style=\"height:5px\"></tr>\n",
      "                <tr class='athing' id='33899613'>\n",
      "      <td align=\"right\" valign=\"top\" class=\"title\"><span class=\"rank\">24.</span></td>      <td valign=\"top\" class=\"votelinks\"><center><a id='up_33899613'href='vote?id=33899613&amp;how=up&amp;goto=news'><div class='votearrow' title='upvote'></div></a></center></td><td class=\"title\"><span class=\"titleline\"><a href=\"https://mkt1.substack.com/p/homepage-copy\">How to create a more effective homepage</a><span class=\"sitebit comhead\"> (<a href=\"from?site=mkt1.substack.com\"><span class=\"sitestr\">mkt1.substack.com</span></a>)</span></span></td></tr><tr><td colspan=\"2\"></td><td class=\"subtext\"><span class=\"subline\">\n",
      "          <span class=\"score\" id=\"score_33899613\">57 points</span> by <a href=\"user?id=gmays\" class=\"hnuser\">gmays</a> <span class=\"age\" title=\"2022-12-07T20:13:51\"><a href=\"item?id=33899613\">8 hours ago</a></span> <span id=\"unv_33899613\"></span> | <a href=\"hide?id=33899613&amp;goto=news\">hide</a> | <a href=\"item?id=33899613\">5&nbsp;comments</a>        </span>\n",
      "              </td></tr>\n",
      "      <tr class=\"spacer\" style=\"height:5px\"></tr>\n",
      "                <tr class='athing' id='33912401'>\n",
      "      <td align=\"right\" valign=\"top\" class=\"title\"><span class=\"rank\">25.</span></td>      <td valign=\"top\" class=\"votelinks\"><center><a id='up_33912401'href='vote?id=33912401&amp;how=up&amp;goto=news'><div class='votearrow' title='upvote'></div></a></center></td><td class=\"title\"><span class=\"titleline\"><a href=\"https://twitter.com/johnmcelhone8/status/1600683623250030593\">Finding the B-21's hangar location from the stars in its press image</a><span class=\"sitebit comhead\"> (<a href=\"from?site=twitter.com/johnmcelhone8\"><span class=\"sitestr\">twitter.com/johnmcelhone8</span></a>)</span></span></td></tr><tr><td colspan=\"2\"></td><td class=\"subtext\"><span class=\"subline\">\n",
      "          <span class=\"score\" id=\"score_33912401\">738 points</span> by <a href=\"user?id=johnmcelhone\" class=\"hnuser\">johnmcelhone</a> <span class=\"age\" title=\"2022-12-08T19:53:46\"><a href=\"item?id=33912401\">18 hours ago</a></span> <span id=\"unv_33912401\"></span> | <a href=\"hide?id=33912401&amp;goto=news\">hide</a> | <a href=\"item?id=33912401\">199&nbsp;comments</a>        </span>\n",
      "              </td></tr>\n",
      "      <tr class=\"spacer\" style=\"height:5px\"></tr>\n",
      "                <tr class='athing' id='33890405'>\n",
      "      <td align=\"right\" valign=\"top\" class=\"title\"><span class=\"rank\">26.</span></td>      <td valign=\"top\" class=\"votelinks\"><center><a id='up_33890405'href='vote?id=33890405&amp;how=up&amp;goto=news'><div class='votearrow' title='upvote'></div></a></center></td><td class=\"title\"><span class=\"titleline\"><a href=\"https://www.bloomberg.com/news/features/2022-12-06/amazon-is-running-out-of-warehouse-workers-cue-the-robots\" rel=\"nofollow\">Amazon Is Running Out of Warehouse Workers. Cue the Robots</a><span class=\"sitebit comhead\"> (<a href=\"from?site=bloomberg.com\"><span class=\"sitestr\">bloomberg.com</span></a>)</span></span></td></tr><tr><td colspan=\"2\"></td><td class=\"subtext\"><span class=\"subline\">\n",
      "          <span class=\"score\" id=\"score_33890405\">5 points</span> by <a href=\"user?id=mfiguiere\" class=\"hnuser\">mfiguiere</a> <span class=\"age\" title=\"2022-12-07T03:44:33\"><a href=\"item?id=33890405\">1 hour ago</a></span> <span id=\"unv_33890405\"></span> | <a href=\"hide?id=33890405&amp;goto=news\">hide</a> | <a href=\"item?id=33890405\">5&nbsp;comments</a>        </span>\n",
      "              </td></tr>\n",
      "      <tr class=\"spacer\" style=\"height:5px\"></tr>\n",
      "                <tr class='athing' id='33900011'>\n",
      "      <td align=\"right\" valign=\"top\" class=\"title\"><span class=\"rank\">27.</span></td>      <td valign=\"top\" class=\"votelinks\"><center><a id='up_33900011'href='vote?id=33900011&amp;how=up&amp;goto=news'><div class='votearrow' title='upvote'></div></a></center></td><td class=\"title\"><span class=\"titleline\"><a href=\"https://www.laphamsquarterly.org/roundtable/it-belongs-museum\">It Belongs in a Museum: Isabella Stewart Gardner builds a place to house her art</a><span class=\"sitebit comhead\"> (<a href=\"from?site=laphamsquarterly.org\"><span class=\"sitestr\">laphamsquarterly.org</span></a>)</span></span></td></tr><tr><td colspan=\"2\"></td><td class=\"subtext\"><span class=\"subline\">\n",
      "          <span class=\"score\" id=\"score_33900011\">19 points</span> by <a href=\"user?id=prismatic\" class=\"hnuser\">prismatic</a> <span class=\"age\" title=\"2022-12-07T20:47:52\"><a href=\"item?id=33900011\">5 hours ago</a></span> <span id=\"unv_33900011\"></span> | <a href=\"hide?id=33900011&amp;goto=news\">hide</a> | <a href=\"item?id=33900011\">3&nbsp;comments</a>        </span>\n",
      "              </td></tr>\n",
      "      <tr class=\"spacer\" style=\"height:5px\"></tr>\n",
      "                <tr class='athing' id='33917157'>\n",
      "      <td align=\"right\" valign=\"top\" class=\"title\"><span class=\"rank\">28.</span></td>      <td valign=\"top\" class=\"votelinks\"><center><a id='up_33917157'href='vote?id=33917157&amp;how=up&amp;goto=news'><div class='votearrow' title='upvote'></div></a></center></td><td class=\"title\"><span class=\"titleline\"><a href=\"https://neugierig.org/software/blog/2022/12/chrome.html\">Chrome, 10 Years Later</a><span class=\"sitebit comhead\"> (<a href=\"from?site=neugierig.org\"><span class=\"sitestr\">neugierig.org</span></a>)</span></span></td></tr><tr><td colspan=\"2\"></td><td class=\"subtext\"><span class=\"subline\">\n",
      "          <span class=\"score\" id=\"score_33917157\">191 points</span> by <a href=\"user?id=felixc\" class=\"hnuser\">felixc</a> <span class=\"age\" title=\"2022-12-09T03:42:20\"><a href=\"item?id=33917157\">11 hours ago</a></span> <span id=\"unv_33917157\"></span> | <a href=\"hide?id=33917157&amp;goto=news\">hide</a> | <a href=\"item?id=33917157\">121&nbsp;comments</a>        </span>\n",
      "              </td></tr>\n",
      "      <tr class=\"spacer\" style=\"height:5px\"></tr>\n",
      "                <tr class='athing' id='33892889'>\n",
      "      <td align=\"right\" valign=\"top\" class=\"title\"><span class=\"rank\">29.</span></td>      <td valign=\"top\" class=\"votelinks\"><center><a id='up_33892889'href='vote?id=33892889&amp;how=up&amp;goto=news'><div class='votearrow' title='upvote'></div></a></center></td><td class=\"title\"><span class=\"titleline\"><a href=\"http://adrianchadd.blogspot.com/2022/12/damnit-i-slipped-and-mostly-built-amiga.html\">Damnit I slipped and (mostly) built an Amiga 500</a><span class=\"sitebit comhead\"> (<a href=\"from?site=adrianchadd.blogspot.com\"><span class=\"sitestr\">adrianchadd.blogspot.com</span></a>)</span></span></td></tr><tr><td colspan=\"2\"></td><td class=\"subtext\"><span class=\"subline\">\n",
      "          <span class=\"score\" id=\"score_33892889\">97 points</span> by <a href=\"user?id=pabs3\" class=\"hnuser\">pabs3</a> <span class=\"age\" title=\"2022-12-07T10:48:14\"><a href=\"item?id=33892889\">13 hours ago</a></span> <span id=\"unv_33892889\"></span> | <a href=\"hide?id=33892889&amp;goto=news\">hide</a> | <a href=\"item?id=33892889\">25&nbsp;comments</a>        </span>\n",
      "              </td></tr>\n",
      "      <tr class=\"spacer\" style=\"height:5px\"></tr>\n",
      "                <tr class='athing' id='33915554'>\n",
      "      <td align=\"right\" valign=\"top\" class=\"title\"><span class=\"rank\">30.</span></td>      <td valign=\"top\" class=\"votelinks\"><center><a id='up_33915554'href='vote?id=33915554&amp;how=up&amp;goto=news'><div class='votearrow' title='upvote'></div></a></center></td><td class=\"title\"><span class=\"titleline\"><a href=\"https://github.com/revanced/revanced-patches\">ReVanced DMCA Takedown on GitHub</a><span class=\"sitebit comhead\"> (<a href=\"from?site=github.com/revanced\"><span class=\"sitestr\">github.com/revanced</span></a>)</span></span></td></tr><tr><td colspan=\"2\"></td><td class=\"subtext\"><span class=\"subline\">\n",
      "          <span class=\"score\" id=\"score_33915554\">88 points</span> by <a href=\"user?id=Bilal_io\" class=\"hnuser\">Bilal_io</a> <span class=\"age\" title=\"2022-12-08T23:56:13\"><a href=\"item?id=33915554\">14 hours ago</a></span> <span id=\"unv_33915554\"></span> | <a href=\"hide?id=33915554&amp;goto=news\">hide</a> | <a href=\"item?id=33915554\">56&nbsp;comments</a>        </span>\n",
      "              </td></tr>\n",
      "      <tr class=\"spacer\" style=\"height:5px\"></tr>\n",
      "            <tr class=\"morespace\" style=\"height:10px\"></tr><tr><td colspan=\"2\"></td>\n",
      "      <td class='title'><a href='?p=2' class='morelink' rel='next'>More</a></td>    </tr>\n",
      "  </table>\n",
      "</td></tr>\n",
      "<tr><td><img src=\"s.gif\" height=\"10\" width=\"0\"><table width=\"100%\" cellspacing=\"0\" cellpadding=\"1\"><tr><td bgcolor=\"#ff6600\"></td></tr></table><br>\n",
      "<center><span class=\"yclinks\"><a href=\"newsguidelines.html\">Guidelines</a> | <a href=\"newsfaq.html\">FAQ</a> | <a href=\"lists\">Lists</a> | <a href=\"https://github.com/HackerNews/API\">API</a> | <a href=\"security.html\">Security</a> | <a href=\"https://www.ycombinator.com/legal/\">Legal</a> | <a href=\"https://www.ycombinator.com/apply/\">Apply to YC</a> | <a href=\"mailto:hn@ycombinator.com\">Contact</a></span><br><br>\n",
      "<form method=\"get\" action=\"//hn.algolia.com/\">Search: <input type=\"text\" name=\"q\" size=\"17\" autocorrect=\"off\" spellcheck=\"false\" autocapitalize=\"off\" autocomplete=\"false\"></form></center></td></tr>      </table></center></body>\n",
      "      <script type='text/javascript' src='hn.js?QiromlAK3ct3kGoDRoLX'></script>\n",
      "  </html>\n",
      "\n"
     ]
    }
   ],
   "source": [
    "import requests\n",
    "from bs4 import BeautifulSoup\n",
    "#r = requests.get('http://olympus.realpython.org/profiles/aphrodite')\n",
    "r = requests.get('https://news.ycombinator.com')\n",
    "print(r.text)"
   ]
  },
  {
   "cell_type": "markdown",
   "id": "5a8e2d0d",
   "metadata": {},
   "source": [
    "The first thing we need to do is inspect Hacker News's home-page to understand the structure and the different CSS classes that we will have to select, As evident from the screenshot, all postings are part of a <tr> tag with the class athing. So, let's simply find all these tags. Yet again, we can do that with one line of code."
   ]
  },
  {
   "cell_type": "code",
   "execution_count": 35,
   "id": "f3130aa5",
   "metadata": {},
   "outputs": [
    {
     "data": {
      "text/plain": [
       "bs4.BeautifulSoup"
      ]
     },
     "execution_count": 35,
     "metadata": {},
     "output_type": "execute_result"
    }
   ],
   "source": [
    "soup = BeautifulSoup(r.text, 'html.parser')\n",
    "type(soup)"
   ]
  },
  {
   "cell_type": "code",
   "execution_count": 36,
   "id": "de186cf0",
   "metadata": {},
   "outputs": [
    {
     "data": {
      "text/plain": [
       "<html lang=\"en\" op=\"news\"><head><meta content=\"origin\" name=\"referrer\"/><meta content=\"width=device-width, initial-scale=1.0\" name=\"viewport\"/><link href=\"news.css?QiromlAK3ct3kGoDRoLX\" rel=\"stylesheet\" type=\"text/css\"/>\n",
       "<link href=\"favicon.ico\" rel=\"shortcut icon\"/>\n",
       "<link href=\"rss\" rel=\"alternate\" title=\"RSS\" type=\"application/rss+xml\"/>\n",
       "<title>Hacker News</title></head><body><center><table bgcolor=\"#f6f6ef\" border=\"0\" cellpadding=\"0\" cellspacing=\"0\" id=\"hnmain\" width=\"85%\">\n",
       "<tr><td bgcolor=\"#ff6600\"><table border=\"0\" cellpadding=\"0\" cellspacing=\"0\" style=\"padding:2px\" width=\"100%\"><tr><td style=\"width:18px;padding-right:4px\"><a href=\"https://news.ycombinator.com\"><img height=\"18\" src=\"y18.gif\" style=\"border:1px white solid;\" width=\"18\"/></a></td>\n",
       "<td style=\"line-height:12pt; height:10px;\"><span class=\"pagetop\"><b class=\"hnname\"><a href=\"news\">Hacker News</a></b>\n",
       "<a href=\"newest\">new</a> | <a href=\"front\">past</a> | <a href=\"newcomments\">comments</a> | <a href=\"ask\">ask</a> | <a href=\"show\">show</a> | <a href=\"jobs\">jobs</a> | <a href=\"submit\">submit</a> </span></td><td style=\"text-align:right;padding-right:4px;\"><span class=\"pagetop\">\n",
       "<a href=\"login?goto=news\">login</a>\n",
       "</span></td>\n",
       "</tr></table></td></tr>\n",
       "<tr id=\"pagespace\" style=\"height:10px\" title=\"\"></tr><tr><td><table border=\"0\" cellpadding=\"0\" cellspacing=\"0\">\n",
       "<tr class=\"athing\" id=\"33919823\">\n",
       "<td align=\"right\" class=\"title\" valign=\"top\"><span class=\"rank\">1.</span></td> <td class=\"votelinks\" valign=\"top\"><center><a href=\"vote?id=33919823&amp;how=up&amp;goto=news\" id=\"up_33919823\"><div class=\"votearrow\" title=\"upvote\"></div></a></center></td><td class=\"title\"><span class=\"titleline\"><a href=\"https://scholar.archive.org/\">Internet Archive Scholar</a><span class=\"sitebit comhead\"> (<a href=\"from?site=archive.org\"><span class=\"sitestr\">archive.org</span></a>)</span></span></td></tr><tr><td colspan=\"2\"></td><td class=\"subtext\"><span class=\"subline\">\n",
       "<span class=\"score\" id=\"score_33919823\">185 points</span> by <a class=\"hnuser\" href=\"user?id=nabla9\">nabla9</a> <span class=\"age\" title=\"2022-12-09T10:35:25\"><a href=\"item?id=33919823\">4 hours ago</a></span> <span id=\"unv_33919823\"></span> | <a href=\"hide?id=33919823&amp;goto=news\">hide</a> | <a href=\"item?id=33919823\">26 comments</a> </span>\n",
       "</td></tr>\n",
       "<tr class=\"spacer\" style=\"height:5px\"></tr>\n",
       "<tr class=\"athing\" id=\"33920019\">\n",
       "<td align=\"right\" class=\"title\" valign=\"top\"><span class=\"rank\">2.</span></td> <td class=\"votelinks\" valign=\"top\"><center><a href=\"vote?id=33920019&amp;how=up&amp;goto=news\" id=\"up_33920019\"><div class=\"votearrow\" title=\"upvote\"></div></a></center></td><td class=\"title\"><span class=\"titleline\"><a href=\"https://github.com/getlago/lago/wiki/Stripe%27s-real-pricing:-a-primer\">Stripe’s real pricing: a primer</a><span class=\"sitebit comhead\"> (<a href=\"from?site=github.com/getlago\"><span class=\"sitestr\">github.com/getlago</span></a>)</span></span></td></tr><tr><td colspan=\"2\"></td><td class=\"subtext\"><span class=\"subline\">\n",
       "<span class=\"score\" id=\"score_33920019\">142 points</span> by <a class=\"hnuser\" href=\"user?id=AnhTho_FR\">AnhTho_FR</a> <span class=\"age\" title=\"2022-12-09T11:01:49\"><a href=\"item?id=33920019\">3 hours ago</a></span> <span id=\"unv_33920019\"></span> | <a href=\"hide?id=33920019&amp;goto=news\">hide</a> | <a href=\"item?id=33920019\">59 comments</a> </span>\n",
       "</td></tr>\n",
       "<tr class=\"spacer\" style=\"height:5px\"></tr>\n",
       "<tr class=\"athing\" id=\"33919830\">\n",
       "<td align=\"right\" class=\"title\" valign=\"top\"><span class=\"rank\">3.</span></td> <td class=\"votelinks\" valign=\"top\"><center><a href=\"vote?id=33919830&amp;how=up&amp;goto=news\" id=\"up_33919830\"><div class=\"votearrow\" title=\"upvote\"></div></a></center></td><td class=\"title\"><span class=\"titleline\"><a href=\"https://nuitka.net/posts/all-in-with-nuitka.html\">All in with Nuitka</a><span class=\"sitebit comhead\"> (<a href=\"from?site=nuitka.net\"><span class=\"sitestr\">nuitka.net</span></a>)</span></span></td></tr><tr><td colspan=\"2\"></td><td class=\"subtext\"><span class=\"subline\">\n",
       "<span class=\"score\" id=\"score_33919830\">132 points</span> by <a class=\"hnuser\" href=\"user?id=polyrand\">polyrand</a> <span class=\"age\" title=\"2022-12-09T10:36:03\"><a href=\"item?id=33919830\">4 hours ago</a></span> <span id=\"unv_33919830\"></span> | <a href=\"hide?id=33919830&amp;goto=news\">hide</a> | <a href=\"item?id=33919830\">50 comments</a> </span>\n",
       "</td></tr>\n",
       "<tr class=\"spacer\" style=\"height:5px\"></tr>\n",
       "<tr class=\"athing\" id=\"33921251\">\n",
       "<td align=\"right\" class=\"title\" valign=\"top\"><span class=\"rank\">4.</span></td> <td class=\"votelinks\" valign=\"top\"><center><a href=\"vote?id=33921251&amp;how=up&amp;goto=news\" id=\"up_33921251\"><div class=\"votearrow\" title=\"upvote\"></div></a></center></td><td class=\"title\"><span class=\"titleline\"><a href=\"https://www.neovimconf.live/\">Neovim Conf 2022</a><span class=\"sitebit comhead\"> (<a href=\"from?site=neovimconf.live\"><span class=\"sitestr\">neovimconf.live</span></a>)</span></span></td></tr><tr><td colspan=\"2\"></td><td class=\"subtext\"><span class=\"subline\">\n",
       "<span class=\"score\" id=\"score_33921251\">22 points</span> by <a class=\"hnuser\" href=\"user?id=davidkunz\">davidkunz</a> <span class=\"age\" title=\"2022-12-09T13:57:35\"><a href=\"item?id=33921251\">54 minutes ago</a></span> <span id=\"unv_33921251\"></span> | <a href=\"hide?id=33921251&amp;goto=news\">hide</a> | <a href=\"item?id=33921251\">3 comments</a> </span>\n",
       "</td></tr>\n",
       "<tr class=\"spacer\" style=\"height:5px\"></tr>\n",
       "<tr class=\"athing\" id=\"33892392\">\n",
       "<td align=\"right\" class=\"title\" valign=\"top\"><span class=\"rank\">5.</span></td> <td class=\"votelinks\" valign=\"top\"><center><a href=\"vote?id=33892392&amp;how=up&amp;goto=news\" id=\"up_33892392\"><div class=\"votearrow\" title=\"upvote\"></div></a></center></td><td class=\"title\"><span class=\"titleline\"><a href=\"https://spectrum.ieee.org/point-contact-transistor\">Transistors are civilization’s invisible infrastructure</a><span class=\"sitebit comhead\"> (<a href=\"from?site=ieee.org\"><span class=\"sitestr\">ieee.org</span></a>)</span></span></td></tr><tr><td colspan=\"2\"></td><td class=\"subtext\"><span class=\"subline\">\n",
       "<span class=\"score\" id=\"score_33892392\">49 points</span> by <a class=\"hnuser\" href=\"user?id=danboarder\">danboarder</a> <span class=\"age\" title=\"2022-12-07T09:33:02\"><a href=\"item?id=33892392\">3 hours ago</a></span> <span id=\"unv_33892392\"></span> | <a href=\"hide?id=33892392&amp;goto=news\">hide</a> | <a href=\"item?id=33892392\">8 comments</a> </span>\n",
       "</td></tr>\n",
       "<tr class=\"spacer\" style=\"height:5px\"></tr>\n",
       "<tr class=\"athing\" id=\"33920510\">\n",
       "<td align=\"right\" class=\"title\" valign=\"top\"><span class=\"rank\">6.</span></td> <td class=\"votelinks\" valign=\"top\"><center><a href=\"vote?id=33920510&amp;how=up&amp;goto=news\" id=\"up_33920510\"><div class=\"votearrow\" title=\"upvote\"></div></a></center></td><td class=\"title\"><span class=\"titleline\"><a href=\"https://www.metallicss.com\">Show HN: Versatile Metallic Finish for CSS</a><span class=\"sitebit comhead\"> (<a href=\"from?site=metallicss.com\"><span class=\"sitestr\">metallicss.com</span></a>)</span></span></td></tr><tr><td colspan=\"2\"></td><td class=\"subtext\"><span class=\"subline\">\n",
       "<span class=\"score\" id=\"score_33920510\">31 points</span> by <a class=\"hnuser\" href=\"user?id=mikaelaast\">mikaelaast</a> <span class=\"age\" title=\"2022-12-09T12:28:53\"><a href=\"item?id=33920510\">2 hours ago</a></span> <span id=\"unv_33920510\"></span> | <a href=\"hide?id=33920510&amp;goto=news\">hide</a> | <a href=\"item?id=33920510\">21 comments</a> </span>\n",
       "</td></tr>\n",
       "<tr class=\"spacer\" style=\"height:5px\"></tr>\n",
       "<tr class=\"athing\" id=\"33920885\">\n",
       "<td align=\"right\" class=\"title\" valign=\"top\"><span class=\"rank\">7.</span></td> <td class=\"votelinks\" valign=\"top\"><center><a href=\"vote?id=33920885&amp;how=up&amp;goto=news\" id=\"up_33920885\"><div class=\"votearrow\" title=\"upvote\"></div></a></center></td><td class=\"title\"><span class=\"titleline\"><a href=\"https://github.com/cloudentity/oauth2c\">CLI for OAuth 2.0</a><span class=\"sitebit comhead\"> (<a href=\"from?site=github.com/cloudentity\"><span class=\"sitestr\">github.com/cloudentity</span></a>)</span></span></td></tr><tr><td colspan=\"2\"></td><td class=\"subtext\"><span class=\"subline\">\n",
       "<span class=\"score\" id=\"score_33920885\">23 points</span> by <a class=\"hnuser\" href=\"user?id=mbilski\">mbilski</a> <span class=\"age\" title=\"2022-12-09T13:16:55\"><a href=\"item?id=33920885\">1 hour ago</a></span> <span id=\"unv_33920885\"></span> | <a href=\"hide?id=33920885&amp;goto=news\">hide</a> | <a href=\"item?id=33920885\">4 comments</a> </span>\n",
       "</td></tr>\n",
       "<tr class=\"spacer\" style=\"height:5px\"></tr>\n",
       "<tr class=\"athing\" id=\"33913201\">\n",
       "<td align=\"right\" class=\"title\" valign=\"top\"><span class=\"rank\">8.</span></td> <td class=\"votelinks\" valign=\"top\"><center><a href=\"vote?id=33913201&amp;how=up&amp;goto=news\" id=\"up_33913201\"><div class=\"votearrow\" title=\"upvote\"></div></a></center></td><td class=\"title\"><span class=\"titleline\"><a href=\"https://www.lrb.co.uk/the-paper/v44/n24/bee-wilson/like-a-bar-of-soap\">The Child Is the Teacher: A Life of Maria Montessori</a><span class=\"sitebit comhead\"> (<a href=\"from?site=lrb.co.uk\"><span class=\"sitestr\">lrb.co.uk</span></a>)</span></span></td></tr><tr><td colspan=\"2\"></td><td class=\"subtext\"><span class=\"subline\">\n",
       "<span class=\"score\" id=\"score_33913201\">45 points</span> by <a class=\"hnuser\" href=\"user?id=crapvoter\">crapvoter</a> <span class=\"age\" title=\"2022-12-08T20:51:49\"><a href=\"item?id=33913201\">4 hours ago</a></span> <span id=\"unv_33913201\"></span> | <a href=\"hide?id=33913201&amp;goto=news\">hide</a> | <a href=\"item?id=33913201\">29 comments</a> </span>\n",
       "</td></tr>\n",
       "<tr class=\"spacer\" style=\"height:5px\"></tr>\n",
       "<tr class=\"athing\" id=\"33917962\">\n",
       "<td align=\"right\" class=\"title\" valign=\"top\"><span class=\"rank\">9.</span></td> <td class=\"votelinks\" valign=\"top\"><center><a href=\"vote?id=33917962&amp;how=up&amp;goto=news\" id=\"up_33917962\"><div class=\"votearrow\" title=\"upvote\"></div></a></center></td><td class=\"title\"><span class=\"titleline\"><a href=\"item?id=33917962\">Ask HN: Developer abused “sign in with GitHub” and users are being punished</a></span></td></tr><tr><td colspan=\"2\"></td><td class=\"subtext\"><span class=\"subline\">\n",
       "<span class=\"score\" id=\"score_33917962\">574 points</span> by <a class=\"hnuser\" href=\"user?id=2Gkashmiri\">2Gkashmiri</a> <span class=\"age\" title=\"2022-12-09T05:45:24\"><a href=\"item?id=33917962\">9 hours ago</a></span> <span id=\"unv_33917962\"></span> | <a href=\"hide?id=33917962&amp;goto=news\">hide</a> | <a href=\"item?id=33917962\">312 comments</a> </span>\n",
       "</td></tr>\n",
       "<tr class=\"spacer\" style=\"height:5px\"></tr>\n",
       "<tr class=\"athing\" id=\"33909503\">\n",
       "<td align=\"right\" class=\"title\" valign=\"top\"><span class=\"rank\">10.</span></td> <td class=\"votelinks\" valign=\"top\"><center><a href=\"vote?id=33909503&amp;how=up&amp;goto=news\" id=\"up_33909503\"><div class=\"votearrow\" title=\"upvote\"></div></a></center></td><td class=\"title\"><span class=\"titleline\"><a href=\"https://medium.com/@georgwiese/hash-based-digital-signatures-almost-from-scratch-da57e54dd774\">Hash-based digital signatures (almost) from scratch</a><span class=\"sitebit comhead\"> (<a href=\"from?site=medium.com/georgwiese\"><span class=\"sitestr\">medium.com/georgwiese</span></a>)</span></span></td></tr><tr><td colspan=\"2\"></td><td class=\"subtext\"><span class=\"subline\">\n",
       "<span class=\"score\" id=\"score_33909503\">17 points</span> by <a class=\"hnuser\" href=\"user?id=georgwiese\">georgwiese</a> <span class=\"age\" title=\"2022-12-08T16:11:31\"><a href=\"item?id=33909503\">2 hours ago</a></span> <span id=\"unv_33909503\"></span> | <a href=\"hide?id=33909503&amp;goto=news\">hide</a> | <a href=\"item?id=33909503\">discuss</a> </span>\n",
       "</td></tr>\n",
       "<tr class=\"spacer\" style=\"height:5px\"></tr>\n",
       "<tr class=\"athing\" id=\"33921023\">\n",
       "<td align=\"right\" class=\"title\" valign=\"top\"><span class=\"rank\">11.</span></td> <td class=\"votelinks\" valign=\"top\"><center><a href=\"vote?id=33921023&amp;how=up&amp;goto=news\" id=\"up_33921023\"><div class=\"votearrow\" title=\"upvote\"></div></a></center></td><td class=\"title\"><span class=\"titleline\"><a href=\"https://stackdiary.com/css-media-queries/\">A Practical Guide to CSS Media Queries</a><span class=\"sitebit comhead\"> (<a href=\"from?site=stackdiary.com\"><span class=\"sitestr\">stackdiary.com</span></a>)</span></span></td></tr><tr><td colspan=\"2\"></td><td class=\"subtext\"><span class=\"subline\">\n",
       "<span class=\"score\" id=\"score_33921023\">6 points</span> by <a class=\"hnuser\" href=\"user?id=marban\">marban</a> <span class=\"age\" title=\"2022-12-09T13:33:22\"><a href=\"item?id=33921023\">1 hour ago</a></span> <span id=\"unv_33921023\"></span> | <a href=\"hide?id=33921023&amp;goto=news\">hide</a> | <a href=\"item?id=33921023\">discuss</a> </span>\n",
       "</td></tr>\n",
       "<tr class=\"spacer\" style=\"height:5px\"></tr>\n",
       "<tr class=\"athing\" id=\"33920330\">\n",
       "<td align=\"right\" class=\"title\" valign=\"top\"><span class=\"rank\">12.</span></td> <td><img height=\"1\" src=\"s.gif\" width=\"14\"/></td> <td class=\"title\"><span class=\"titleline\"><a href=\"item?id=33920330\">KaiPod Learning (YC S21) Is Hiring a Founding Engineer</a></span></td></tr><tr><td colspan=\"2\"></td><td class=\"subtext\">\n",
       "<span class=\"age\" title=\"2022-12-09T12:00:20\"><a href=\"item?id=33920330\">2 hours ago</a></span> | <a href=\"hide?id=33920330&amp;goto=news\">hide</a> </td></tr>\n",
       "<tr class=\"spacer\" style=\"height:5px\"></tr>\n",
       "<tr class=\"athing\" id=\"33920210\">\n",
       "<td align=\"right\" class=\"title\" valign=\"top\"><span class=\"rank\">13.</span></td> <td class=\"votelinks\" valign=\"top\"><center><a href=\"vote?id=33920210&amp;how=up&amp;goto=news\" id=\"up_33920210\"><div class=\"votearrow\" title=\"upvote\"></div></a></center></td><td class=\"title\"><span class=\"titleline\"><a href=\"https://www.iranintl.com/en/202212077198\">Iranian Officials Asking Venezuela for Asylum in Case of Regime Change</a><span class=\"sitebit comhead\"> (<a href=\"from?site=iranintl.com\"><span class=\"sitestr\">iranintl.com</span></a>)</span></span></td></tr><tr><td colspan=\"2\"></td><td class=\"subtext\"><span class=\"subline\">\n",
       "<span class=\"score\" id=\"score_33920210\">34 points</span> by <a class=\"hnuser\" href=\"user?id=michaeltimo\">michaeltimo</a> <span class=\"age\" title=\"2022-12-09T11:36:32\"><a href=\"item?id=33920210\">3 hours ago</a></span> <span id=\"unv_33920210\"></span> | <a href=\"hide?id=33920210&amp;goto=news\">hide</a> | <a href=\"item?id=33920210\">23 comments</a> </span>\n",
       "</td></tr>\n",
       "<tr class=\"spacer\" style=\"height:5px\"></tr>\n",
       "<tr class=\"athing\" id=\"33921576\">\n",
       "<td align=\"right\" class=\"title\" valign=\"top\"><span class=\"rank\">14.</span></td> <td class=\"votelinks\" valign=\"top\"><center><a href=\"vote?id=33921576&amp;how=up&amp;goto=news\" id=\"up_33921576\"><div class=\"votearrow\" title=\"upvote\"></div></a></center></td><td class=\"title\"><span class=\"titleline\"><a href=\"http://www.gridwatch.templar.co.uk/\" rel=\"nofollow\">GB National Grid Status</a><span class=\"sitebit comhead\"> (<a href=\"from?site=templar.co.uk\"><span class=\"sitestr\">templar.co.uk</span></a>)</span></span></td></tr><tr><td colspan=\"2\"></td><td class=\"subtext\"><span class=\"subline\">\n",
       "<span class=\"score\" id=\"score_33921576\">4 points</span> by <a class=\"hnuser\" href=\"user?id=CTOSian\">CTOSian</a> <span class=\"age\" title=\"2022-12-09T14:34:01\"><a href=\"item?id=33921576\">17 minutes ago</a></span> <span id=\"unv_33921576\"></span> | <a href=\"hide?id=33921576&amp;goto=news\">hide</a> | <a href=\"item?id=33921576\">1 comment</a> </span>\n",
       "</td></tr>\n",
       "<tr class=\"spacer\" style=\"height:5px\"></tr>\n",
       "<tr class=\"athing\" id=\"33920086\">\n",
       "<td align=\"right\" class=\"title\" valign=\"top\"><span class=\"rank\">15.</span></td> <td class=\"votelinks\" valign=\"top\"><center><a href=\"vote?id=33920086&amp;how=up&amp;goto=news\" id=\"up_33920086\"><div class=\"votearrow\" title=\"upvote\"></div></a></center></td><td class=\"title\"><span class=\"titleline\"><a href=\"https://gitlab.freedesktop.org/pipewire/pipewire/-/releases/0.3.62\">PipeWire 0.3.62</a><span class=\"sitebit comhead\"> (<a href=\"from?site=freedesktop.org\"><span class=\"sitestr\">freedesktop.org</span></a>)</span></span></td></tr><tr><td colspan=\"2\"></td><td class=\"subtext\"><span class=\"subline\">\n",
       "<span class=\"score\" id=\"score_33920086\">68 points</span> by <a class=\"hnuser\" href=\"user?id=jrepinc\">jrepinc</a> <span class=\"age\" title=\"2022-12-09T11:14:11\"><a href=\"item?id=33920086\">3 hours ago</a></span> <span id=\"unv_33920086\"></span> | <a href=\"hide?id=33920086&amp;goto=news\">hide</a> | <a href=\"item?id=33920086\">38 comments</a> </span>\n",
       "</td></tr>\n",
       "<tr class=\"spacer\" style=\"height:5px\"></tr>\n",
       "<tr class=\"athing\" id=\"33921223\">\n",
       "<td align=\"right\" class=\"title\" valign=\"top\"><span class=\"rank\">16.</span></td> <td class=\"votelinks\" valign=\"top\"><center><a href=\"vote?id=33921223&amp;how=up&amp;goto=news\" id=\"up_33921223\"><div class=\"votearrow\" title=\"upvote\"></div></a></center></td><td class=\"title\"><span class=\"titleline\"><a href=\"https://archive.vn/6EXTd\">Russia’s apparent resilience is being kept up by policy tricks and cash</a><span class=\"sitebit comhead\"> (<a href=\"from?site=archive.vn\"><span class=\"sitestr\">archive.vn</span></a>)</span></span></td></tr><tr><td colspan=\"2\"></td><td class=\"subtext\"><span class=\"subline\">\n",
       "<span class=\"score\" id=\"score_33921223\">24 points</span> by <a class=\"hnuser\" href=\"user?id=BerislavLopac\">BerislavLopac</a> <span class=\"age\" title=\"2022-12-09T13:54:51\"><a href=\"item?id=33921223\">57 minutes ago</a></span> <span id=\"unv_33921223\"></span> | <a href=\"hide?id=33921223&amp;goto=news\">hide</a> | <a href=\"item?id=33921223\">9 comments</a> </span>\n",
       "</td></tr>\n",
       "<tr class=\"spacer\" style=\"height:5px\"></tr>\n",
       "<tr class=\"athing\" id=\"33888799\">\n",
       "<td align=\"right\" class=\"title\" valign=\"top\"><span class=\"rank\">17.</span></td> <td class=\"votelinks\" valign=\"top\"><center><a href=\"vote?id=33888799&amp;how=up&amp;goto=news\" id=\"up_33888799\"><div class=\"votearrow\" title=\"upvote\"></div></a></center></td><td class=\"title\"><span class=\"titleline\"><a href=\"https://www.atlasobscura.com/articles/cyanide-tooth-is-not-real\">The cyanide tooth is a cold war fairy-tale (2018)</a><span class=\"sitebit comhead\"> (<a href=\"from?site=atlasobscura.com\"><span class=\"sitestr\">atlasobscura.com</span></a>)</span></span></td></tr><tr><td colspan=\"2\"></td><td class=\"subtext\"><span class=\"subline\">\n",
       "<span class=\"score\" id=\"score_33888799\">84 points</span> by <a class=\"hnuser\" href=\"user?id=paulpauper\">paulpauper</a> <span class=\"age\" title=\"2022-12-06T23:52:42\"><a href=\"item?id=33888799\">9 hours ago</a></span> <span id=\"unv_33888799\"></span> | <a href=\"hide?id=33888799&amp;goto=news\">hide</a> | <a href=\"item?id=33888799\">64 comments</a> </span>\n",
       "</td></tr>\n",
       "<tr class=\"spacer\" style=\"height:5px\"></tr>\n",
       "<tr class=\"athing\" id=\"33918879\">\n",
       "<td align=\"right\" class=\"title\" valign=\"top\"><span class=\"rank\">18.</span></td> <td class=\"votelinks\" valign=\"top\"><center><a href=\"vote?id=33918879&amp;how=up&amp;goto=news\" id=\"up_33918879\"><div class=\"votearrow\" title=\"upvote\"></div></a></center></td><td class=\"title\"><span class=\"titleline\"><a href=\"https://github.blog/2022-12-08-experiment-the-hidden-costs-of-waiting-on-slow-build-times/\">Experiment: The costs of slow build times</a><span class=\"sitebit comhead\"> (<a href=\"from?site=github.blog\"><span class=\"sitestr\">github.blog</span></a>)</span></span></td></tr><tr><td colspan=\"2\"></td><td class=\"subtext\"><span class=\"subline\">\n",
       "<span class=\"score\" id=\"score_33918879\">121 points</span> by <a class=\"hnuser\" href=\"user?id=pimterry\">pimterry</a> <span class=\"age\" title=\"2022-12-09T08:09:31\"><a href=\"item?id=33918879\">6 hours ago</a></span> <span id=\"unv_33918879\"></span> | <a href=\"hide?id=33918879&amp;goto=news\">hide</a> | <a href=\"item?id=33918879\">126 comments</a> </span>\n",
       "</td></tr>\n",
       "<tr class=\"spacer\" style=\"height:5px\"></tr>\n",
       "<tr class=\"athing\" id=\"33918430\">\n",
       "<td align=\"right\" class=\"title\" valign=\"top\"><span class=\"rank\">19.</span></td> <td class=\"votelinks\" valign=\"top\"><center><a href=\"vote?id=33918430&amp;how=up&amp;goto=news\" id=\"up_33918430\"><div class=\"votearrow\" title=\"upvote\"></div></a></center></td><td class=\"title\"><span class=\"titleline\"><a href=\"https://arogozhnikov.github.io/2022/11/29/delimiter-comes-first.html\">Delimiter-first code</a><span class=\"sitebit comhead\"> (<a href=\"from?site=arogozhnikov.github.io\"><span class=\"sitestr\">arogozhnikov.github.io</span></a>)</span></span></td></tr><tr><td colspan=\"2\"></td><td class=\"subtext\"><span class=\"subline\">\n",
       "<span class=\"score\" id=\"score_33918430\">68 points</span> by <a class=\"hnuser\" href=\"user?id=g0xA52A2A\">g0xA52A2A</a> <span class=\"age\" title=\"2022-12-09T06:59:12\"><a href=\"item?id=33918430\">7 hours ago</a></span> <span id=\"unv_33918430\"></span> | <a href=\"hide?id=33918430&amp;goto=news\">hide</a> | <a href=\"item?id=33918430\">30 comments</a> </span>\n",
       "</td></tr>\n",
       "<tr class=\"spacer\" style=\"height:5px\"></tr>\n",
       "<tr class=\"athing\" id=\"33918044\">\n",
       "<td align=\"right\" class=\"title\" valign=\"top\"><span class=\"rank\">20.</span></td> <td class=\"votelinks\" valign=\"top\"><center><a href=\"vote?id=33918044&amp;how=up&amp;goto=news\" id=\"up_33918044\"><div class=\"votearrow\" title=\"upvote\"></div></a></center></td><td class=\"title\"><span class=\"titleline\"><a href=\"https://navendu.me/posts/introduction-to-monitoring-microservices/\">Monitoring Microservices with Prometheus and Grafana</a><span class=\"sitebit comhead\"> (<a href=\"from?site=navendu.me\"><span class=\"sitestr\">navendu.me</span></a>)</span></span></td></tr><tr><td colspan=\"2\"></td><td class=\"subtext\"><span class=\"subline\">\n",
       "<span class=\"score\" id=\"score_33918044\">122 points</span> by <a class=\"hnuser\" href=\"user?id=miles_chasey\">miles_chasey</a> <span class=\"age\" title=\"2022-12-09T05:56:58\"><a href=\"item?id=33918044\">8 hours ago</a></span> <span id=\"unv_33918044\"></span> | <a href=\"hide?id=33918044&amp;goto=news\">hide</a> | <a href=\"item?id=33918044\">28 comments</a> </span>\n",
       "</td></tr>\n",
       "<tr class=\"spacer\" style=\"height:5px\"></tr>\n",
       "<tr class=\"athing\" id=\"33893977\">\n",
       "<td align=\"right\" class=\"title\" valign=\"top\"><span class=\"rank\">21.</span></td> <td class=\"votelinks\" valign=\"top\"><center><a href=\"vote?id=33893977&amp;how=up&amp;goto=news\" id=\"up_33893977\"><div class=\"votearrow\" title=\"upvote\"></div></a></center></td><td class=\"title\"><span class=\"titleline\"><a href=\"https://blog.appsignal.com/2022/12/07/database-performance-optimization-and-scaling-in-rails.html\">Database Performance Optimization and Scaling in Rails</a><span class=\"sitebit comhead\"> (<a href=\"from?site=appsignal.com\"><span class=\"sitestr\">appsignal.com</span></a>)</span></span></td></tr><tr><td colspan=\"2\"></td><td class=\"subtext\"><span class=\"subline\">\n",
       "<span class=\"score\" id=\"score_33893977\">52 points</span> by <a class=\"hnuser\" href=\"user?id=Liriel\">Liriel</a> <span class=\"age\" title=\"2022-12-07T13:16:27\"><a href=\"item?id=33893977\">6 hours ago</a></span> <span id=\"unv_33893977\"></span> | <a href=\"hide?id=33893977&amp;goto=news\">hide</a> | <a href=\"item?id=33893977\">10 comments</a> </span>\n",
       "</td></tr>\n",
       "<tr class=\"spacer\" style=\"height:5px\"></tr>\n",
       "<tr class=\"athing\" id=\"33913113\">\n",
       "<td align=\"right\" class=\"title\" valign=\"top\"><span class=\"rank\">22.</span></td> <td class=\"votelinks\" valign=\"top\"><center><a href=\"vote?id=33913113&amp;how=up&amp;goto=news\" id=\"up_33913113\"><div class=\"votearrow\" title=\"upvote\"></div></a></center></td><td class=\"title\"><span class=\"titleline\"><a href=\"https://lithub.com/part-bear-part-bird-part-monkey-part-lizard-on-the-deep-weirdness-of-beavers/\">The Deep Weirdness of Beavers</a><span class=\"sitebit comhead\"> (<a href=\"from?site=lithub.com\"><span class=\"sitestr\">lithub.com</span></a>)</span></span></td></tr><tr><td colspan=\"2\"></td><td class=\"subtext\"><span class=\"subline\">\n",
       "<span class=\"score\" id=\"score_33913113\">43 points</span> by <a class=\"hnuser\" href=\"user?id=agronaut\">agronaut</a> <span class=\"age\" title=\"2022-12-08T20:45:30\"><a href=\"item?id=33913113\">7 hours ago</a></span> <span id=\"unv_33913113\"></span> | <a href=\"hide?id=33913113&amp;goto=news\">hide</a> | <a href=\"item?id=33913113\">15 comments</a> </span>\n",
       "</td></tr>\n",
       "<tr class=\"spacer\" style=\"height:5px\"></tr>\n",
       "<tr class=\"athing\" id=\"33895066\">\n",
       "<td align=\"right\" class=\"title\" valign=\"top\"><span class=\"rank\">23.</span></td> <td class=\"votelinks\" valign=\"top\"><center><a href=\"vote?id=33895066&amp;how=up&amp;goto=news\" id=\"up_33895066\"><div class=\"votearrow\" title=\"upvote\"></div></a></center></td><td class=\"title\"><span class=\"titleline\"><a href=\"https://edition.cnn.com/travel/article/what-its-like-to-live-in-monaco/index.html\">What it's like to live in Monaco</a><span class=\"sitebit comhead\"> (<a href=\"from?site=cnn.com\"><span class=\"sitestr\">cnn.com</span></a>)</span></span></td></tr><tr><td colspan=\"2\"></td><td class=\"subtext\"><span class=\"subline\">\n",
       "<span class=\"score\" id=\"score_33895066\">168 points</span> by <a class=\"hnuser\" href=\"user?id=mooreds\">mooreds</a> <span class=\"age\" title=\"2022-12-07T15:01:35\"><a href=\"item?id=33895066\">12 hours ago</a></span> <span id=\"unv_33895066\"></span> | <a href=\"hide?id=33895066&amp;goto=news\">hide</a> | <a href=\"item?id=33895066\">174 comments</a> </span>\n",
       "</td></tr>\n",
       "<tr class=\"spacer\" style=\"height:5px\"></tr>\n",
       "<tr class=\"athing\" id=\"33899613\">\n",
       "<td align=\"right\" class=\"title\" valign=\"top\"><span class=\"rank\">24.</span></td> <td class=\"votelinks\" valign=\"top\"><center><a href=\"vote?id=33899613&amp;how=up&amp;goto=news\" id=\"up_33899613\"><div class=\"votearrow\" title=\"upvote\"></div></a></center></td><td class=\"title\"><span class=\"titleline\"><a href=\"https://mkt1.substack.com/p/homepage-copy\">How to create a more effective homepage</a><span class=\"sitebit comhead\"> (<a href=\"from?site=mkt1.substack.com\"><span class=\"sitestr\">mkt1.substack.com</span></a>)</span></span></td></tr><tr><td colspan=\"2\"></td><td class=\"subtext\"><span class=\"subline\">\n",
       "<span class=\"score\" id=\"score_33899613\">57 points</span> by <a class=\"hnuser\" href=\"user?id=gmays\">gmays</a> <span class=\"age\" title=\"2022-12-07T20:13:51\"><a href=\"item?id=33899613\">8 hours ago</a></span> <span id=\"unv_33899613\"></span> | <a href=\"hide?id=33899613&amp;goto=news\">hide</a> | <a href=\"item?id=33899613\">5 comments</a> </span>\n",
       "</td></tr>\n",
       "<tr class=\"spacer\" style=\"height:5px\"></tr>\n",
       "<tr class=\"athing\" id=\"33912401\">\n",
       "<td align=\"right\" class=\"title\" valign=\"top\"><span class=\"rank\">25.</span></td> <td class=\"votelinks\" valign=\"top\"><center><a href=\"vote?id=33912401&amp;how=up&amp;goto=news\" id=\"up_33912401\"><div class=\"votearrow\" title=\"upvote\"></div></a></center></td><td class=\"title\"><span class=\"titleline\"><a href=\"https://twitter.com/johnmcelhone8/status/1600683623250030593\">Finding the B-21's hangar location from the stars in its press image</a><span class=\"sitebit comhead\"> (<a href=\"from?site=twitter.com/johnmcelhone8\"><span class=\"sitestr\">twitter.com/johnmcelhone8</span></a>)</span></span></td></tr><tr><td colspan=\"2\"></td><td class=\"subtext\"><span class=\"subline\">\n",
       "<span class=\"score\" id=\"score_33912401\">738 points</span> by <a class=\"hnuser\" href=\"user?id=johnmcelhone\">johnmcelhone</a> <span class=\"age\" title=\"2022-12-08T19:53:46\"><a href=\"item?id=33912401\">18 hours ago</a></span> <span id=\"unv_33912401\"></span> | <a href=\"hide?id=33912401&amp;goto=news\">hide</a> | <a href=\"item?id=33912401\">199 comments</a> </span>\n",
       "</td></tr>\n",
       "<tr class=\"spacer\" style=\"height:5px\"></tr>\n",
       "<tr class=\"athing\" id=\"33890405\">\n",
       "<td align=\"right\" class=\"title\" valign=\"top\"><span class=\"rank\">26.</span></td> <td class=\"votelinks\" valign=\"top\"><center><a href=\"vote?id=33890405&amp;how=up&amp;goto=news\" id=\"up_33890405\"><div class=\"votearrow\" title=\"upvote\"></div></a></center></td><td class=\"title\"><span class=\"titleline\"><a href=\"https://www.bloomberg.com/news/features/2022-12-06/amazon-is-running-out-of-warehouse-workers-cue-the-robots\" rel=\"nofollow\">Amazon Is Running Out of Warehouse Workers. Cue the Robots</a><span class=\"sitebit comhead\"> (<a href=\"from?site=bloomberg.com\"><span class=\"sitestr\">bloomberg.com</span></a>)</span></span></td></tr><tr><td colspan=\"2\"></td><td class=\"subtext\"><span class=\"subline\">\n",
       "<span class=\"score\" id=\"score_33890405\">5 points</span> by <a class=\"hnuser\" href=\"user?id=mfiguiere\">mfiguiere</a> <span class=\"age\" title=\"2022-12-07T03:44:33\"><a href=\"item?id=33890405\">1 hour ago</a></span> <span id=\"unv_33890405\"></span> | <a href=\"hide?id=33890405&amp;goto=news\">hide</a> | <a href=\"item?id=33890405\">5 comments</a> </span>\n",
       "</td></tr>\n",
       "<tr class=\"spacer\" style=\"height:5px\"></tr>\n",
       "<tr class=\"athing\" id=\"33900011\">\n",
       "<td align=\"right\" class=\"title\" valign=\"top\"><span class=\"rank\">27.</span></td> <td class=\"votelinks\" valign=\"top\"><center><a href=\"vote?id=33900011&amp;how=up&amp;goto=news\" id=\"up_33900011\"><div class=\"votearrow\" title=\"upvote\"></div></a></center></td><td class=\"title\"><span class=\"titleline\"><a href=\"https://www.laphamsquarterly.org/roundtable/it-belongs-museum\">It Belongs in a Museum: Isabella Stewart Gardner builds a place to house her art</a><span class=\"sitebit comhead\"> (<a href=\"from?site=laphamsquarterly.org\"><span class=\"sitestr\">laphamsquarterly.org</span></a>)</span></span></td></tr><tr><td colspan=\"2\"></td><td class=\"subtext\"><span class=\"subline\">\n",
       "<span class=\"score\" id=\"score_33900011\">19 points</span> by <a class=\"hnuser\" href=\"user?id=prismatic\">prismatic</a> <span class=\"age\" title=\"2022-12-07T20:47:52\"><a href=\"item?id=33900011\">5 hours ago</a></span> <span id=\"unv_33900011\"></span> | <a href=\"hide?id=33900011&amp;goto=news\">hide</a> | <a href=\"item?id=33900011\">3 comments</a> </span>\n",
       "</td></tr>\n",
       "<tr class=\"spacer\" style=\"height:5px\"></tr>\n",
       "<tr class=\"athing\" id=\"33917157\">\n",
       "<td align=\"right\" class=\"title\" valign=\"top\"><span class=\"rank\">28.</span></td> <td class=\"votelinks\" valign=\"top\"><center><a href=\"vote?id=33917157&amp;how=up&amp;goto=news\" id=\"up_33917157\"><div class=\"votearrow\" title=\"upvote\"></div></a></center></td><td class=\"title\"><span class=\"titleline\"><a href=\"https://neugierig.org/software/blog/2022/12/chrome.html\">Chrome, 10 Years Later</a><span class=\"sitebit comhead\"> (<a href=\"from?site=neugierig.org\"><span class=\"sitestr\">neugierig.org</span></a>)</span></span></td></tr><tr><td colspan=\"2\"></td><td class=\"subtext\"><span class=\"subline\">\n",
       "<span class=\"score\" id=\"score_33917157\">191 points</span> by <a class=\"hnuser\" href=\"user?id=felixc\">felixc</a> <span class=\"age\" title=\"2022-12-09T03:42:20\"><a href=\"item?id=33917157\">11 hours ago</a></span> <span id=\"unv_33917157\"></span> | <a href=\"hide?id=33917157&amp;goto=news\">hide</a> | <a href=\"item?id=33917157\">121 comments</a> </span>\n",
       "</td></tr>\n",
       "<tr class=\"spacer\" style=\"height:5px\"></tr>\n",
       "<tr class=\"athing\" id=\"33892889\">\n",
       "<td align=\"right\" class=\"title\" valign=\"top\"><span class=\"rank\">29.</span></td> <td class=\"votelinks\" valign=\"top\"><center><a href=\"vote?id=33892889&amp;how=up&amp;goto=news\" id=\"up_33892889\"><div class=\"votearrow\" title=\"upvote\"></div></a></center></td><td class=\"title\"><span class=\"titleline\"><a href=\"http://adrianchadd.blogspot.com/2022/12/damnit-i-slipped-and-mostly-built-amiga.html\">Damnit I slipped and (mostly) built an Amiga 500</a><span class=\"sitebit comhead\"> (<a href=\"from?site=adrianchadd.blogspot.com\"><span class=\"sitestr\">adrianchadd.blogspot.com</span></a>)</span></span></td></tr><tr><td colspan=\"2\"></td><td class=\"subtext\"><span class=\"subline\">\n",
       "<span class=\"score\" id=\"score_33892889\">97 points</span> by <a class=\"hnuser\" href=\"user?id=pabs3\">pabs3</a> <span class=\"age\" title=\"2022-12-07T10:48:14\"><a href=\"item?id=33892889\">13 hours ago</a></span> <span id=\"unv_33892889\"></span> | <a href=\"hide?id=33892889&amp;goto=news\">hide</a> | <a href=\"item?id=33892889\">25 comments</a> </span>\n",
       "</td></tr>\n",
       "<tr class=\"spacer\" style=\"height:5px\"></tr>\n",
       "<tr class=\"athing\" id=\"33915554\">\n",
       "<td align=\"right\" class=\"title\" valign=\"top\"><span class=\"rank\">30.</span></td> <td class=\"votelinks\" valign=\"top\"><center><a href=\"vote?id=33915554&amp;how=up&amp;goto=news\" id=\"up_33915554\"><div class=\"votearrow\" title=\"upvote\"></div></a></center></td><td class=\"title\"><span class=\"titleline\"><a href=\"https://github.com/revanced/revanced-patches\">ReVanced DMCA Takedown on GitHub</a><span class=\"sitebit comhead\"> (<a href=\"from?site=github.com/revanced\"><span class=\"sitestr\">github.com/revanced</span></a>)</span></span></td></tr><tr><td colspan=\"2\"></td><td class=\"subtext\"><span class=\"subline\">\n",
       "<span class=\"score\" id=\"score_33915554\">88 points</span> by <a class=\"hnuser\" href=\"user?id=Bilal_io\">Bilal_io</a> <span class=\"age\" title=\"2022-12-08T23:56:13\"><a href=\"item?id=33915554\">14 hours ago</a></span> <span id=\"unv_33915554\"></span> | <a href=\"hide?id=33915554&amp;goto=news\">hide</a> | <a href=\"item?id=33915554\">56 comments</a> </span>\n",
       "</td></tr>\n",
       "<tr class=\"spacer\" style=\"height:5px\"></tr>\n",
       "<tr class=\"morespace\" style=\"height:10px\"></tr><tr><td colspan=\"2\"></td>\n",
       "<td class=\"title\"><a class=\"morelink\" href=\"?p=2\" rel=\"next\">More</a></td> </tr>\n",
       "</table>\n",
       "</td></tr>\n",
       "<tr><td><img height=\"10\" src=\"s.gif\" width=\"0\"/><table cellpadding=\"1\" cellspacing=\"0\" width=\"100%\"><tr><td bgcolor=\"#ff6600\"></td></tr></table><br/>\n",
       "<center><span class=\"yclinks\"><a href=\"newsguidelines.html\">Guidelines</a> | <a href=\"newsfaq.html\">FAQ</a> | <a href=\"lists\">Lists</a> | <a href=\"https://github.com/HackerNews/API\">API</a> | <a href=\"security.html\">Security</a> | <a href=\"https://www.ycombinator.com/legal/\">Legal</a> | <a href=\"https://www.ycombinator.com/apply/\">Apply to YC</a> | <a href=\"mailto:hn@ycombinator.com\">Contact</a></span><br/><br/>\n",
       "<form action=\"//hn.algolia.com/\" method=\"get\">Search: <input autocapitalize=\"off\" autocomplete=\"false\" autocorrect=\"off\" name=\"q\" size=\"17\" spellcheck=\"false\" type=\"text\"/></form></center></td></tr> </table></center></body>\n",
       "<script src=\"hn.js?QiromlAK3ct3kGoDRoLX\" type=\"text/javascript\"></script>\n",
       "</html>"
      ]
     },
     "execution_count": 36,
     "metadata": {},
     "output_type": "execute_result"
    }
   ],
   "source": [
    "soup"
   ]
  },
  {
   "cell_type": "code",
   "execution_count": 38,
   "id": "e408d547",
   "metadata": {},
   "outputs": [
    {
     "data": {
      "text/plain": [
       "<tr class=\"athing\" id=\"33919823\">\n",
       "<td align=\"right\" class=\"title\" valign=\"top\"><span class=\"rank\">1.</span></td> <td class=\"votelinks\" valign=\"top\"><center><a href=\"vote?id=33919823&amp;how=up&amp;goto=news\" id=\"up_33919823\"><div class=\"votearrow\" title=\"upvote\"></div></a></center></td><td class=\"title\"><span class=\"titleline\"><a href=\"https://scholar.archive.org/\">Internet Archive Scholar</a><span class=\"sitebit comhead\"> (<a href=\"from?site=archive.org\"><span class=\"sitestr\">archive.org</span></a>)</span></span></td></tr>"
      ]
     },
     "execution_count": 38,
     "metadata": {},
     "output_type": "execute_result"
    }
   ],
   "source": [
    "soup = BeautifulSoup(r.text, 'html.parser')\n",
    "links = soup.findAll('tr', class_='athing')\n",
    "links[0]"
   ]
  },
  {
   "cell_type": "code",
   "execution_count": 39,
   "id": "0e1b6992",
   "metadata": {},
   "outputs": [
    {
     "data": {
      "text/plain": [
       "bs4.element.Tag"
      ]
     },
     "execution_count": 39,
     "metadata": {},
     "output_type": "execute_result"
    }
   ],
   "source": [
    "type(links[0])"
   ]
  },
  {
   "cell_type": "code",
   "execution_count": 40,
   "id": "70216f68",
   "metadata": {},
   "outputs": [
    {
     "data": {
      "text/plain": [
       "'1'"
      ]
     },
     "execution_count": 40,
     "metadata": {},
     "output_type": "execute_result"
    }
   ],
   "source": [
    "link = links[0]\n",
    "link.find_all('td')[0].span.text.replace('.', '')"
   ]
  },
  {
   "cell_type": "code",
   "execution_count": 43,
   "id": "470a9a3a",
   "metadata": {},
   "outputs": [
    {
     "data": {
      "text/plain": [
       "bs4.element.Tag"
      ]
     },
     "execution_count": 43,
     "metadata": {},
     "output_type": "execute_result"
    }
   ],
   "source": [
    "type(link)"
   ]
  },
  {
   "cell_type": "code",
   "execution_count": 31,
   "id": "2f8f91e6",
   "metadata": {},
   "outputs": [
    {
     "name": "stdout",
     "output_type": "stream",
     "text": [
      "[{'id': '31474710', 'title': 'Useless Use of \"dd\" (2015)', 'url': 'https://www.vidarholen.net/contents/blog/?p=479', 'rank': 1}, {'id': '31475680', 'title': 'My experience as a Unit-18 Berkeley Lecturer', 'url': 'http://blog.pamelafox.org/2022/05/my-experience-as-unit-18-berkeley.html', 'rank': 2}, {'id': '31472997', 'title': '“What if it changes?”', 'url': 'https://chriskiehl.com/article/the-tyranny-of-what-if-it-changes', 'rank': 3}, {'id': '31475130', 'title': 'What’s in Which Python', 'url': 'https://nedbatchelder.com/text/which-py.html', 'rank': 4}, {'id': '31474062', 'title': 'Feather Wiki: app for creating personal non-linear notebooks, databases, wikis', 'url': 'https://feather.wiki/', 'rank': 5}, {'id': '31474506', 'title': 'Is This a Tank?', 'url': 'https://acoup.blog/2022/05/13/collections-ancient-tanks-chariots-scythed-chariots-and-carroballistae/', 'rank': 6}, {'id': '31475575', 'title': 'The Apple M1, ARM/x86 Linux Virtualization, and Boinc (2021)', 'url': 'https://www.sevarg.net/2021/01/09/arm-mac-mini-and-boinc/', 'rank': 7}, {'id': '31456867', 'title': 'Before Ships Used GPS, There Was the Fresnel Lens', 'url': 'https://spectrum.ieee.org/fresnel-lens-milestone', 'rank': 8}, {'id': '31470400', 'title': 'Grandpa’s Basement House', 'url': 'https://www.granolashotgun.com/granolashotguncom/hp5pmb0n95ut9hyeatewotgd2n1ebr', 'rank': 9}, {'id': '31473846', 'title': 'Blinkenlights: PC Binary Emulating Visualizer', 'url': 'https://justine.lol/blinkenlights/', 'rank': 10}, {'id': '31473369', 'title': 'Case Studies in USB-C Debugging (2020)', 'url': 'https://medium.com/@kolluru.nathan/case-studies-in-usb-c-debugging-93cc3e8bbc0c', 'rank': 11}, {'id': '31475420', 'title': 'A Chrome extension for bionic reading on any website', 'url': 'https://github.com/ansh/bionic-reading', 'rank': 12}, {'id': '31455322', 'title': 'The Vulnerable World Hypothesis [pdf] (2019)', 'url': 'https://www.nickbostrom.com/papers/vulnerable.pdf', 'rank': 13}, {'id': '31472716', 'title': \"Details on AMD's Quirky Chipset Solutions for AM5\", 'url': 'https://angstronomics.substack.com/p/site-launch-exclusive-all-the-juicy', 'rank': 14}, {'id': '31470928', 'title': 'Lofi.co – Relax and Focus', 'url': 'https://lofi.co/', 'rank': 15}, {'id': '31474078', 'title': 'Empirical Notes on Kissing', 'url': 'https://belkarx.github.io/posts/finished/Empirical%20Notes%20on%20Kissing.html', 'rank': 16}, {'id': '31449044', 'title': 'AutoAnimate  – Add motion to web apps with a single line of code', 'url': 'https://github.com/formkit/auto-animate', 'rank': 17}, {'id': '31475401', 'title': 'Goodbye smallpox vaccination, hello monkeypox (2010)', 'url': 'https://www.nationalgeographic.com/science/article/goodbye-smallpox-vaccination-hello-monkeypox', 'rank': 18}, {'id': '31457181', 'title': 'Interland: The Country in the Intersection', 'url': 'https://maximumprogress.substack.com/p/interland-the-country-in-the-intersection', 'rank': 19}, {'id': '31474810', 'title': 'STUNner: A Kubernetes ingress gateway for WebRTC', 'url': 'https://github.com/l7mp/stunner', 'rank': 20}, {'id': '31472093', 'title': 'Simple software things that are actually very complicated', 'url': 'https://www.construct.net/en/blogs/ashleys-blog-2/simple-software-things-1587', 'rank': 21}, {'id': '31471804', 'title': 'Programming with Nothing', 'url': 'https://tomstu.art/programming-with-nothing', 'rank': 22}, {'id': '31473632', 'title': 'MasterCard to launch biometric checkout tool for retailers', 'url': 'https://www.retaildive.com/news/mastercard-biometric-checkout-retailers/624056/', 'rank': 23}, {'id': '31471416', 'title': 'Current guidelines for sun exposure are unhealthy and unscientific – research (2019)', 'url': 'https://www.outsideonline.com/health/wellness/sunscreen-sun-exposure-skin-cancer-science/', 'rank': 24}, {'id': '31449837', 'title': 'Are Prompt-Based Models Clueless?', 'url': 'https://arxiv.org/abs/2205.09295', 'rank': 25}, {'id': '31470482', 'title': 'Constraint-based geometry (CAD) sketcher for Blender', 'url': 'https://github.com/hlorus/CAD_Sketcher', 'rank': 26}, {'id': '31468303', 'title': 'How This Ends', 'url': 'https://avc.com/2022/05/how-this-ends-2/', 'rank': 27}, {'id': '31448792', 'title': 'Intel plans immersion lab to chill its power-hungry chips', 'url': 'https://www.theregister.com/2022/05/19/intel_immersion_lab/', 'rank': 28}, {'id': '31469295', 'title': 'Faster CRC32 on the Apple M1', 'url': 'https://dougallj.wordpress.com/2022/05/22/faster-crc32-on-the-apple-m1/', 'rank': 29}, {'id': '31449368', 'title': 'SQLite may become foundational for digital progress', 'url': 'https://venturebeat.com/2022/05/20/why-sqlite-may-become-foundational-for-digital-progress/', 'rank': 30}]\n"
     ]
    }
   ],
   "source": [
    "\n",
    "formatted_links = []\n",
    "\n",
    "for link in links:\n",
    "    data = {\n",
    "        'id': link['id'],\n",
    "        'title': link.find_all('td')[2].a.text,\n",
    "        \"url\": link.find_all('td')[2].a['href'],\n",
    "        \"rank\": int(link.find_all('td')[0].span.text.replace('.', ''))\n",
    "    }\n",
    "    formatted_links.append(data)\n",
    "\n",
    "print(formatted_links)"
   ]
  },
  {
   "cell_type": "code",
   "execution_count": 33,
   "id": "4277001f",
   "metadata": {},
   "outputs": [
    {
     "data": {
      "text/html": [
       "<div>\n",
       "<style scoped>\n",
       "    .dataframe tbody tr th:only-of-type {\n",
       "        vertical-align: middle;\n",
       "    }\n",
       "\n",
       "    .dataframe tbody tr th {\n",
       "        vertical-align: top;\n",
       "    }\n",
       "\n",
       "    .dataframe thead th {\n",
       "        text-align: right;\n",
       "    }\n",
       "</style>\n",
       "<table border=\"1\" class=\"dataframe\">\n",
       "  <thead>\n",
       "    <tr style=\"text-align: right;\">\n",
       "      <th></th>\n",
       "      <th>id</th>\n",
       "      <th>title</th>\n",
       "      <th>url</th>\n",
       "      <th>rank</th>\n",
       "    </tr>\n",
       "  </thead>\n",
       "  <tbody>\n",
       "    <tr>\n",
       "      <th>0</th>\n",
       "      <td>31474710</td>\n",
       "      <td>Useless Use of \"dd\" (2015)</td>\n",
       "      <td>https://www.vidarholen.net/contents/blog/?p=479</td>\n",
       "      <td>1</td>\n",
       "    </tr>\n",
       "    <tr>\n",
       "      <th>1</th>\n",
       "      <td>31475680</td>\n",
       "      <td>My experience as a Unit-18 Berkeley Lecturer</td>\n",
       "      <td>http://blog.pamelafox.org/2022/05/my-experienc...</td>\n",
       "      <td>2</td>\n",
       "    </tr>\n",
       "    <tr>\n",
       "      <th>2</th>\n",
       "      <td>31472997</td>\n",
       "      <td>“What if it changes?”</td>\n",
       "      <td>https://chriskiehl.com/article/the-tyranny-of-...</td>\n",
       "      <td>3</td>\n",
       "    </tr>\n",
       "    <tr>\n",
       "      <th>3</th>\n",
       "      <td>31475130</td>\n",
       "      <td>What’s in Which Python</td>\n",
       "      <td>https://nedbatchelder.com/text/which-py.html</td>\n",
       "      <td>4</td>\n",
       "    </tr>\n",
       "    <tr>\n",
       "      <th>4</th>\n",
       "      <td>31474062</td>\n",
       "      <td>Feather Wiki: app for creating personal non-li...</td>\n",
       "      <td>https://feather.wiki/</td>\n",
       "      <td>5</td>\n",
       "    </tr>\n",
       "    <tr>\n",
       "      <th>5</th>\n",
       "      <td>31474506</td>\n",
       "      <td>Is This a Tank?</td>\n",
       "      <td>https://acoup.blog/2022/05/13/collections-anci...</td>\n",
       "      <td>6</td>\n",
       "    </tr>\n",
       "    <tr>\n",
       "      <th>6</th>\n",
       "      <td>31475575</td>\n",
       "      <td>The Apple M1, ARM/x86 Linux Virtualization, an...</td>\n",
       "      <td>https://www.sevarg.net/2021/01/09/arm-mac-mini...</td>\n",
       "      <td>7</td>\n",
       "    </tr>\n",
       "    <tr>\n",
       "      <th>7</th>\n",
       "      <td>31456867</td>\n",
       "      <td>Before Ships Used GPS, There Was the Fresnel Lens</td>\n",
       "      <td>https://spectrum.ieee.org/fresnel-lens-milestone</td>\n",
       "      <td>8</td>\n",
       "    </tr>\n",
       "    <tr>\n",
       "      <th>8</th>\n",
       "      <td>31470400</td>\n",
       "      <td>Grandpa’s Basement House</td>\n",
       "      <td>https://www.granolashotgun.com/granolashotgunc...</td>\n",
       "      <td>9</td>\n",
       "    </tr>\n",
       "    <tr>\n",
       "      <th>9</th>\n",
       "      <td>31473846</td>\n",
       "      <td>Blinkenlights: PC Binary Emulating Visualizer</td>\n",
       "      <td>https://justine.lol/blinkenlights/</td>\n",
       "      <td>10</td>\n",
       "    </tr>\n",
       "    <tr>\n",
       "      <th>10</th>\n",
       "      <td>31473369</td>\n",
       "      <td>Case Studies in USB-C Debugging (2020)</td>\n",
       "      <td>https://medium.com/@kolluru.nathan/case-studie...</td>\n",
       "      <td>11</td>\n",
       "    </tr>\n",
       "    <tr>\n",
       "      <th>11</th>\n",
       "      <td>31475420</td>\n",
       "      <td>A Chrome extension for bionic reading on any w...</td>\n",
       "      <td>https://github.com/ansh/bionic-reading</td>\n",
       "      <td>12</td>\n",
       "    </tr>\n",
       "    <tr>\n",
       "      <th>12</th>\n",
       "      <td>31455322</td>\n",
       "      <td>The Vulnerable World Hypothesis [pdf] (2019)</td>\n",
       "      <td>https://www.nickbostrom.com/papers/vulnerable.pdf</td>\n",
       "      <td>13</td>\n",
       "    </tr>\n",
       "    <tr>\n",
       "      <th>13</th>\n",
       "      <td>31472716</td>\n",
       "      <td>Details on AMD's Quirky Chipset Solutions for AM5</td>\n",
       "      <td>https://angstronomics.substack.com/p/site-laun...</td>\n",
       "      <td>14</td>\n",
       "    </tr>\n",
       "    <tr>\n",
       "      <th>14</th>\n",
       "      <td>31470928</td>\n",
       "      <td>Lofi.co – Relax and Focus</td>\n",
       "      <td>https://lofi.co/</td>\n",
       "      <td>15</td>\n",
       "    </tr>\n",
       "    <tr>\n",
       "      <th>15</th>\n",
       "      <td>31474078</td>\n",
       "      <td>Empirical Notes on Kissing</td>\n",
       "      <td>https://belkarx.github.io/posts/finished/Empir...</td>\n",
       "      <td>16</td>\n",
       "    </tr>\n",
       "    <tr>\n",
       "      <th>16</th>\n",
       "      <td>31449044</td>\n",
       "      <td>AutoAnimate  – Add motion to web apps with a s...</td>\n",
       "      <td>https://github.com/formkit/auto-animate</td>\n",
       "      <td>17</td>\n",
       "    </tr>\n",
       "    <tr>\n",
       "      <th>17</th>\n",
       "      <td>31475401</td>\n",
       "      <td>Goodbye smallpox vaccination, hello monkeypox ...</td>\n",
       "      <td>https://www.nationalgeographic.com/science/art...</td>\n",
       "      <td>18</td>\n",
       "    </tr>\n",
       "    <tr>\n",
       "      <th>18</th>\n",
       "      <td>31457181</td>\n",
       "      <td>Interland: The Country in the Intersection</td>\n",
       "      <td>https://maximumprogress.substack.com/p/interla...</td>\n",
       "      <td>19</td>\n",
       "    </tr>\n",
       "    <tr>\n",
       "      <th>19</th>\n",
       "      <td>31474810</td>\n",
       "      <td>STUNner: A Kubernetes ingress gateway for WebRTC</td>\n",
       "      <td>https://github.com/l7mp/stunner</td>\n",
       "      <td>20</td>\n",
       "    </tr>\n",
       "    <tr>\n",
       "      <th>20</th>\n",
       "      <td>31472093</td>\n",
       "      <td>Simple software things that are actually very ...</td>\n",
       "      <td>https://www.construct.net/en/blogs/ashleys-blo...</td>\n",
       "      <td>21</td>\n",
       "    </tr>\n",
       "    <tr>\n",
       "      <th>21</th>\n",
       "      <td>31471804</td>\n",
       "      <td>Programming with Nothing</td>\n",
       "      <td>https://tomstu.art/programming-with-nothing</td>\n",
       "      <td>22</td>\n",
       "    </tr>\n",
       "    <tr>\n",
       "      <th>22</th>\n",
       "      <td>31473632</td>\n",
       "      <td>MasterCard to launch biometric checkout tool f...</td>\n",
       "      <td>https://www.retaildive.com/news/mastercard-bio...</td>\n",
       "      <td>23</td>\n",
       "    </tr>\n",
       "    <tr>\n",
       "      <th>23</th>\n",
       "      <td>31471416</td>\n",
       "      <td>Current guidelines for sun exposure are unheal...</td>\n",
       "      <td>https://www.outsideonline.com/health/wellness/...</td>\n",
       "      <td>24</td>\n",
       "    </tr>\n",
       "    <tr>\n",
       "      <th>24</th>\n",
       "      <td>31449837</td>\n",
       "      <td>Are Prompt-Based Models Clueless?</td>\n",
       "      <td>https://arxiv.org/abs/2205.09295</td>\n",
       "      <td>25</td>\n",
       "    </tr>\n",
       "    <tr>\n",
       "      <th>25</th>\n",
       "      <td>31470482</td>\n",
       "      <td>Constraint-based geometry (CAD) sketcher for B...</td>\n",
       "      <td>https://github.com/hlorus/CAD_Sketcher</td>\n",
       "      <td>26</td>\n",
       "    </tr>\n",
       "    <tr>\n",
       "      <th>26</th>\n",
       "      <td>31468303</td>\n",
       "      <td>How This Ends</td>\n",
       "      <td>https://avc.com/2022/05/how-this-ends-2/</td>\n",
       "      <td>27</td>\n",
       "    </tr>\n",
       "    <tr>\n",
       "      <th>27</th>\n",
       "      <td>31448792</td>\n",
       "      <td>Intel plans immersion lab to chill its power-h...</td>\n",
       "      <td>https://www.theregister.com/2022/05/19/intel_i...</td>\n",
       "      <td>28</td>\n",
       "    </tr>\n",
       "    <tr>\n",
       "      <th>28</th>\n",
       "      <td>31469295</td>\n",
       "      <td>Faster CRC32 on the Apple M1</td>\n",
       "      <td>https://dougallj.wordpress.com/2022/05/22/fast...</td>\n",
       "      <td>29</td>\n",
       "    </tr>\n",
       "    <tr>\n",
       "      <th>29</th>\n",
       "      <td>31449368</td>\n",
       "      <td>SQLite may become foundational for digital pro...</td>\n",
       "      <td>https://venturebeat.com/2022/05/20/why-sqlite-...</td>\n",
       "      <td>30</td>\n",
       "    </tr>\n",
       "  </tbody>\n",
       "</table>\n",
       "</div>"
      ],
      "text/plain": [
       "          id                                              title  \\\n",
       "0   31474710                         Useless Use of \"dd\" (2015)   \n",
       "1   31475680       My experience as a Unit-18 Berkeley Lecturer   \n",
       "2   31472997                              “What if it changes?”   \n",
       "3   31475130                             What’s in Which Python   \n",
       "4   31474062  Feather Wiki: app for creating personal non-li...   \n",
       "5   31474506                                    Is This a Tank?   \n",
       "6   31475575  The Apple M1, ARM/x86 Linux Virtualization, an...   \n",
       "7   31456867  Before Ships Used GPS, There Was the Fresnel Lens   \n",
       "8   31470400                           Grandpa’s Basement House   \n",
       "9   31473846      Blinkenlights: PC Binary Emulating Visualizer   \n",
       "10  31473369             Case Studies in USB-C Debugging (2020)   \n",
       "11  31475420  A Chrome extension for bionic reading on any w...   \n",
       "12  31455322       The Vulnerable World Hypothesis [pdf] (2019)   \n",
       "13  31472716  Details on AMD's Quirky Chipset Solutions for AM5   \n",
       "14  31470928                          Lofi.co – Relax and Focus   \n",
       "15  31474078                         Empirical Notes on Kissing   \n",
       "16  31449044  AutoAnimate  – Add motion to web apps with a s...   \n",
       "17  31475401  Goodbye smallpox vaccination, hello monkeypox ...   \n",
       "18  31457181         Interland: The Country in the Intersection   \n",
       "19  31474810   STUNner: A Kubernetes ingress gateway for WebRTC   \n",
       "20  31472093  Simple software things that are actually very ...   \n",
       "21  31471804                           Programming with Nothing   \n",
       "22  31473632  MasterCard to launch biometric checkout tool f...   \n",
       "23  31471416  Current guidelines for sun exposure are unheal...   \n",
       "24  31449837                  Are Prompt-Based Models Clueless?   \n",
       "25  31470482  Constraint-based geometry (CAD) sketcher for B...   \n",
       "26  31468303                                      How This Ends   \n",
       "27  31448792  Intel plans immersion lab to chill its power-h...   \n",
       "28  31469295                       Faster CRC32 on the Apple M1   \n",
       "29  31449368  SQLite may become foundational for digital pro...   \n",
       "\n",
       "                                                  url  rank  \n",
       "0     https://www.vidarholen.net/contents/blog/?p=479     1  \n",
       "1   http://blog.pamelafox.org/2022/05/my-experienc...     2  \n",
       "2   https://chriskiehl.com/article/the-tyranny-of-...     3  \n",
       "3        https://nedbatchelder.com/text/which-py.html     4  \n",
       "4                               https://feather.wiki/     5  \n",
       "5   https://acoup.blog/2022/05/13/collections-anci...     6  \n",
       "6   https://www.sevarg.net/2021/01/09/arm-mac-mini...     7  \n",
       "7    https://spectrum.ieee.org/fresnel-lens-milestone     8  \n",
       "8   https://www.granolashotgun.com/granolashotgunc...     9  \n",
       "9                  https://justine.lol/blinkenlights/    10  \n",
       "10  https://medium.com/@kolluru.nathan/case-studie...    11  \n",
       "11             https://github.com/ansh/bionic-reading    12  \n",
       "12  https://www.nickbostrom.com/papers/vulnerable.pdf    13  \n",
       "13  https://angstronomics.substack.com/p/site-laun...    14  \n",
       "14                                   https://lofi.co/    15  \n",
       "15  https://belkarx.github.io/posts/finished/Empir...    16  \n",
       "16            https://github.com/formkit/auto-animate    17  \n",
       "17  https://www.nationalgeographic.com/science/art...    18  \n",
       "18  https://maximumprogress.substack.com/p/interla...    19  \n",
       "19                    https://github.com/l7mp/stunner    20  \n",
       "20  https://www.construct.net/en/blogs/ashleys-blo...    21  \n",
       "21        https://tomstu.art/programming-with-nothing    22  \n",
       "22  https://www.retaildive.com/news/mastercard-bio...    23  \n",
       "23  https://www.outsideonline.com/health/wellness/...    24  \n",
       "24                   https://arxiv.org/abs/2205.09295    25  \n",
       "25             https://github.com/hlorus/CAD_Sketcher    26  \n",
       "26           https://avc.com/2022/05/how-this-ends-2/    27  \n",
       "27  https://www.theregister.com/2022/05/19/intel_i...    28  \n",
       "28  https://dougallj.wordpress.com/2022/05/22/fast...    29  \n",
       "29  https://venturebeat.com/2022/05/20/why-sqlite-...    30  "
      ]
     },
     "execution_count": 33,
     "metadata": {},
     "output_type": "execute_result"
    }
   ],
   "source": [
    "import pandas as pd\n",
    "a = pd.DataFrame(formatted_links)\n",
    "a"
   ]
  },
  {
   "cell_type": "code",
   "execution_count": 23,
   "id": "124fe53a",
   "metadata": {},
   "outputs": [
    {
     "data": {
      "text/plain": [
       "'Vintage computer ads that show how far we’ve progressed, 1970-1990'"
      ]
     },
     "execution_count": 23,
     "metadata": {},
     "output_type": "execute_result"
    }
   ],
   "source": [
    "links[0].find_all('td')[2].a.text"
   ]
  },
  {
   "cell_type": "code",
   "execution_count": 24,
   "id": "2b536034",
   "metadata": {},
   "outputs": [
    {
     "data": {
      "text/plain": [
       "[<td align=\"right\" class=\"title\" valign=\"top\"><span class=\"rank\">1.</span></td>,\n",
       " <td class=\"votelinks\" valign=\"top\"><center><a href=\"vote?id=31457612&amp;how=up&amp;goto=news\" id=\"up_31457612\"><div class=\"votearrow\" title=\"upvote\"></div></a></center></td>,\n",
       " <td class=\"title\"><a class=\"titlelink\" href=\"https://rarehistoricalphotos.com/vintage-computer-ads/\">Vintage computer ads that show how far we’ve progressed, 1970-1990</a><span class=\"sitebit comhead\"> (<a href=\"from?site=rarehistoricalphotos.com\"><span class=\"sitestr\">rarehistoricalphotos.com</span></a>)</span></td>]"
      ]
     },
     "execution_count": 24,
     "metadata": {},
     "output_type": "execute_result"
    }
   ],
   "source": [
    "links[0].find_all('td')"
   ]
  },
  {
   "cell_type": "markdown",
   "id": "3a888ffc",
   "metadata": {},
   "source": [
    "Great, with only a couple of lines of Python code we have managed to load the site of Hacker News and get the details of all the posting"
   ]
  },
  {
   "cell_type": "code",
   "execution_count": 33,
   "id": "63ae4413",
   "metadata": {},
   "outputs": [
    {
     "name": "stdout",
     "output_type": "stream",
     "text": [
      "<html lang=\"en\" op=\"news\">\n",
      " <head>\n",
      "  <meta content=\"origin\" name=\"referrer\"/>\n",
      "  <meta content=\"width=device-width, initial-scale=1.0\" name=\"viewport\"/>\n",
      "  <link href=\"news.css?v1DKgiAnJbxahaAg6hb4\" rel=\"stylesheet\" type=\"text/\n"
     ]
    }
   ],
   "source": [
    "import urllib3\n",
    "from bs4 import BeautifulSoup\n",
    "\n",
    "# Fetch the html file\n",
    "r = requests.get('https://news.ycombinator.com')\n",
    "html_doc = r.text\n",
    "\n",
    "# Parse the html file\n",
    "soup = BeautifulSoup(r.text, 'html.parser')\n",
    "\n",
    "# Format the parsed html file\n",
    "strhtm = soup.prettify()\n",
    "\n",
    "# Print the first few characters\n",
    "print (strhtm[:225])"
   ]
  },
  {
   "cell_type": "code",
   "execution_count": 34,
   "id": "1967ff0d",
   "metadata": {},
   "outputs": [
    {
     "data": {
      "text/plain": [
       "'<html lang=\"en\" op=\"news\">\\n <head>\\n  <meta content=\"origin\" name=\"referrer\"/>\\n  <meta content=\"width=device-width, initial-scale=1.0\" name=\"viewport\"/>\\n  <link href=\"news.css?v1DKgiAnJbxahaAg6hb4\" rel=\"stylesheet\" type=\"text/css\"/>\\n  <link href=\"favicon.ico\" rel=\"shortcut icon\"/>\\n  <link href=\"rss\" rel=\"alternate\" title=\"RSS\" type=\"application/rss+xml\"/>\\n  <title>\\n   Hacker News\\n  </title>\\n </head>\\n <body>\\n  <center>\\n   <table bgcolor=\"#f6f6ef\" border=\"0\" cellpadding=\"0\" cellspacing=\"0\" id=\"hnmain\" width=\"85%\">\\n    <tr>\\n     <td bgcolor=\"#ff6600\">\\n      <table border=\"0\" cellpadding=\"0\" cellspacing=\"0\" style=\"padding:2px\" width=\"100%\">\\n       <tr>\\n        <td style=\"width:18px;padding-right:4px\">\\n         <a href=\"https://news.ycombinator.com\">\\n          <img height=\"18\" src=\"y18.gif\" style=\"border:1px white solid;\" width=\"18\"/>\\n         </a>\\n        </td>\\n        <td style=\"line-height:12pt; height:10px;\">\\n         <span class=\"pagetop\">\\n          <b class=\"hnname\">\\n           <a href=\"news\">\\n            Hacker News\\n           </a>\\n          </b>\\n          <a href=\"newest\">\\n           new\\n          </a>\\n          |\\n          <a href=\"front\">\\n           past\\n          </a>\\n          |\\n          <a href=\"newcomments\">\\n           comments\\n          </a>\\n          |\\n          <a href=\"ask\">\\n           ask\\n          </a>\\n          |\\n          <a href=\"show\">\\n           show\\n          </a>\\n          |\\n          <a href=\"jobs\">\\n           jobs\\n          </a>\\n          |\\n          <a href=\"submit\">\\n           submit\\n          </a>\\n         </span>\\n        </td>\\n        <td style=\"text-align:right;padding-right:4px;\">\\n         <span class=\"pagetop\">\\n          <a href=\"login?goto=news\">\\n           login\\n          </a>\\n         </span>\\n        </td>\\n       </tr>\\n      </table>\\n     </td>\\n    </tr>\\n    <tr id=\"pagespace\" style=\"height:10px\" title=\"\">\\n    </tr>\\n    <tr>\\n     <td>\\n      <table border=\"0\" cellpadding=\"0\" cellspacing=\"0\" class=\"itemlist\">\\n       <tr class=\"athing\" id=\"31459258\">\\n        <td align=\"right\" class=\"title\" valign=\"top\">\\n         <span class=\"rank\">\\n          1.\\n         </span>\\n        </td>\\n        <td class=\"votelinks\" valign=\"top\">\\n         <center>\\n          <a href=\"vote?id=31459258&amp;how=up&amp;goto=news\" id=\"up_31459258\">\\n           <div class=\"votearrow\" title=\"upvote\">\\n           </div>\\n          </a>\\n         </center>\\n        </td>\\n        <td class=\"title\">\\n         <a class=\"titlelink\" href=\"https://lwthiker.com/opensource/2022/05/21/firefox-flagged-suspicious.html\">\\n          Firefox appears to be flagged as suspicious by Cloudflare\\n         </a>\\n         <span class=\"sitebit comhead\">\\n          (\\n          <a href=\"from?site=lwthiker.com\">\\n           <span class=\"sitestr\">\\n            lwthiker.com\\n           </span>\\n          </a>\\n          )\\n         </span>\\n        </td>\\n       </tr>\\n       <tr>\\n        <td colspan=\"2\">\\n        </td>\\n        <td class=\"subtext\">\\n         <span class=\"score\" id=\"score_31459258\">\\n          67 points\\n         </span>\\n         by\\n         <a class=\"hnuser\" href=\"user?id=lwthiker\">\\n          lwthiker\\n         </a>\\n         <span class=\"age\" title=\"2022-05-21T16:26:29\">\\n          <a href=\"item?id=31459258\">\\n           1 hour ago\\n          </a>\\n         </span>\\n         <span id=\"unv_31459258\">\\n         </span>\\n         |\\n         <a href=\"hide?id=31459258&amp;goto=news\">\\n          hide\\n         </a>\\n         |\\n         <a href=\"item?id=31459258\">\\n          26\\xa0comments\\n         </a>\\n        </td>\\n       </tr>\\n       <tr class=\"spacer\" style=\"height:5px\">\\n       </tr>\\n       <tr class=\"athing\" id=\"31458635\">\\n        <td align=\"right\" class=\"title\" valign=\"top\">\\n         <span class=\"rank\">\\n          2.\\n         </span>\\n        </td>\\n        <td class=\"votelinks\" valign=\"top\">\\n         <center>\\n          <a href=\"vote?id=31458635&amp;how=up&amp;goto=news\" id=\"up_31458635\">\\n           <div class=\"votearrow\" title=\"upvote\">\\n           </div>\\n          </a>\\n         </center>\\n        </td>\\n        <td class=\"title\">\\n         <a class=\"titlelink\" href=\"https://xpdelta.weebly.com/\">\\n          Windows XP Delta Edition\\n         </a>\\n         <span class=\"sitebit comhead\">\\n          (\\n          <a href=\"from?site=xpdelta.weebly.com\">\\n           <span class=\"sitestr\">\\n            xpdelta.weebly.com\\n           </span>\\n          </a>\\n          )\\n         </span>\\n        </td>\\n       </tr>\\n       <tr>\\n        <td colspan=\"2\">\\n        </td>\\n        <td class=\"subtext\">\\n         <span class=\"score\" id=\"score_31458635\">\\n          89 points\\n         </span>\\n         by\\n         <a class=\"hnuser\" href=\"user?id=kosasbest\">\\n          kosasbest\\n         </a>\\n         <span class=\"age\" title=\"2022-05-21T15:18:56\">\\n          <a href=\"item?id=31458635\">\\n           2 hours ago\\n          </a>\\n         </span>\\n         <span id=\"unv_31458635\">\\n         </span>\\n         |\\n         <a href=\"hide?id=31458635&amp;goto=news\">\\n          hide\\n         </a>\\n         |\\n         <a href=\"item?id=31458635\">\\n          54\\xa0comments\\n         </a>\\n        </td>\\n       </tr>\\n       <tr class=\"spacer\" style=\"height:5px\">\\n       </tr>\\n       <tr class=\"athing\" id=\"31459316\">\\n        <td align=\"right\" class=\"title\" valign=\"top\">\\n         <span class=\"rank\">\\n          3.\\n         </span>\\n        </td>\\n        <td class=\"votelinks\" valign=\"top\">\\n         <center>\\n          <a href=\"vote?id=31459316&amp;how=up&amp;goto=news\" id=\"up_31459316\">\\n           <div class=\"votearrow\" title=\"upvote\">\\n           </div>\\n          </a>\\n         </center>\\n        </td>\\n        <td class=\"title\">\\n         <a class=\"titlelink\" href=\"https://nolanlawson.com/2022/05/21/the-balance-has-shifted-away-from-spas/\">\\n          The balance has shifted away from SPAs\\n         </a>\\n         <span class=\"sitebit comhead\">\\n          (\\n          <a href=\"from?site=nolanlawson.com\">\\n           <span class=\"sitestr\">\\n            nolanlawson.com\\n           </span>\\n          </a>\\n          )\\n         </span>\\n        </td>\\n       </tr>\\n       <tr>\\n        <td colspan=\"2\">\\n        </td>\\n        <td class=\"subtext\">\\n         <span class=\"score\" id=\"score_31459316\">\\n          53 points\\n         </span>\\n         by\\n         <a class=\"hnuser\" href=\"user?id=feross\">\\n          feross\\n         </a>\\n         <span class=\"age\" title=\"2022-05-21T16:32:51\">\\n          <a href=\"item?id=31459316\">\\n           58 minutes ago\\n          </a>\\n         </span>\\n         <span id=\"unv_31459316\">\\n         </span>\\n         |\\n         <a href=\"hide?id=31459316&amp;goto=news\">\\n          hide\\n         </a>\\n         |\\n         <a href=\"item?id=31459316\">\\n          64\\xa0comments\\n         </a>\\n        </td>\\n       </tr>\\n       <tr class=\"spacer\" style=\"height:5px\">\\n       </tr>\\n       <tr class=\"athing\" id=\"31458955\">\\n        <td align=\"right\" class=\"title\" valign=\"top\">\\n         <span class=\"rank\">\\n          4.\\n         </span>\\n        </td>\\n        <td class=\"votelinks\" valign=\"top\">\\n         <center>\\n          <a href=\"vote?id=31458955&amp;how=up&amp;goto=news\" id=\"up_31458955\">\\n           <div class=\"votearrow\" title=\"upvote\">\\n           </div>\\n          </a>\\n         </center>\\n        </td>\\n        <td class=\"title\">\\n         <a class=\"titlelink\" href=\"https://boingboing.net/2022/05/16/engineering-students-create-edible-adhesive-tape-to-keep-your-burrito-wrapped-tightly.html\">\\n          Engineering students create edible adhesive tape to keep burrito wrapped tightly\\n         </a>\\n         <span class=\"sitebit comhead\">\\n          (\\n          <a href=\"from?site=boingboing.net\">\\n           <span class=\"sitestr\">\\n            boingboing.net\\n           </span>\\n          </a>\\n          )\\n         </span>\\n        </td>\\n       </tr>\\n       <tr>\\n        <td colspan=\"2\">\\n        </td>\\n        <td class=\"subtext\">\\n         <span class=\"score\" id=\"score_31458955\">\\n          62 points\\n         </span>\\n         by\\n         <a class=\"hnuser\" href=\"user?id=zdw\">\\n          zdw\\n         </a>\\n         <span class=\"age\" title=\"2022-05-21T15:53:58\">\\n          <a href=\"item?id=31458955\">\\n           1 hour ago\\n          </a>\\n         </span>\\n         <span id=\"unv_31458955\">\\n         </span>\\n         |\\n         <a href=\"hide?id=31458955&amp;goto=news\">\\n          hide\\n         </a>\\n         |\\n         <a href=\"item?id=31458955\">\\n          54\\xa0comments\\n         </a>\\n        </td>\\n       </tr>\\n       <tr class=\"spacer\" style=\"height:5px\">\\n       </tr>\\n       <tr class=\"athing\" id=\"31455968\">\\n        <td align=\"right\" class=\"title\" valign=\"top\">\\n         <span class=\"rank\">\\n          5.\\n         </span>\\n        </td>\\n        <td class=\"votelinks\" valign=\"top\">\\n         <center>\\n          <a href=\"vote?id=31455968&amp;how=up&amp;goto=news\" id=\"up_31455968\">\\n           <div class=\"votearrow\" title=\"upvote\">\\n           </div>\\n          </a>\\n         </center>\\n        </td>\\n        <td class=\"title\">\\n         <a class=\"titlelink\" href=\"https://lock.cmpxchg8b.com/linux123.html\">\\n          Lotus 1-2-3 For Linux\\n         </a>\\n         <span class=\"sitebit comhead\">\\n          (\\n          <a href=\"from?site=cmpxchg8b.com\">\\n           <span class=\"sitestr\">\\n            cmpxchg8b.com\\n           </span>\\n          </a>\\n          )\\n         </span>\\n        </td>\\n       </tr>\\n       <tr>\\n        <td colspan=\"2\">\\n        </td>\\n        <td class=\"subtext\">\\n         <span class=\"score\" id=\"score_31455968\">\\n          513 points\\n         </span>\\n         by\\n         <a class=\"hnuser\" href=\"user?id=taviso\">\\n          taviso\\n         </a>\\n         <span class=\"age\" title=\"2022-05-21T07:22:21\">\\n          <a href=\"item?id=31455968\">\\n           10 hours ago\\n          </a>\\n         </span>\\n         <span id=\"unv_31455968\">\\n         </span>\\n         |\\n         <a href=\"hide?id=31455968&amp;goto=news\">\\n          hide\\n         </a>\\n         |\\n         <a href=\"item?id=31455968\">\\n          44\\xa0comments\\n         </a>\\n        </td>\\n       </tr>\\n       <tr class=\"spacer\" style=\"height:5px\">\\n       </tr>\\n       <tr class=\"athing\" id=\"31456918\">\\n        <td align=\"right\" class=\"title\" valign=\"top\">\\n         <span class=\"rank\">\\n          6.\\n         </span>\\n        </td>\\n        <td class=\"votelinks\" valign=\"top\">\\n         <center>\\n          <a href=\"vote?id=31456918&amp;how=up&amp;goto=news\" id=\"up_31456918\">\\n           <div class=\"votearrow\" title=\"upvote\">\\n           </div>\\n          </a>\\n         </center>\\n        </td>\\n        <td class=\"title\">\\n         <a class=\"titlelink\" href=\"https://github.com/hng/tech-coops\">\\n          List of Worker-Owned Tech Cooperatives Worldwide\\n         </a>\\n         <span class=\"sitebit comhead\">\\n          (\\n          <a href=\"from?site=github.com/hng\">\\n           <span class=\"sitestr\">\\n            github.com/hng\\n           </span>\\n          </a>\\n          )\\n         </span>\\n        </td>\\n       </tr>\\n       <tr>\\n        <td colspan=\"2\">\\n        </td>\\n        <td class=\"subtext\">\\n         <span class=\"score\" id=\"score_31456918\">\\n          208 points\\n         </span>\\n         by\\n         <a class=\"hnuser\" href=\"user?id=cheshire_cat\">\\n          cheshire_cat\\n         </a>\\n         <span class=\"age\" title=\"2022-05-21T11:17:24\">\\n          <a href=\"item?id=31456918\">\\n           6 hours ago\\n          </a>\\n         </span>\\n         <span id=\"unv_31456918\">\\n         </span>\\n         |\\n         <a href=\"hide?id=31456918&amp;goto=news\">\\n          hide\\n         </a>\\n         |\\n         <a href=\"item?id=31456918\">\\n          66\\xa0comments\\n         </a>\\n        </td>\\n       </tr>\\n       <tr class=\"spacer\" style=\"height:5px\">\\n       </tr>\\n       <tr class=\"athing\" id=\"31459590\">\\n        <td align=\"right\" class=\"title\" valign=\"top\">\\n         <span class=\"rank\">\\n          7.\\n         </span>\\n        </td>\\n        <td>\\n        </td>\\n        <td class=\"title\">\\n         <a class=\"titlelink\" href=\"https://www.dover.com/open-roles/software-engineer\" rel=\"nofollow\">\\n          Dover (YC S19) is (still) hiring\\n         </a>\\n         <span class=\"sitebit comhead\">\\n          (\\n          <a href=\"from?site=dover.com\">\\n           <span class=\"sitestr\">\\n            dover.com\\n           </span>\\n          </a>\\n          )\\n         </span>\\n        </td>\\n       </tr>\\n       <tr>\\n        <td colspan=\"2\">\\n        </td>\\n        <td class=\"subtext\">\\n         <span class=\"age\" title=\"2022-05-21T17:00:34\">\\n          <a href=\"item?id=31459590\">\\n           30 minutes ago\\n          </a>\\n         </span>\\n         |\\n         <a href=\"hide?id=31459590&amp;goto=news\">\\n          hide\\n         </a>\\n        </td>\\n       </tr>\\n       <tr class=\"spacer\" style=\"height:5px\">\\n       </tr>\\n       <tr class=\"athing\" id=\"31456007\">\\n        <td align=\"right\" class=\"title\" valign=\"top\">\\n         <span class=\"rank\">\\n          8.\\n         </span>\\n        </td>\\n        <td class=\"votelinks\" valign=\"top\">\\n         <center>\\n          <a href=\"vote?id=31456007&amp;how=up&amp;goto=news\" id=\"up_31456007\">\\n           <div class=\"votearrow\" title=\"upvote\">\\n           </div>\\n          </a>\\n         </center>\\n        </td>\\n        <td class=\"title\">\\n         <a class=\"titlelink\" href=\"https://rustdesk.com/\">\\n          Rustdesk – Remote desktop software, an open source TeamViewer alternative\\n         </a>\\n         <span class=\"sitebit comhead\">\\n          (\\n          <a href=\"from?site=rustdesk.com\">\\n           <span class=\"sitestr\">\\n            rustdesk.com\\n           </span>\\n          </a>\\n          )\\n         </span>\\n        </td>\\n       </tr>\\n       <tr>\\n        <td colspan=\"2\">\\n        </td>\\n        <td class=\"subtext\">\\n         <span class=\"score\" id=\"score_31456007\">\\n          298 points\\n         </span>\\n         by\\n         <a class=\"hnuser\" href=\"user?id=yarapavan\">\\n          yarapavan\\n         </a>\\n         <span class=\"age\" title=\"2022-05-21T07:32:06\">\\n          <a href=\"item?id=31456007\">\\n           9 hours ago\\n          </a>\\n         </span>\\n         <span id=\"unv_31456007\">\\n         </span>\\n         |\\n         <a href=\"hide?id=31456007&amp;goto=news\">\\n          hide\\n         </a>\\n         |\\n         <a href=\"item?id=31456007\">\\n          77\\xa0comments\\n         </a>\\n        </td>\\n       </tr>\\n       <tr class=\"spacer\" style=\"height:5px\">\\n       </tr>\\n       <tr class=\"athing\" id=\"31457612\">\\n        <td align=\"right\" class=\"title\" valign=\"top\">\\n         <span class=\"rank\">\\n          9.\\n         </span>\\n        </td>\\n        <td class=\"votelinks\" valign=\"top\">\\n         <center>\\n          <a href=\"vote?id=31457612&amp;how=up&amp;goto=news\" id=\"up_31457612\">\\n           <div class=\"votearrow\" title=\"upvote\">\\n           </div>\\n          </a>\\n         </center>\\n        </td>\\n        <td class=\"title\">\\n         <a class=\"titlelink\" href=\"https://rarehistoricalphotos.com/vintage-computer-ads/\">\\n          Vintage computer ads that show how far we’ve progressed, 1970-1990\\n         </a>\\n         <span class=\"sitebit comhead\">\\n          (\\n          <a href=\"from?site=rarehistoricalphotos.com\">\\n           <span class=\"sitestr\">\\n            rarehistoricalphotos.com\\n           </span>\\n          </a>\\n          )\\n         </span>\\n        </td>\\n       </tr>\\n       <tr>\\n        <td colspan=\"2\">\\n        </td>\\n        <td class=\"subtext\">\\n         <span class=\"score\" id=\"score_31457612\">\\n          103 points\\n         </span>\\n         by\\n         <a class=\"hnuser\" href=\"user?id=davesailer\">\\n          davesailer\\n         </a>\\n         <span class=\"age\" title=\"2022-05-21T13:17:41\">\\n          <a href=\"item?id=31457612\">\\n           3 hours ago\\n          </a>\\n         </span>\\n         <span id=\"unv_31457612\">\\n         </span>\\n         |\\n         <a href=\"hide?id=31457612&amp;goto=news\">\\n          hide\\n         </a>\\n         |\\n         <a href=\"item?id=31457612\">\\n          99\\xa0comments\\n         </a>\\n        </td>\\n       </tr>\\n       <tr class=\"spacer\" style=\"height:5px\">\\n       </tr>\\n       <tr class=\"athing\" id=\"31450597\">\\n        <td align=\"right\" class=\"title\" valign=\"top\">\\n         <span class=\"rank\">\\n          10.\\n         </span>\\n        </td>\\n        <td class=\"votelinks\" valign=\"top\">\\n         <center>\\n          <a href=\"vote?id=31450597&amp;how=up&amp;goto=news\" id=\"up_31450597\">\\n           <div class=\"votearrow\" title=\"upvote\">\\n           </div>\\n          </a>\\n         </center>\\n        </td>\\n        <td class=\"title\">\\n         <a class=\"titlelink\" href=\"https://nschloe.github.io/2022/05/20/math-on-github.html\">\\n          Math on GitHub: The Good, the Bad and the Ugly\\n         </a>\\n         <span class=\"sitebit comhead\">\\n          (\\n          <a href=\"from?site=nschloe.github.io\">\\n           <span class=\"sitestr\">\\n            nschloe.github.io\\n           </span>\\n          </a>\\n          )\\n         </span>\\n        </td>\\n       </tr>\\n       <tr>\\n        <td colspan=\"2\">\\n        </td>\\n        <td class=\"subtext\">\\n         <span class=\"score\" id=\"score_31450597\">\\n          147 points\\n         </span>\\n         by\\n         <a class=\"hnuser\" href=\"user?id=s1291\">\\n          s1291\\n         </a>\\n         <span class=\"age\" title=\"2022-05-20T17:56:19\">\\n          <a href=\"item?id=31450597\">\\n           7 hours ago\\n          </a>\\n         </span>\\n         <span id=\"unv_31450597\">\\n         </span>\\n         |\\n         <a href=\"hide?id=31450597&amp;goto=news\">\\n          hide\\n         </a>\\n         |\\n         <a href=\"item?id=31450597\">\\n          33\\xa0comments\\n         </a>\\n        </td>\\n       </tr>\\n       <tr class=\"spacer\" style=\"height:5px\">\\n       </tr>\\n       <tr class=\"athing\" id=\"31459103\">\\n        <td align=\"right\" class=\"title\" valign=\"top\">\\n         <span class=\"rank\">\\n          11.\\n         </span>\\n        </td>\\n        <td class=\"votelinks\" valign=\"top\">\\n         <center>\\n          <a href=\"vote?id=31459103&amp;how=up&amp;goto=news\" id=\"up_31459103\">\\n           <div class=\"votearrow\" title=\"upvote\">\\n           </div>\\n          </a>\\n         </center>\\n        </td>\\n        <td class=\"title\">\\n         <a class=\"titlelink\" href=\"https://daily.jstor.org/what-happened-to-tagging/\">\\n          What Happened to Tagging? (2019)\\n         </a>\\n         <span class=\"sitebit comhead\">\\n          (\\n          <a href=\"from?site=jstor.org\">\\n           <span class=\"sitestr\">\\n            jstor.org\\n           </span>\\n          </a>\\n          )\\n         </span>\\n        </td>\\n       </tr>\\n       <tr>\\n        <td colspan=\"2\">\\n        </td>\\n        <td class=\"subtext\">\\n         <span class=\"score\" id=\"score_31459103\">\\n          14 points\\n         </span>\\n         by\\n         <a class=\"hnuser\" href=\"user?id=Tomte\">\\n          Tomte\\n         </a>\\n         <span class=\"age\" title=\"2022-05-21T16:09:41\">\\n          <a href=\"item?id=31459103\">\\n           1 hour ago\\n          </a>\\n         </span>\\n         <span id=\"unv_31459103\">\\n         </span>\\n         |\\n         <a href=\"hide?id=31459103&amp;goto=news\">\\n          hide\\n         </a>\\n         |\\n         <a href=\"item?id=31459103\">\\n          10\\xa0comments\\n         </a>\\n        </td>\\n       </tr>\\n       <tr class=\"spacer\" style=\"height:5px\">\\n       </tr>\\n       <tr class=\"athing\" id=\"31447080\">\\n        <td align=\"right\" class=\"title\" valign=\"top\">\\n         <span class=\"rank\">\\n          12.\\n         </span>\\n        </td>\\n        <td class=\"votelinks\" valign=\"top\">\\n         <center>\\n          <a href=\"vote?id=31447080&amp;how=up&amp;goto=news\" id=\"up_31447080\">\\n           <div class=\"votearrow\" title=\"upvote\">\\n           </div>\\n          </a>\\n         </center>\\n        </td>\\n        <td class=\"title\">\\n         <a class=\"titlelink\" href=\"https://consulting.drmaciver.com/code-review-quick-fixes/\">\\n          Quick fixes to your code review workflow\\n         </a>\\n         <span class=\"sitebit comhead\">\\n          (\\n          <a href=\"from?site=drmaciver.com\">\\n           <span class=\"sitestr\">\\n            drmaciver.com\\n           </span>\\n          </a>\\n          )\\n         </span>\\n        </td>\\n       </tr>\\n       <tr>\\n        <td colspan=\"2\">\\n        </td>\\n        <td class=\"subtext\">\\n         <span class=\"score\" id=\"score_31447080\">\\n          36 points\\n         </span>\\n         by\\n         <a class=\"hnuser\" href=\"user?id=hyperpape\">\\n          hyperpape\\n         </a>\\n         <span class=\"age\" title=\"2022-05-20T13:28:57\">\\n          <a href=\"item?id=31447080\">\\n           3 hours ago\\n          </a>\\n         </span>\\n         <span id=\"unv_31447080\">\\n         </span>\\n         |\\n         <a href=\"hide?id=31447080&amp;goto=news\">\\n          hide\\n         </a>\\n         |\\n         <a href=\"item?id=31447080\">\\n          17\\xa0comments\\n         </a>\\n        </td>\\n       </tr>\\n       <tr class=\"spacer\" style=\"height:5px\">\\n       </tr>\\n       <tr class=\"athing\" id=\"31448024\">\\n        <td align=\"right\" class=\"title\" valign=\"top\">\\n         <span class=\"rank\">\\n          13.\\n         </span>\\n        </td>\\n        <td class=\"votelinks\" valign=\"top\">\\n         <center>\\n          <a href=\"vote?id=31448024&amp;how=up&amp;goto=news\" id=\"up_31448024\">\\n           <div class=\"votearrow\" title=\"upvote\">\\n           </div>\\n          </a>\\n         </center>\\n        </td>\\n        <td class=\"title\">\\n         <a class=\"titlelink\" href=\"https://thisgoke.medium.com/analysing-data-in-web3-with-sql-6c205fff6364\">\\n          Analysing Data in Web3 with SQL\\n         </a>\\n         <span class=\"sitebit comhead\">\\n          (\\n          <a href=\"from?site=thisgoke.medium.com\">\\n           <span class=\"sitestr\">\\n            thisgoke.medium.com\\n           </span>\\n          </a>\\n          )\\n         </span>\\n        </td>\\n       </tr>\\n       <tr>\\n        <td colspan=\"2\">\\n        </td>\\n        <td class=\"subtext\">\\n         <span class=\"score\" id=\"score_31448024\">\\n          23 points\\n         </span>\\n         by\\n         <a class=\"hnuser\" href=\"user?id=webmaven\">\\n          webmaven\\n         </a>\\n         <span class=\"age\" title=\"2022-05-20T14:36:35\">\\n          <a href=\"item?id=31448024\">\\n           2 hours ago\\n          </a>\\n         </span>\\n         <span id=\"unv_31448024\">\\n         </span>\\n         |\\n         <a href=\"hide?id=31448024&amp;goto=news\">\\n          hide\\n         </a>\\n         |\\n         <a href=\"item?id=31448024\">\\n          2\\xa0comments\\n         </a>\\n        </td>\\n       </tr>\\n       <tr class=\"spacer\" style=\"height:5px\">\\n       </tr>\\n       <tr class=\"athing\" id=\"31459012\">\\n        <td align=\"right\" class=\"title\" valign=\"top\">\\n         <span class=\"rank\">\\n          14.\\n         </span>\\n        </td>\\n        <td class=\"votelinks\" valign=\"top\">\\n         <center>\\n          <a href=\"vote?id=31459012&amp;how=up&amp;goto=news\" id=\"up_31459012\">\\n           <div class=\"votearrow\" title=\"upvote\">\\n           </div>\\n          </a>\\n         </center>\\n        </td>\\n        <td class=\"title\">\\n         <a class=\"titlelink\" href=\"https://twitter.com/MorePerfectUS/status/1527661935054962688\">\\n          .01% of Bitcoin holders hold 27% of all Bitcoin\\n         </a>\\n         <span class=\"sitebit comhead\">\\n          (\\n          <a href=\"from?site=twitter.com/moreperfectus\">\\n           <span class=\"sitestr\">\\n            twitter.com/moreperfectus\\n           </span>\\n          </a>\\n          )\\n         </span>\\n        </td>\\n       </tr>\\n       <tr>\\n        <td colspan=\"2\">\\n        </td>\\n        <td class=\"subtext\">\\n         <span class=\"score\" id=\"score_31459012\">\\n          79 points\\n         </span>\\n         by\\n         <a class=\"hnuser\" href=\"user?id=croes\">\\n          croes\\n         </a>\\n         <span class=\"age\" title=\"2022-05-21T16:00:25\">\\n          <a href=\"item?id=31459012\">\\n           1 hour ago\\n          </a>\\n         </span>\\n         <span id=\"unv_31459012\">\\n         </span>\\n         |\\n         <a href=\"hide?id=31459012&amp;goto=news\">\\n          hide\\n         </a>\\n         |\\n         <a href=\"item?id=31459012\">\\n          47\\xa0comments\\n         </a>\\n        </td>\\n       </tr>\\n       <tr class=\"spacer\" style=\"height:5px\">\\n       </tr>\\n       <tr class=\"athing\" id=\"31459044\">\\n        <td align=\"right\" class=\"title\" valign=\"top\">\\n         <span class=\"rank\">\\n          15.\\n         </span>\\n        </td>\\n        <td class=\"votelinks\" valign=\"top\">\\n         <center>\\n          <a href=\"vote?id=31459044&amp;how=up&amp;goto=news\" id=\"up_31459044\">\\n           <div class=\"votearrow\" title=\"upvote\">\\n           </div>\\n          </a>\\n         </center>\\n        </td>\\n        <td class=\"title\">\\n         <a class=\"titlelink\" href=\"https://specbranch.com/posts/teach-bridge/\">\\n          Teach your Kids Bridge, not Poker\\n         </a>\\n         <span class=\"sitebit comhead\">\\n          (\\n          <a href=\"from?site=specbranch.com\">\\n           <span class=\"sitestr\">\\n            specbranch.com\\n           </span>\\n          </a>\\n          )\\n         </span>\\n        </td>\\n       </tr>\\n       <tr>\\n        <td colspan=\"2\">\\n        </td>\\n        <td class=\"subtext\">\\n         <span class=\"score\" id=\"score_31459044\">\\n          20 points\\n         </span>\\n         by\\n         <a class=\"hnuser\" href=\"user?id=pclmulqdq\">\\n          pclmulqdq\\n         </a>\\n         <span class=\"age\" title=\"2022-05-21T16:03:25\">\\n          <a href=\"item?id=31459044\">\\n           1 hour ago\\n          </a>\\n         </span>\\n         <span id=\"unv_31459044\">\\n         </span>\\n         |\\n         <a href=\"hide?id=31459044&amp;goto=news\">\\n          hide\\n         </a>\\n         |\\n         <a href=\"item?id=31459044\">\\n          9\\xa0comments\\n         </a>\\n        </td>\\n       </tr>\\n       <tr class=\"spacer\" style=\"height:5px\">\\n       </tr>\\n       <tr class=\"athing\" id=\"31456284\">\\n        <td align=\"right\" class=\"title\" valign=\"top\">\\n         <span class=\"rank\">\\n          16.\\n         </span>\\n        </td>\\n        <td class=\"votelinks\" valign=\"top\">\\n         <center>\\n          <a href=\"vote?id=31456284&amp;how=up&amp;goto=news\" id=\"up_31456284\">\\n           <div class=\"votearrow\" title=\"upvote\">\\n           </div>\\n          </a>\\n         </center>\\n        </td>\\n        <td class=\"title\">\\n         <a class=\"titlelink\" href=\"https://blog.samaltman.com/how-to-be-successful\">\\n          How to Be Successful (2019)\\n         </a>\\n         <span class=\"sitebit comhead\">\\n          (\\n          <a href=\"from?site=samaltman.com\">\\n           <span class=\"sitestr\">\\n            samaltman.com\\n           </span>\\n          </a>\\n          )\\n         </span>\\n        </td>\\n       </tr>\\n       <tr>\\n        <td colspan=\"2\">\\n        </td>\\n        <td class=\"subtext\">\\n         <span class=\"score\" id=\"score_31456284\">\\n          168 points\\n         </span>\\n         by\\n         <a class=\"hnuser\" href=\"user?id=Brajeshwar\">\\n          Brajeshwar\\n         </a>\\n         <span class=\"age\" title=\"2022-05-21T08:39:58\">\\n          <a href=\"item?id=31456284\">\\n           8 hours ago\\n          </a>\\n         </span>\\n         <span id=\"unv_31456284\">\\n         </span>\\n         |\\n         <a href=\"hide?id=31456284&amp;goto=news\">\\n          hide\\n         </a>\\n         |\\n         <a href=\"item?id=31456284\">\\n          120\\xa0comments\\n         </a>\\n        </td>\\n       </tr>\\n       <tr class=\"spacer\" style=\"height:5px\">\\n       </tr>\\n       <tr class=\"athing\" id=\"31455275\">\\n        <td align=\"right\" class=\"title\" valign=\"top\">\\n         <span class=\"rank\">\\n          17.\\n         </span>\\n        </td>\\n        <td class=\"votelinks\" valign=\"top\">\\n         <center>\\n          <a href=\"vote?id=31455275&amp;how=up&amp;goto=news\" id=\"up_31455275\">\\n           <div class=\"votearrow\" title=\"upvote\">\\n           </div>\\n          </a>\\n         </center>\\n        </td>\\n        <td class=\"title\">\\n         <a class=\"titlelink\" href=\"https://goto10.substack.com/p/800xl-inside\">\\n          The Atari 800XL\\n         </a>\\n         <span class=\"sitebit comhead\">\\n          (\\n          <a href=\"from?site=goto10.substack.com\">\\n           <span class=\"sitestr\">\\n            goto10.substack.com\\n           </span>\\n          </a>\\n          )\\n         </span>\\n        </td>\\n       </tr>\\n       <tr>\\n        <td colspan=\"2\">\\n        </td>\\n        <td class=\"subtext\">\\n         <span class=\"score\" id=\"score_31455275\">\\n          22 points\\n         </span>\\n         by\\n         <a class=\"hnuser\" href=\"user?id=jdkee\">\\n          jdkee\\n         </a>\\n         <span class=\"age\" title=\"2022-05-21T04:40:09\">\\n          <a href=\"item?id=31455275\">\\n           4 hours ago\\n          </a>\\n         </span>\\n         <span id=\"unv_31455275\">\\n         </span>\\n         |\\n         <a href=\"hide?id=31455275&amp;goto=news\">\\n          hide\\n         </a>\\n         |\\n         <a href=\"item?id=31455275\">\\n          7\\xa0comments\\n         </a>\\n        </td>\\n       </tr>\\n       <tr class=\"spacer\" style=\"height:5px\">\\n       </tr>\\n       <tr class=\"athing\" id=\"31456763\">\\n        <td align=\"right\" class=\"title\" valign=\"top\">\\n         <span class=\"rank\">\\n          18.\\n         </span>\\n        </td>\\n        <td class=\"votelinks\" valign=\"top\">\\n         <center>\\n          <a href=\"vote?id=31456763&amp;how=up&amp;goto=news\" id=\"up_31456763\">\\n           <div class=\"votearrow\" title=\"upvote\">\\n           </div>\\n          </a>\\n         </center>\\n        </td>\\n        <td class=\"title\">\\n         <a class=\"titlelink\" href=\"https://www.theverge.com/2022/5/21/23079058/apple-self-service-iphone-repair-kit-hands-on\">\\n          Apple Shipped Me a 79-Pound iPhone Repair Kit to Fix a 1.1-Ounce Battery\\n         </a>\\n         <span class=\"sitebit comhead\">\\n          (\\n          <a href=\"from?site=theverge.com\">\\n           <span class=\"sitestr\">\\n            theverge.com\\n           </span>\\n          </a>\\n          )\\n         </span>\\n        </td>\\n       </tr>\\n       <tr>\\n        <td colspan=\"2\">\\n        </td>\\n        <td class=\"subtext\">\\n         <span class=\"score\" id=\"score_31456763\">\\n          357 points\\n         </span>\\n         by\\n         <a class=\"hnuser\" href=\"user?id=kryptiskt\">\\n          kryptiskt\\n         </a>\\n         <span class=\"age\" title=\"2022-05-21T10:40:50\">\\n          <a href=\"item?id=31456763\">\\n           6 hours ago\\n          </a>\\n         </span>\\n         <span id=\"unv_31456763\">\\n         </span>\\n         |\\n         <a href=\"hide?id=31456763&amp;goto=news\">\\n          hide\\n         </a>\\n         |\\n         <a href=\"item?id=31456763\">\\n          372\\xa0comments\\n         </a>\\n        </td>\\n       </tr>\\n       <tr class=\"spacer\" style=\"height:5px\">\\n       </tr>\\n       <tr class=\"athing\" id=\"31456550\">\\n        <td align=\"right\" class=\"title\" valign=\"top\">\\n         <span class=\"rank\">\\n          19.\\n         </span>\\n        </td>\\n        <td class=\"votelinks\" valign=\"top\">\\n         <center>\\n          <a href=\"vote?id=31456550&amp;how=up&amp;goto=news\" id=\"up_31456550\">\\n           <div class=\"votearrow\" title=\"upvote\">\\n           </div>\\n          </a>\\n         </center>\\n        </td>\\n        <td class=\"title\">\\n         <a class=\"titlelink\" href=\"https://blog.sigplan.org/2022/05/19/language-design-in-the-real-world/\">\\n          Language Design in the Real World\\n         </a>\\n         <span class=\"sitebit comhead\">\\n          (\\n          <a href=\"from?site=sigplan.org\">\\n           <span class=\"sitestr\">\\n            sigplan.org\\n           </span>\\n          </a>\\n          )\\n         </span>\\n        </td>\\n       </tr>\\n       <tr>\\n        <td colspan=\"2\">\\n        </td>\\n        <td class=\"subtext\">\\n         <span class=\"score\" id=\"score_31456550\">\\n          56 points\\n         </span>\\n         by\\n         <a class=\"hnuser\" href=\"user?id=yeputons\">\\n          yeputons\\n         </a>\\n         <span class=\"age\" title=\"2022-05-21T09:41:28\">\\n          <a href=\"item?id=31456550\">\\n           7 hours ago\\n          </a>\\n         </span>\\n         <span id=\"unv_31456550\">\\n         </span>\\n         |\\n         <a href=\"hide?id=31456550&amp;goto=news\">\\n          hide\\n         </a>\\n         |\\n         <a href=\"item?id=31456550\">\\n          3\\xa0comments\\n         </a>\\n        </td>\\n       </tr>\\n       <tr class=\"spacer\" style=\"height:5px\">\\n       </tr>\\n       <tr class=\"athing\" id=\"31457057\">\\n        <td align=\"right\" class=\"title\" valign=\"top\">\\n         <span class=\"rank\">\\n          20.\\n         </span>\\n        </td>\\n        <td class=\"votelinks\" valign=\"top\">\\n         <center>\\n          <a href=\"vote?id=31457057&amp;how=up&amp;goto=news\" id=\"up_31457057\">\\n           <div class=\"votearrow\" title=\"upvote\">\\n           </div>\\n          </a>\\n         </center>\\n        </td>\\n        <td class=\"title\">\\n         <a class=\"titlelink\" href=\"https://ancientbeat.substack.com/p/-ancient-beat-12\">\\n          This week\\'s archaeological news: Underground stone circles and ancient trade\\n         </a>\\n         <span class=\"sitebit comhead\">\\n          (\\n          <a href=\"from?site=ancientbeat.substack.com\">\\n           <span class=\"sitestr\">\\n            ancientbeat.substack.com\\n           </span>\\n          </a>\\n          )\\n         </span>\\n        </td>\\n       </tr>\\n       <tr>\\n        <td colspan=\"2\">\\n        </td>\\n        <td class=\"subtext\">\\n         <span class=\"score\" id=\"score_31457057\">\\n          38 points\\n         </span>\\n         by\\n         <a class=\"hnuser\" href=\"user?id=jamesofthedrum\">\\n          jamesofthedrum\\n         </a>\\n         <span class=\"age\" title=\"2022-05-21T11:46:41\">\\n          <a href=\"item?id=31457057\">\\n           5 hours ago\\n          </a>\\n         </span>\\n         <span id=\"unv_31457057\">\\n         </span>\\n         |\\n         <a href=\"hide?id=31457057&amp;goto=news\">\\n          hide\\n         </a>\\n         |\\n         <a href=\"item?id=31457057\">\\n          18\\xa0comments\\n         </a>\\n        </td>\\n       </tr>\\n       <tr class=\"spacer\" style=\"height:5px\">\\n       </tr>\\n       <tr class=\"athing\" id=\"31456519\">\\n        <td align=\"right\" class=\"title\" valign=\"top\">\\n         <span class=\"rank\">\\n          21.\\n         </span>\\n        </td>\\n        <td class=\"votelinks\" valign=\"top\">\\n         <center>\\n          <a href=\"vote?id=31456519&amp;how=up&amp;goto=news\" id=\"up_31456519\">\\n           <div class=\"votearrow\" title=\"upvote\">\\n           </div>\\n          </a>\\n         </center>\\n        </td>\\n        <td class=\"title\">\\n         <a class=\"titlelink\" href=\"https://www.csrhymes.com/2022/05/18/considerations-for-incremental-static-regeneration.html\">\\n          Considerations for Incremental Static Regeneration in Next.js\\n         </a>\\n         <span class=\"sitebit comhead\">\\n          (\\n          <a href=\"from?site=csrhymes.com\">\\n           <span class=\"sitestr\">\\n            csrhymes.com\\n           </span>\\n          </a>\\n          )\\n         </span>\\n        </td>\\n       </tr>\\n       <tr>\\n        <td colspan=\"2\">\\n        </td>\\n        <td class=\"subtext\">\\n         <span class=\"score\" id=\"score_31456519\">\\n          21 points\\n         </span>\\n         by\\n         <a class=\"hnuser\" href=\"user?id=rhymesey\">\\n          rhymesey\\n         </a>\\n         <span class=\"age\" title=\"2022-05-21T09:33:18\">\\n          <a href=\"item?id=31456519\">\\n           4 hours ago\\n          </a>\\n         </span>\\n         <span id=\"unv_31456519\">\\n         </span>\\n         |\\n         <a href=\"hide?id=31456519&amp;goto=news\">\\n          hide\\n         </a>\\n         |\\n         <a href=\"item?id=31456519\">\\n          7\\xa0comments\\n         </a>\\n        </td>\\n       </tr>\\n       <tr class=\"spacer\" style=\"height:5px\">\\n       </tr>\\n       <tr class=\"athing\" id=\"31455287\">\\n        <td align=\"right\" class=\"title\" valign=\"top\">\\n         <span class=\"rank\">\\n          22.\\n         </span>\\n        </td>\\n        <td class=\"votelinks\" valign=\"top\">\\n         <center>\\n          <a href=\"vote?id=31455287&amp;how=up&amp;goto=news\" id=\"up_31455287\">\\n           <div class=\"votearrow\" title=\"upvote\">\\n           </div>\\n          </a>\\n         </center>\\n        </td>\\n        <td class=\"title\">\\n         <a class=\"titlelink\" href=\"https://www.youtube.com/watch?v=8-dCIkJAjyM\">\\n          5 Megawatt Nitinol Engine by Mcdonnell Douglas (2015) [video]\\n         </a>\\n         <span class=\"sitebit comhead\">\\n          (\\n          <a href=\"from?site=youtube.com\">\\n           <span class=\"sitestr\">\\n            youtube.com\\n           </span>\\n          </a>\\n          )\\n         </span>\\n        </td>\\n       </tr>\\n       <tr>\\n        <td colspan=\"2\">\\n        </td>\\n        <td class=\"subtext\">\\n         <span class=\"score\" id=\"score_31455287\">\\n          149 points\\n         </span>\\n         by\\n         <a class=\"hnuser\" href=\"user?id=cmroanirgo\">\\n          cmroanirgo\\n         </a>\\n         <span class=\"age\" title=\"2022-05-21T04:43:20\">\\n          <a href=\"item?id=31455287\">\\n           12 hours ago\\n          </a>\\n         </span>\\n         <span id=\"unv_31455287\">\\n         </span>\\n         |\\n         <a href=\"hide?id=31455287&amp;goto=news\">\\n          hide\\n         </a>\\n         |\\n         <a href=\"item?id=31455287\">\\n          76\\xa0comments\\n         </a>\\n        </td>\\n       </tr>\\n       <tr class=\"spacer\" style=\"height:5px\">\\n       </tr>\\n       <tr class=\"athing\" id=\"31457804\">\\n        <td align=\"right\" class=\"title\" valign=\"top\">\\n         <span class=\"rank\">\\n          23.\\n         </span>\\n        </td>\\n        <td class=\"votelinks\" valign=\"top\">\\n         <center>\\n          <a href=\"vote?id=31457804&amp;how=up&amp;goto=news\" id=\"up_31457804\">\\n           <div class=\"votearrow\" title=\"upvote\">\\n           </div>\\n          </a>\\n         </center>\\n        </td>\\n        <td class=\"title\">\\n         <a class=\"titlelink\" href=\"https://www.southernliving.com/culture/tom-brown-appalachian-apple-sleuth-rare-lost-varieties\">\\n          Tom Brown Is on a Mission to Restore Appalachia\\'s Rare and Lost Apples (2021)\\n         </a>\\n         <span class=\"sitebit comhead\">\\n          (\\n          <a href=\"from?site=southernliving.com\">\\n           <span class=\"sitestr\">\\n            southernliving.com\\n           </span>\\n          </a>\\n          )\\n         </span>\\n        </td>\\n       </tr>\\n       <tr>\\n        <td colspan=\"2\">\\n        </td>\\n        <td class=\"subtext\">\\n         <span class=\"score\" id=\"score_31457804\">\\n          14 points\\n         </span>\\n         by\\n         <a class=\"hnuser\" href=\"user?id=taubek\">\\n          taubek\\n         </a>\\n         <span class=\"age\" title=\"2022-05-21T13:41:11\">\\n          <a href=\"item?id=31457804\">\\n           3 hours ago\\n          </a>\\n         </span>\\n         <span id=\"unv_31457804\">\\n         </span>\\n         |\\n         <a href=\"hide?id=31457804&amp;goto=news\">\\n          hide\\n         </a>\\n         |\\n         <a href=\"item?id=31457804\">\\n          5\\xa0comments\\n         </a>\\n        </td>\\n       </tr>\\n       <tr class=\"spacer\" style=\"height:5px\">\\n       </tr>\\n       <tr class=\"athing\" id=\"31457965\">\\n        <td align=\"right\" class=\"title\" valign=\"top\">\\n         <span class=\"rank\">\\n          24.\\n         </span>\\n        </td>\\n        <td class=\"votelinks\" valign=\"top\">\\n         <center>\\n          <a href=\"vote?id=31457965&amp;how=up&amp;goto=news\" id=\"up_31457965\">\\n           <div class=\"votearrow\" title=\"upvote\">\\n           </div>\\n          </a>\\n         </center>\\n        </td>\\n        <td class=\"title\">\\n         <a class=\"titlelink\" href=\"https://discourse.ubuntu.com/t/pipewire-as-a-replacement-for-pulseaudio/28489\">\\n          Pipewire to replace Pulseaudion on Ubuntu 22.10\\n         </a>\\n         <span class=\"sitebit comhead\">\\n          (\\n          <a href=\"from?site=ubuntu.com\">\\n           <span class=\"sitestr\">\\n            ubuntu.com\\n           </span>\\n          </a>\\n          )\\n         </span>\\n        </td>\\n       </tr>\\n       <tr>\\n        <td colspan=\"2\">\\n        </td>\\n        <td class=\"subtext\">\\n         <span class=\"score\" id=\"score_31457965\">\\n          75 points\\n         </span>\\n         by\\n         <a class=\"hnuser\" href=\"user?id=marcodiego\">\\n          marcodiego\\n         </a>\\n         <span class=\"age\" title=\"2022-05-21T13:56:26\">\\n          <a href=\"item?id=31457965\">\\n           3 hours ago\\n          </a>\\n         </span>\\n         <span id=\"unv_31457965\">\\n         </span>\\n         |\\n         <a href=\"hide?id=31457965&amp;goto=news\">\\n          hide\\n         </a>\\n         |\\n         <a href=\"item?id=31457965\">\\n          31\\xa0comments\\n         </a>\\n        </td>\\n       </tr>\\n       <tr class=\"spacer\" style=\"height:5px\">\\n       </tr>\\n       <tr class=\"athing\" id=\"31457864\">\\n        <td align=\"right\" class=\"title\" valign=\"top\">\\n         <span class=\"rank\">\\n          25.\\n         </span>\\n        </td>\\n        <td class=\"votelinks\" valign=\"top\">\\n         <center>\\n          <a href=\"vote?id=31457864&amp;how=up&amp;goto=news\" id=\"up_31457864\">\\n           <div class=\"votearrow\" title=\"upvote\">\\n           </div>\\n          </a>\\n         </center>\\n        </td>\\n        <td class=\"title\">\\n         <a class=\"titlelink\" href=\"http://intyos.free.fr/\">\\n          IntyOS, an operating system for the Intellivision (2003)\\n         </a>\\n         <span class=\"sitebit comhead\">\\n          (\\n          <a href=\"from?site=intyos.free.fr\">\\n           <span class=\"sitestr\">\\n            intyos.free.fr\\n           </span>\\n          </a>\\n          )\\n         </span>\\n        </td>\\n       </tr>\\n       <tr>\\n        <td colspan=\"2\">\\n        </td>\\n        <td class=\"subtext\">\\n         <span class=\"score\" id=\"score_31457864\">\\n          12 points\\n         </span>\\n         by\\n         <a class=\"hnuser\" href=\"user?id=classichasclass\">\\n          classichasclass\\n         </a>\\n         <span class=\"age\" title=\"2022-05-21T13:46:54\">\\n          <a href=\"item?id=31457864\">\\n           3 hours ago\\n          </a>\\n         </span>\\n         <span id=\"unv_31457864\">\\n         </span>\\n         |\\n         <a href=\"hide?id=31457864&amp;goto=news\">\\n          hide\\n         </a>\\n         |\\n         <a href=\"item?id=31457864\">\\n          discuss\\n         </a>\\n        </td>\\n       </tr>\\n       <tr class=\"spacer\" style=\"height:5px\">\\n       </tr>\\n       <tr class=\"athing\" id=\"31458021\">\\n        <td align=\"right\" class=\"title\" valign=\"top\">\\n         <span class=\"rank\">\\n          26.\\n         </span>\\n        </td>\\n        <td class=\"votelinks\" valign=\"top\">\\n         <center>\\n          <a href=\"vote?id=31458021&amp;how=up&amp;goto=news\" id=\"up_31458021\">\\n           <div class=\"votearrow\" title=\"upvote\">\\n           </div>\\n          </a>\\n         </center>\\n        </td>\\n        <td class=\"title\">\\n         <a class=\"titlelink\" href=\"https://www.wsj.com/articles/crypto-might-have-an-insider-trading-problem-11653084398\">\\n          Crypto Might Have an Insider Trading Problem\\n         </a>\\n         <span class=\"sitebit comhead\">\\n          (\\n          <a href=\"from?site=wsj.com\">\\n           <span class=\"sitestr\">\\n            wsj.com\\n           </span>\\n          </a>\\n          )\\n         </span>\\n        </td>\\n       </tr>\\n       <tr>\\n        <td colspan=\"2\">\\n        </td>\\n        <td class=\"subtext\">\\n         <span class=\"score\" id=\"score_31458021\">\\n          73 points\\n         </span>\\n         by\\n         <a class=\"hnuser\" href=\"user?id=IdEntities\">\\n          IdEntities\\n         </a>\\n         <span class=\"age\" title=\"2022-05-21T14:03:38\">\\n          <a href=\"item?id=31458021\">\\n           3 hours ago\\n          </a>\\n         </span>\\n         <span id=\"unv_31458021\">\\n         </span>\\n         |\\n         <a href=\"hide?id=31458021&amp;goto=news\">\\n          hide\\n         </a>\\n         |\\n         <a href=\"item?id=31458021\">\\n          50\\xa0comments\\n         </a>\\n        </td>\\n       </tr>\\n       <tr class=\"spacer\" style=\"height:5px\">\\n       </tr>\\n       <tr class=\"athing\" id=\"31456450\">\\n        <td align=\"right\" class=\"title\" valign=\"top\">\\n         <span class=\"rank\">\\n          27.\\n         </span>\\n        </td>\\n        <td class=\"votelinks\" valign=\"top\">\\n         <center>\\n          <a href=\"vote?id=31456450&amp;how=up&amp;goto=news\" id=\"up_31456450\">\\n           <div class=\"votearrow\" title=\"upvote\">\\n           </div>\\n          </a>\\n         </center>\\n        </td>\\n        <td class=\"title\">\\n         <a class=\"titlelink\" href=\"https://sebastianraschka.com/blog/2022/pytorch-m1-gpu.html\">\\n          Running PyTorch on the M1 GPU\\n         </a>\\n         <span class=\"sitebit comhead\">\\n          (\\n          <a href=\"from?site=sebastianraschka.com\">\\n           <span class=\"sitestr\">\\n            sebastianraschka.com\\n           </span>\\n          </a>\\n          )\\n         </span>\\n        </td>\\n       </tr>\\n       <tr>\\n        <td colspan=\"2\">\\n        </td>\\n        <td class=\"subtext\">\\n         <span class=\"score\" id=\"score_31456450\">\\n          75 points\\n         </span>\\n         by\\n         <a class=\"hnuser\" href=\"user?id=my123\">\\n          my123\\n         </a>\\n         <span class=\"age\" title=\"2022-05-21T09:16:57\">\\n          <a href=\"item?id=31456450\">\\n           8 hours ago\\n          </a>\\n         </span>\\n         <span id=\"unv_31456450\">\\n         </span>\\n         |\\n         <a href=\"hide?id=31456450&amp;goto=news\">\\n          hide\\n         </a>\\n         |\\n         <a href=\"item?id=31456450\">\\n          27\\xa0comments\\n         </a>\\n        </td>\\n       </tr>\\n       <tr class=\"spacer\" style=\"height:5px\">\\n       </tr>\\n       <tr class=\"athing\" id=\"31451889\">\\n        <td align=\"right\" class=\"title\" valign=\"top\">\\n         <span class=\"rank\">\\n          28.\\n         </span>\\n        </td>\\n        <td class=\"votelinks\" valign=\"top\">\\n         <center>\\n          <a href=\"vote?id=31451889&amp;how=up&amp;goto=news\" id=\"up_31451889\">\\n           <div class=\"votearrow\" title=\"upvote\">\\n           </div>\\n          </a>\\n         </center>\\n        </td>\\n        <td class=\"title\">\\n         <a class=\"titlelink\" href=\"https://not-matthias.github.io/posts/mechanical-keyboard/\">\\n          Building my first mechanical keyboard\\n         </a>\\n         <span class=\"sitebit comhead\">\\n          (\\n          <a href=\"from?site=not-matthias.github.io\">\\n           <span class=\"sitestr\">\\n            not-matthias.github.io\\n           </span>\\n          </a>\\n          )\\n         </span>\\n        </td>\\n       </tr>\\n       <tr>\\n        <td colspan=\"2\">\\n        </td>\\n        <td class=\"subtext\">\\n         <span class=\"score\" id=\"score_31451889\">\\n          79 points\\n         </span>\\n         by\\n         <a class=\"hnuser\" href=\"user?id=not-matthias\">\\n          not-matthias\\n         </a>\\n         <span class=\"age\" title=\"2022-05-20T20:03:03\">\\n          <a href=\"item?id=31451889\">\\n           10 hours ago\\n          </a>\\n         </span>\\n         <span id=\"unv_31451889\">\\n         </span>\\n         |\\n         <a href=\"hide?id=31451889&amp;goto=news\">\\n          hide\\n         </a>\\n         |\\n         <a href=\"item?id=31451889\">\\n          72\\xa0comments\\n         </a>\\n        </td>\\n       </tr>\\n       <tr class=\"spacer\" style=\"height:5px\">\\n       </tr>\\n       <tr class=\"athing\" id=\"31437375\">\\n        <td align=\"right\" class=\"title\" valign=\"top\">\\n         <span class=\"rank\">\\n          29.\\n         </span>\\n        </td>\\n        <td class=\"votelinks\" valign=\"top\">\\n         <center>\\n          <a href=\"vote?id=31437375&amp;how=up&amp;goto=news\" id=\"up_31437375\">\\n           <div class=\"votearrow\" title=\"upvote\">\\n           </div>\\n          </a>\\n         </center>\\n        </td>\\n        <td class=\"title\">\\n         <a class=\"titlelink\" href=\"https://bellmar.medium.com/computer-science-is-a-liberal-arts-degree-b182fd1c0ef1\">\\n          Computer science is a liberal arts degree\\n         </a>\\n         <span class=\"sitebit comhead\">\\n          (\\n          <a href=\"from?site=bellmar.medium.com\">\\n           <span class=\"sitestr\">\\n            bellmar.medium.com\\n           </span>\\n          </a>\\n          )\\n         </span>\\n        </td>\\n       </tr>\\n       <tr>\\n        <td colspan=\"2\">\\n        </td>\\n        <td class=\"subtext\">\\n         <span class=\"score\" id=\"score_31437375\">\\n          71 points\\n         </span>\\n         by\\n         <a class=\"hnuser\" href=\"user?id=mbellotti\">\\n          mbellotti\\n         </a>\\n         <span class=\"age\" title=\"2022-05-19T17:16:29\">\\n          <a href=\"item?id=31437375\">\\n           10 hours ago\\n          </a>\\n         </span>\\n         <span id=\"unv_31437375\">\\n         </span>\\n         |\\n         <a href=\"hide?id=31437375&amp;goto=news\">\\n          hide\\n         </a>\\n         |\\n         <a href=\"item?id=31437375\">\\n          106\\xa0comments\\n         </a>\\n        </td>\\n       </tr>\\n       <tr class=\"spacer\" style=\"height:5px\">\\n       </tr>\\n       <tr class=\"athing\" id=\"31457140\">\\n        <td align=\"right\" class=\"title\" valign=\"top\">\\n         <span class=\"rank\">\\n          30.\\n         </span>\\n        </td>\\n        <td class=\"votelinks\" valign=\"top\">\\n         <center>\\n          <a href=\"vote?id=31457140&amp;how=up&amp;goto=news\" id=\"up_31457140\">\\n           <div class=\"votearrow\" title=\"upvote\">\\n           </div>\\n          </a>\\n         </center>\\n        </td>\\n        <td class=\"title\">\\n         <a class=\"titlelink\" href=\"https://theconversation.com/tinnitus-seems-linked-with-sleep-understanding-how-could-bring-us-closer-to-finding-a-cure-182711\">\\n          Tinnitus Seems Linked with Sleep\\n         </a>\\n         <span class=\"sitebit comhead\">\\n          (\\n          <a href=\"from?site=theconversation.com\">\\n           <span class=\"sitestr\">\\n            theconversation.com\\n           </span>\\n          </a>\\n          )\\n         </span>\\n        </td>\\n       </tr>\\n       <tr>\\n        <td colspan=\"2\">\\n        </td>\\n        <td class=\"subtext\">\\n         <span class=\"score\" id=\"score_31457140\">\\n          103 points\\n         </span>\\n         by\\n         <a class=\"hnuser\" href=\"user?id=pseudolus\">\\n          pseudolus\\n         </a>\\n         <span class=\"age\" title=\"2022-05-21T12:02:30\">\\n          <a href=\"item?id=31457140\">\\n           5 hours ago\\n          </a>\\n         </span>\\n         <span id=\"unv_31457140\">\\n         </span>\\n         |\\n         <a href=\"hide?id=31457140&amp;goto=news\">\\n          hide\\n         </a>\\n         |\\n         <a href=\"item?id=31457140\">\\n          40\\xa0comments\\n         </a>\\n        </td>\\n       </tr>\\n       <tr class=\"spacer\" style=\"height:5px\">\\n       </tr>\\n       <tr class=\"morespace\" style=\"height:10px\">\\n       </tr>\\n       <tr>\\n        <td colspan=\"2\">\\n        </td>\\n        <td class=\"title\">\\n         <a class=\"morelink\" href=\"news?p=2\" rel=\"next\">\\n          More\\n         </a>\\n        </td>\\n       </tr>\\n      </table>\\n     </td>\\n    </tr>\\n    <tr>\\n     <td>\\n      <img height=\"10\" src=\"s.gif\" width=\"0\"/>\\n      <table cellpadding=\"1\" cellspacing=\"0\" width=\"100%\">\\n       <tr>\\n        <td bgcolor=\"#ff6600\">\\n        </td>\\n       </tr>\\n      </table>\\n      <br/>\\n      <center>\\n       <span class=\"yclinks\">\\n        <a href=\"newsguidelines.html\">\\n         Guidelines\\n        </a>\\n        |\\n        <a href=\"newsfaq.html\">\\n         FAQ\\n        </a>\\n        |\\n        <a href=\"lists\">\\n         Lists\\n        </a>\\n        |\\n        <a href=\"https://github.com/HackerNews/API\">\\n         API\\n        </a>\\n        |\\n        <a href=\"security.html\">\\n         Security\\n        </a>\\n        |\\n        <a href=\"http://www.ycombinator.com/legal/\">\\n         Legal\\n        </a>\\n        |\\n        <a href=\"http://www.ycombinator.com/apply/\">\\n         Apply to YC\\n        </a>\\n        |\\n        <a href=\"mailto:hn@ycombinator.com\">\\n         Contact\\n        </a>\\n       </span>\\n       <br/>\\n       <br/>\\n       <form action=\"//hn.algolia.com/\" method=\"get\">\\n        Search:\\n        <input autocapitalize=\"off\" autocomplete=\"false\" autocorrect=\"off\" name=\"q\" size=\"17\" spellcheck=\"false\" type=\"text\" value=\"\"/>\\n       </form>\\n      </center>\\n     </td>\\n    </tr>\\n   </table>\\n  </center>\\n </body>\\n <script src=\"hn.js?v1DKgiAnJbxahaAg6hb4\" type=\"text/javascript\">\\n </script>\\n</html>\\n'"
      ]
     },
     "execution_count": 34,
     "metadata": {},
     "output_type": "execute_result"
    }
   ],
   "source": [
    "strhtm"
   ]
  },
  {
   "cell_type": "code",
   "execution_count": 76,
   "id": "12899087",
   "metadata": {},
   "outputs": [],
   "source": [
    "class Callback:\n",
    "...   def changeColor(self, color):\n",
    "...     print('neha')\n",
    "...     print(color)\n"
   ]
  },
  {
   "cell_type": "code",
   "execution_count": null,
   "id": "13d4ea6b",
   "metadata": {},
   "outputs": [],
   "source": []
  },
  {
   "cell_type": "code",
   "execution_count": 78,
   "id": "d82d174a",
   "metadata": {},
   "outputs": [],
   "source": [
    "bj = Callback()"
   ]
  },
  {
   "cell_type": "code",
   "execution_count": 79,
   "id": "ce4b0e5b",
   "metadata": {},
   "outputs": [
    {
     "ename": "AttributeError",
     "evalue": "'Callback' object has no attribute 'color'",
     "output_type": "error",
     "traceback": [
      "\u001b[1;31m---------------------------------------------------------------------------\u001b[0m",
      "\u001b[1;31mAttributeError\u001b[0m                            Traceback (most recent call last)",
      "\u001b[1;32m~\\AppData\\Local\\Temp\\ipykernel_7092\\3152399548.py\u001b[0m in \u001b[0;36m<module>\u001b[1;34m\u001b[0m\n\u001b[1;32m----> 1\u001b[1;33m \u001b[0mbj\u001b[0m\u001b[1;33m.\u001b[0m\u001b[0mcolor\u001b[0m\u001b[1;33m\u001b[0m\u001b[1;33m\u001b[0m\u001b[0m\n\u001b[0m",
      "\u001b[1;31mAttributeError\u001b[0m: 'Callback' object has no attribute 'color'"
     ]
    }
   ],
   "source": [
    "bj.color"
   ]
  },
  {
   "cell_type": "code",
   "execution_count": 81,
   "id": "4610bd22",
   "metadata": {},
   "outputs": [
    {
     "name": "stdout",
     "output_type": "stream",
     "text": [
      "neha\n",
      "black\n"
     ]
    }
   ],
   "source": [
    "bj.changeColor('black')"
   ]
  },
  {
   "cell_type": "code",
   "execution_count": 61,
   "id": "7719d1ef",
   "metadata": {},
   "outputs": [
    {
     "data": {
      "text/plain": [
       "<bound method Callback.changeColor of <__main__.Callback object at 0x00000213929EDA00>>"
      ]
     },
     "execution_count": 61,
     "metadata": {},
     "output_type": "execute_result"
    }
   ],
   "source": [
    "bj.changeColor"
   ]
  },
  {
   "cell_type": "code",
   "execution_count": null,
   "id": "b6adebe7",
   "metadata": {},
   "outputs": [],
   "source": [
    " cb = obj.changeColor()\n"
   ]
  },
  {
   "cell_type": "code",
   "execution_count": 58,
   "id": "9d25add0",
   "metadata": {},
   "outputs": [],
   "source": [
    "a = 'nhea'"
   ]
  },
  {
   "cell_type": "code",
   "execution_count": 59,
   "id": "f2a4cc31",
   "metadata": {},
   "outputs": [
    {
     "data": {
      "text/plain": [
       "['__add__',\n",
       " '__class__',\n",
       " '__contains__',\n",
       " '__delattr__',\n",
       " '__dir__',\n",
       " '__doc__',\n",
       " '__eq__',\n",
       " '__format__',\n",
       " '__ge__',\n",
       " '__getattribute__',\n",
       " '__getitem__',\n",
       " '__getnewargs__',\n",
       " '__gt__',\n",
       " '__hash__',\n",
       " '__init__',\n",
       " '__init_subclass__',\n",
       " '__iter__',\n",
       " '__le__',\n",
       " '__len__',\n",
       " '__lt__',\n",
       " '__mod__',\n",
       " '__mul__',\n",
       " '__ne__',\n",
       " '__new__',\n",
       " '__reduce__',\n",
       " '__reduce_ex__',\n",
       " '__repr__',\n",
       " '__rmod__',\n",
       " '__rmul__',\n",
       " '__setattr__',\n",
       " '__sizeof__',\n",
       " '__str__',\n",
       " '__subclasshook__',\n",
       " 'capitalize',\n",
       " 'casefold',\n",
       " 'center',\n",
       " 'count',\n",
       " 'encode',\n",
       " 'endswith',\n",
       " 'expandtabs',\n",
       " 'find',\n",
       " 'format',\n",
       " 'format_map',\n",
       " 'index',\n",
       " 'isalnum',\n",
       " 'isalpha',\n",
       " 'isascii',\n",
       " 'isdecimal',\n",
       " 'isdigit',\n",
       " 'isidentifier',\n",
       " 'islower',\n",
       " 'isnumeric',\n",
       " 'isprintable',\n",
       " 'isspace',\n",
       " 'istitle',\n",
       " 'isupper',\n",
       " 'join',\n",
       " 'ljust',\n",
       " 'lower',\n",
       " 'lstrip',\n",
       " 'maketrans',\n",
       " 'partition',\n",
       " 'removeprefix',\n",
       " 'removesuffix',\n",
       " 'replace',\n",
       " 'rfind',\n",
       " 'rindex',\n",
       " 'rjust',\n",
       " 'rpartition',\n",
       " 'rsplit',\n",
       " 'rstrip',\n",
       " 'split',\n",
       " 'splitlines',\n",
       " 'startswith',\n",
       " 'strip',\n",
       " 'swapcase',\n",
       " 'title',\n",
       " 'translate',\n",
       " 'upper',\n",
       " 'zfill']"
      ]
     },
     "execution_count": 59,
     "metadata": {},
     "output_type": "execute_result"
    }
   ],
   "source": [
    "dir(a)"
   ]
  },
  {
   "cell_type": "code",
   "execution_count": null,
   "id": "eb3b662c",
   "metadata": {},
   "outputs": [],
   "source": []
  }
 ],
 "metadata": {
  "kernelspec": {
   "display_name": "Python 3 (ipykernel)",
   "language": "python",
   "name": "python3"
  },
  "language_info": {
   "codemirror_mode": {
    "name": "ipython",
    "version": 3
   },
   "file_extension": ".py",
   "mimetype": "text/x-python",
   "name": "python",
   "nbconvert_exporter": "python",
   "pygments_lexer": "ipython3",
   "version": "3.9.13"
  }
 },
 "nbformat": 4,
 "nbformat_minor": 5
}
